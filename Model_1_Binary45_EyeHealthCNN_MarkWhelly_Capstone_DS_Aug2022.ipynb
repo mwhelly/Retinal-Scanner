{
 "cells": [
  {
   "cell_type": "markdown",
   "id": "3f2b7db0",
   "metadata": {},
   "source": [
    "# RETINAL SCANNER Model 1\n",
    "\n",
    "## Binary Retinal Image Classifier - \n",
    "## Normal vs Unhealthy (45 Diseases pooled) \n",
    "\n",
    "### August 2022\n",
    "\n",
    "## *PROBLEM STATEMENT*: This is the first of 5 models developed at part of the Retinal Scanner Project.  \n",
    "\n",
    "\n",
    "## MODEL 1 is a binary image classifier developed to screen retinal images as healthy or diseased, using 3200 images with 45 different diseases present.##\n",
    "\n",
    "\n",
    "Models 2-5 were later developed, to offer different tools for detecting single diseases (models 2, 3, 4) or one of five key diseases (Model 5).  Therefore there are 5 models associated with this project, which may be applied separately or together to evaluate image sets.\n",
    "\n",
    "The models are based on a transfer learning model using InceptionV3 convolutional neural network (CNN) model, Python and Tensorflow.\n",
    "\n",
    "**The following code was run within the Google Colab Environment.**"
   ]
  },
  {
   "cell_type": "code",
   "execution_count": 1,
   "id": "6335b876",
   "metadata": {
    "executionInfo": {
     "elapsed": 4,
     "status": "ok",
     "timestamp": 1659203818919,
     "user": {
      "displayName": "Mark Whelly",
      "userId": "14089540614639207633"
     },
     "user_tz": 240
    },
    "id": "-6rAvFG97Ihs"
   },
   "outputs": [],
   "source": [
    "import os"
   ]
  },
  {
   "cell_type": "code",
   "execution_count": 2,
   "id": "b5005429",
   "metadata": {
    "executionInfo": {
     "elapsed": 4,
     "status": "ok",
     "timestamp": 1659203819878,
     "user": {
      "displayName": "Mark Whelly",
      "userId": "14089540614639207633"
     },
     "user_tz": 240
    },
    "id": "Tl-V90uI7OWT"
   },
   "outputs": [
    {
     "ename": "ImportError",
     "evalue": "No module named 'google.colab'",
     "output_type": "error",
     "traceback": [
      "\u001b[0;31m---------------------------------------------------------------------------\u001b[0m",
      "\u001b[0;31mImportError\u001b[0m                               Traceback (most recent call last)",
      "\u001b[0;32m<ipython-input-2-f045e1081d89>\u001b[0m in \u001b[0;36m<module>\u001b[0;34m()\u001b[0m\n\u001b[0;32m----> 1\u001b[0;31m \u001b[0;32mfrom\u001b[0m \u001b[0mgoogle\u001b[0m\u001b[0;34m.\u001b[0m\u001b[0mcolab\u001b[0m \u001b[0;32mimport\u001b[0m \u001b[0mdrive\u001b[0m\u001b[0;34m\u001b[0m\u001b[0m\n\u001b[0m",
      "\u001b[0;31mImportError\u001b[0m: No module named 'google.colab'"
     ]
    }
   ],
   "source": [
    "# this is available within Google Colab\n",
    "from google.colab import drive"
   ]
  },
  {
   "cell_type": "code",
   "execution_count": 3,
   "id": "2ab7c1c2",
   "metadata": {
    "colab": {
     "base_uri": "https://localhost:8080/"
    },
    "executionInfo": {
     "elapsed": 16712,
     "status": "ok",
     "timestamp": 1659203837565,
     "user": {
      "displayName": "Mark Whelly",
      "userId": "14089540614639207633"
     },
     "user_tz": 240
    },
    "id": "AOY9CndC7Q7i",
    "outputId": "636bf906-0c75-4753-8bb9-e6f10c73b0e7"
   },
   "outputs": [
    {
     "name": "stdout",
     "output_type": "stream",
     "text": [
      "Mounted at /gdrive\n"
     ]
    }
   ],
   "source": [
    "drive.mount('/gdrive')"
   ]
  },
  {
   "cell_type": "code",
   "execution_count": 4,
   "id": "46bbad9b",
   "metadata": {
    "colab": {
     "base_uri": "https://localhost:8080/"
    },
    "executionInfo": {
     "elapsed": 247,
     "status": "ok",
     "timestamp": 1659204179726,
     "user": {
      "displayName": "Mark Whelly",
      "userId": "14089540614639207633"
     },
     "user_tz": 240
    },
    "id": "DHZ6QB2u89CM",
    "outputId": "1a8e77ba-2535-43cd-a23b-9f09a7cf8a41"
   },
   "outputs": [
    {
     "name": "stdout",
     "output_type": "stream",
     "text": [
      "/gdrive/My Drive/Retimages/Train\n"
     ]
    }
   ],
   "source": [
    "cd/gdrive/My Drive/Retimages/Train/"
   ]
  },
  {
   "cell_type": "code",
   "execution_count": 3,
   "id": "c3f9fcbc",
   "metadata": {
    "executionInfo": {
     "elapsed": 316,
     "status": "ok",
     "timestamp": 1659204188998,
     "user": {
      "displayName": "Mark Whelly",
      "userId": "14089540614639207633"
     },
     "user_tz": 240
    },
    "id": "64472b52"
   },
   "outputs": [
    {
     "ename": "ImportError",
     "evalue": "No module named 'google.colab'",
     "output_type": "error",
     "traceback": [
      "\u001b[0;31m---------------------------------------------------------------------------\u001b[0m",
      "\u001b[0;31mImportError\u001b[0m                               Traceback (most recent call last)",
      "\u001b[0;32m<ipython-input-3-112ddca8b50a>\u001b[0m in \u001b[0;36m<module>\u001b[0;34m()\u001b[0m\n\u001b[1;32m     14\u001b[0m \u001b[0;32mfrom\u001b[0m \u001b[0mtensorflow\u001b[0m\u001b[0;34m.\u001b[0m\u001b[0mkeras\u001b[0m\u001b[0;34m.\u001b[0m\u001b[0mlayers\u001b[0m \u001b[0;32mimport\u001b[0m \u001b[0mFlatten\u001b[0m\u001b[0;34m\u001b[0m\u001b[0m\n\u001b[1;32m     15\u001b[0m \u001b[0;32mfrom\u001b[0m \u001b[0mtensorflow\u001b[0m\u001b[0;34m.\u001b[0m\u001b[0mkeras\u001b[0m\u001b[0;34m.\u001b[0m\u001b[0mlayers\u001b[0m \u001b[0;32mimport\u001b[0m \u001b[0mDense\u001b[0m\u001b[0;34m\u001b[0m\u001b[0m\n\u001b[0;32m---> 16\u001b[0;31m \u001b[0;32mfrom\u001b[0m \u001b[0mgoogle\u001b[0m\u001b[0;34m.\u001b[0m\u001b[0mcolab\u001b[0m\u001b[0;34m.\u001b[0m\u001b[0mpatches\u001b[0m \u001b[0;32mimport\u001b[0m \u001b[0mcv2_imshow\u001b[0m\u001b[0;34m\u001b[0m\u001b[0m\n\u001b[0m\u001b[1;32m     17\u001b[0m \u001b[0;32mimport\u001b[0m \u001b[0mrandom\u001b[0m\u001b[0;34m\u001b[0m\u001b[0m\n\u001b[1;32m     18\u001b[0m \u001b[0;32mimport\u001b[0m \u001b[0mcv2\u001b[0m\u001b[0;34m\u001b[0m\u001b[0m\n",
      "\u001b[0;31mImportError\u001b[0m: No module named 'google.colab'"
     ]
    }
   ],
   "source": [
    "# import libraries and packages\n",
    "import numpy as np \n",
    "import pandas as pd\n",
    "import zipfile\n",
    "import csv\n",
    "import tensorflow as tf\n",
    "from tensorflow.keras import Model\n",
    "from tensorflow.keras import layers\n",
    "from tensorflow.keras.optimizers import RMSprop\n",
    "from tensorflow.keras.applications.inception_v3 import InceptionV3\n",
    "from tensorflow.keras.preprocessing.image import ImageDataGenerator\n",
    "from sklearn.metrics import confusion_matrix\n",
    "from tensorflow.keras.layers import Dropout\n",
    "from tensorflow.keras.layers import Flatten\n",
    "from tensorflow.keras.layers import Dense\n",
    "from google.colab.patches import cv2_imshow\n",
    "import random\n",
    "import cv2\n",
    "%matplotlib inline\n",
    "import matplotlib\n",
    "import matplotlib.pyplot as plt\n",
    "import matplotlib.image as mpimg\n",
    "import seaborn as sns\n",
    "import shutil\n",
    "\n",
    "# Import skimage modules\n",
    "import skimage\n",
    "import skimage.io\n",
    "from matplotlib import pyplot as plt\n",
    "\n",
    "from matplotlib.pyplot import imread, imshow, show, subplot, title, get_cmap, hist\n",
    "from skimage.exposure import equalize_hist\n",
    "\n",
    "from pathlib import Path"
   ]
  },
  {
   "cell_type": "markdown",
   "id": "602a4267",
   "metadata": {},
   "source": [
    "# PART 1 - Data Preparation and Organization\n"
   ]
  },
  {
   "cell_type": "markdown",
   "id": "0242ad85",
   "metadata": {},
   "source": [
    "The 3200 colour images from the kaggle data set (Retinal Disease Classification, by Larxel) were already downloaded and grouped into folders (Train, Validation, Test groups, with subfoders 'normal' and 'abnormal' within each of the 3 groups). This was done in **Part 1 data EDA Notebook** separately. Work is being done using my Google Drive and Google Colab to allow better computational speed.\n",
    "\n",
    "There were 2560 disease images and 640 healthy images, therefore it was an imbalanced dataset for Model 1 and data augmentation was used to increase the number of healthy images to be similar to disease image datasets.\n",
    "\n",
    "*NOTE: Initial modeling of the dataset was done (not shown), and then images were pre-processed and results were greatly improved (recall, precision, accuracy). Therefore, only the Model 1 results with pre-processed images are coded here.*\n",
    "\n",
    "The following creates copies of images, applying pre-processing based on contrast histogram equalization (EQH). \n",
    "\n",
    "Grouping Training images into separate folders per class (0 Normal, 1 Disease) within Retimages/Train/TrainEQH directory on Google Colab.\n",
    "\n",
    "Similarly, Validation images were grouped into subfolder per 2 classes, within Retimages/Validation/ValidEQH, and Test images grouped into Retimages/Test/TestEQH.\n",
    "\n",
    "\n",
    "# THIS TEXT IS FOR MODEL 2 and ONWARDS:\n",
    "**The first model (MODEL 1: Binary Classifier with all 45 diseases included) used all 3200 images (2560 with one or more diseases present, and 640 healthy images). However, for subsequent models 2-5, I worked in MS Excel to quickly filter out all images with multiple disease conditions and develop a separate label CSV file to be used for Train, Validation, and Test sets for that modeling run. This was done to aid computer in identifying each disease of interest and avoiding confusion between multiple diseases in the same eye.**"
   ]
  },
  {
   "cell_type": "code",
   "execution_count": null,
   "id": "628499e9",
   "metadata": {},
   "outputs": [],
   "source": [
    "# set random seed\n",
    "tf.random.set_seed(42)"
   ]
  },
  {
   "cell_type": "code",
   "execution_count": 22,
   "id": "47409817",
   "metadata": {
    "executionInfo": {
     "elapsed": 225,
     "status": "ok",
     "timestamp": 1659213042923,
     "user": {
      "displayName": "Mark Whelly",
      "userId": "14089540614639207633"
     },
     "user_tz": 240
    },
    "id": "7DpEo6bY0de6"
   },
   "outputs": [],
   "source": [
    "# Preprocessing function to apply to all images\n",
    "\n",
    "def hist_equalize(im, clahe=True, bgr=True):\n",
    "    # Equalize histogram on BGR image 'im' with im.shape(n,m,3) and range 0-255\n",
    "    yuv = cv2.cvtColor(im, cv2.COLOR_BGR2YUV if bgr else cv2.COLOR_RGB2YUV)\n",
    "    if clahe:\n",
    "        c = cv2.createCLAHE(clipLimit=2.0, tileGridSize=(8, 8))\n",
    "        yuv[:, :, 0] = c.apply(yuv[:, :, 0])\n",
    "    else:\n",
    "        yuv[:, :, 0] = cv2.equalizeHist(yuv[:, :, 0])  # equalize Y channel histogram\n",
    "    return cv2.cvtColor(yuv, cv2.COLOR_YUV2BGR if bgr else cv2.COLOR_YUV2RGB)  # convert YUV image to RGB\n"
   ]
  },
  {
   "cell_type": "code",
   "execution_count": 41,
   "id": "6e2d3242",
   "metadata": {
    "colab": {
     "base_uri": "https://localhost:8080/"
    },
    "executionInfo": {
     "elapsed": 221,
     "status": "ok",
     "timestamp": 1659213829264,
     "user": {
      "displayName": "Mark Whelly",
      "userId": "14089540614639207633"
     },
     "user_tz": 240
    },
    "id": "rRbKdQZbk3qd",
    "outputId": "5d917ce2-b4a7-4e9e-85c9-3795b22eaac0"
   },
   "outputs": [
    {
     "name": "stdout",
     "output_type": "stream",
     "text": [
      "/gdrive/My Drive/Retimages/Train/Training\n"
     ]
    }
   ],
   "source": [
    "cd/gdrive/My Drive/Retimages/Train/Training"
   ]
  },
  {
   "cell_type": "code",
   "execution_count": null,
   "id": "2cda9c4d",
   "metadata": {
    "id": "L8vLB3zvRbLR"
   },
   "outputs": [],
   "source": [
    "# Sets up origin/destination path for copying files and transforming them.\n",
    "\n",
    "# applying hist_equalize to all images (Train/Validation/Test, and Normal/Abnormal)\n",
    "from skimage import data, img_as_float\n",
    "from skimage import exposure\n",
    "\n",
    "#import cv2\n",
    "from tensorflow.python.keras.utils.data_utils import Sequence\n",
    "import warnings\n",
    "warnings.filterwarnings(\"ignore\")\n",
    "\n",
    "destination_path = '/gdrive/My Drive/Retimages/Validation/ValidEQH/1Abnormal/'\n",
    "origin_path = '/gdrive/My Drive/Retimages/Validation/Valid/1Abnormal/'\n",
    "\n",
    "format_of_your_images = '.png'\n",
    "all_the_files = Path(origin_path).rglob(f'*{format_of_your_images}')"
   ]
  },
  {
   "cell_type": "code",
   "execution_count": null,
   "id": "73671bf2",
   "metadata": {
    "id": "HyHFu1L-B-SC"
   },
   "outputs": [],
   "source": [
    "# This transforms images using histogram equalization.\n",
    "\n",
    "for f in all_the_files:\n",
    "  img_in = cv2.imread(str(f))\n",
    "  #  transformation\n",
    "  img_histeq = hist_equalize(img_in)\n",
    "  #writing to target folder\n",
    "  cv2.imwrite(f'{destination_path}/{f.name}', img_histeq)"
   ]
  },
  {
   "cell_type": "code",
   "execution_count": 49,
   "id": "d1ad81ab",
   "metadata": {
    "colab": {
     "base_uri": "https://localhost:8080/"
    },
    "executionInfo": {
     "elapsed": 183,
     "status": "ok",
     "timestamp": 1659214740463,
     "user": {
      "displayName": "Mark Whelly",
      "userId": "14089540614639207633"
     },
     "user_tz": 240
    },
    "id": "cCM9MDBIIx3P",
    "outputId": "16b0d684-008f-4c77-c864-981ccd3eec48"
   },
   "outputs": [
    {
     "name": "stdout",
     "output_type": "stream",
     "text": [
      "/gdrive/My Drive/Retimages\n"
     ]
    }
   ],
   "source": [
    "cd/gdrive/My Drive/Retimages/"
   ]
  },
  {
   "cell_type": "code",
   "execution_count": 20,
   "id": "24f490a9",
   "metadata": {
    "executionInfo": {
     "elapsed": 79028,
     "status": "ok",
     "timestamp": 1659207529923,
     "user": {
      "displayName": "Mark Whelly",
      "userId": "14089540614639207633"
     },
     "user_tz": 240
    },
    "id": "WRm2ENenOiOw"
   },
   "outputs": [],
   "source": [
    "# Augments the number of Normal images for the Training Set, to rebalance classes as needed.\n",
    "\n",
    "# This was done iteratively for each Normal set (Train, Valid),\n",
    "# as there were far more Diseased images than Normal.\n",
    "\n",
    "from keras.preprocessing.image import ImageDataGenerator\n",
    "from skimage import io\n",
    "datagen = ImageDataGenerator(        \n",
    "        rotation_range = 40,\n",
    "        vertical_flip = True,\n",
    "        horizontal_flip = True,\n",
    "        brightness_range = (1, 1.4))\n",
    "import numpy as np\n",
    "import os\n",
    "from PIL import Image\n",
    "\n",
    "# augmenting Normal Training set of 134 pics:\n",
    "image_directory = os.path.join('./Training/TrainEQH/0Normal/')\n",
    "dataset = []\n",
    "my_images = os.listdir(image_directory)\n",
    "for i, image_name in enumerate(my_images):    \n",
    "    if (image_name.split('.')[1] == 'png'):        \n",
    "        image = io.imread(image_directory + image_name)        \n",
    "        image = Image.fromarray(image, 'RGB')        \n",
    "        image = image.resize((2144,1424)) \n",
    "        dataset.append(np.array(image))\n",
    "x = np.array(dataset)\n",
    "i = 0\n",
    "for batch in datagen.flow(x, batch_size=10,\n",
    "                          save_to_dir= os.path.join('./Training/TrainEQH/aug2nd/'),\n",
    "                          save_prefix='dr4',\n",
    "                          save_format='png'):    \n",
    "    i += 1    \n",
    "    if i > 13:        \n",
    "        break"
   ]
  },
  {
   "cell_type": "code",
   "execution_count": null,
   "id": "0c2073b7",
   "metadata": {},
   "outputs": [],
   "source": [
    "# Augments the number of normal images for the Validation Set\n",
    "\n",
    "# augmenting Normal Validation set of 134 pics:\n",
    "image_directory = os.path.join('./Validation/ValidEQH/0Normal/')\n",
    "dataset = []\n",
    "my_images = os.listdir(image_directory)\n",
    "for i, image_name in enumerate(my_images):    \n",
    "    if (image_name.split('.')[1] == 'png'):        \n",
    "        image = io.imread(image_directory + image_name)        \n",
    "        image = Image.fromarray(image, 'RGB')        \n",
    "        image = image.resize((2144,1424)) \n",
    "        dataset.append(np.array(image))\n",
    "x = np.array(dataset)\n",
    "i = 0\n",
    "for batch in datagen.flow(x, batch_size=10,\n",
    "                          save_to_dir= os.path.join('./Validation/ValidEQH/aug2nd/'),\n",
    "                          save_prefix='dr4',\n",
    "                          save_format='png'):    \n",
    "    i += 1    \n",
    "    if i > 13:        \n",
    "        break"
   ]
  },
  {
   "cell_type": "code",
   "execution_count": null,
   "id": "1db7723c",
   "metadata": {},
   "outputs": [],
   "source": []
  },
  {
   "cell_type": "code",
   "execution_count": 51,
   "id": "267dab93",
   "metadata": {
    "colab": {
     "base_uri": "https://localhost:8080/"
    },
    "executionInfo": {
     "elapsed": 11706,
     "status": "ok",
     "timestamp": 1659214756833,
     "user": {
      "displayName": "Mark Whelly",
      "userId": "14089540614639207633"
     },
     "user_tz": 240
    },
    "id": "a87e4b18",
    "outputId": "e007fe80-2739-4867-ad27-b356962a22e3"
   },
   "outputs": [
    {
     "name": "stdout",
     "output_type": "stream",
     "text": [
      "total training images with abnormalities: 1519\n",
      "total training images of normal eyes: 1548\n"
     ]
    }
   ],
   "source": [
    "# count files per group\n",
    "train_abnormal_dir = os.path.join('./Train/TrainEQH/1Abnormal')\n",
    "train_normal_dir = os.path.join('./Train/TrainEQH/0Normal')\n",
    "train_abnormal_names = os.listdir(train_abnormal_dir)\n",
    "train_normal_names = os.listdir(train_normal_dir)\n",
    "print('total training images with abnormalities:', len(os.listdir(train_abnormal_dir)))\n",
    "print('total training images of normal eyes:', len(os.listdir(train_normal_dir)))"
   ]
  },
  {
   "cell_type": "code",
   "execution_count": 52,
   "id": "f635edf9",
   "metadata": {
    "colab": {
     "base_uri": "https://localhost:8080/"
    },
    "executionInfo": {
     "elapsed": 1923,
     "status": "ok",
     "timestamp": 1659214761056,
     "user": {
      "displayName": "Mark Whelly",
      "userId": "14089540614639207633"
     },
     "user_tz": 240
    },
    "id": "b77bf7db",
    "outputId": "63a55ee2-231e-44d5-d851-8f60b690a68b"
   },
   "outputs": [
    {
     "name": "stdout",
     "output_type": "stream",
     "text": [
      "total validation images with abnormalities: 505\n",
      "total validation images of normal eyes: 508\n"
     ]
    }
   ],
   "source": [
    "validation_abnormal_dir = os.path.join('./Validation/ValidEQH/1Abnormal')\n",
    "validation_normal_dir = os.path.join('./Validation/ValidEQH/0Normal')\n",
    "validation_abnormal_names = os.listdir(validation_abnormal_dir)\n",
    "validation_normal_names = os.listdir(validation_normal_dir)\n",
    "print('total validation images with abnormalities:', len(os.listdir(validation_abnormal_dir)))\n",
    "print('total validation images of normal eyes:', len(os.listdir(validation_normal_dir)))"
   ]
  },
  {
   "cell_type": "code",
   "execution_count": 53,
   "id": "66d6b370",
   "metadata": {
    "colab": {
     "base_uri": "https://localhost:8080/"
    },
    "executionInfo": {
     "elapsed": 2114,
     "status": "ok",
     "timestamp": 1659214783401,
     "user": {
      "displayName": "Mark Whelly",
      "userId": "14089540614639207633"
     },
     "user_tz": 240
    },
    "id": "QxvFZBWdHgsr",
    "outputId": "190efdab-795d-4707-97fd-470110ab6d56"
   },
   "outputs": [
    {
     "name": "stdout",
     "output_type": "stream",
     "text": [
      "total Test images with abnormalities: 506\n",
      "total Test images of normal eyes: 401\n"
     ]
    }
   ],
   "source": [
    "test_abnormal_dir = os.path.join('./Test/TestEQH/1Abnormal')\n",
    "test_normal_dir = os.path.join('./Test/TestEQH/0Normal')\n",
    "test_abnormal_names = os.listdir(test_abnormal_dir)\n",
    "test_normal_names = os.listdir(test_normal_dir)\n",
    "print('total Test images with abnormalities:', len(os.listdir(test_abnormal_dir)))\n",
    "print('total Test images of normal eyes:', len(os.listdir(test_normal_dir)))"
   ]
  },
  {
   "cell_type": "markdown",
   "id": "989c8b5d",
   "metadata": {
    "id": "_ObeCUtmaYjb"
   },
   "source": [
    "The dataset was presplit into train:validation:test sets with 60/20/20 ratios, from the kaggle website. The ratio of healthy to disease eye images was maintained the same in train, test and validation sets."
   ]
  },
  {
   "cell_type": "markdown",
   "id": "d4991cdf",
   "metadata": {},
   "source": [
    "## Image Data Generators"
   ]
  },
  {
   "cell_type": "code",
   "execution_count": null,
   "id": "a3de4f2f",
   "metadata": {
    "colab": {
     "base_uri": "https://localhost:8080/"
    },
    "executionInfo": {
     "elapsed": 5,
     "status": "ok",
     "timestamp": 1659201431863,
     "user": {
      "displayName": "Mark Whelly",
      "userId": "14089540614639207633"
     },
     "user_tz": 240
    },
    "id": "b3b0e303",
    "outputId": "57a1ade2-d538-465b-f806-9bb51463949a"
   },
   "outputs": [
    {
     "name": "stdout",
     "output_type": "stream",
     "text": [
      "Found 3067 images belonging to 2 classes.\n"
     ]
    }
   ],
   "source": [
    "# Contrast Equalized images were used for the model.\n",
    "# Images imported here\n",
    "\n",
    "height = 178\n",
    "weight = 268\n",
    "BATCH_SIZE = 64\n",
    "\n",
    "train_datagen = ImageDataGenerator(rescale = 1./255.,\n",
    "                                   rotation_range = 25,\n",
    "                                   brightness_range=(1,1.3),\n",
    "                                   vertical_flip = True,\n",
    "                                   horizontal_flip = True,\n",
    "                                   fill_mode='constant',cval=1)\n",
    "\n",
    "\n",
    "train_generator = train_datagen.flow_from_directory('./Train/TrainEQH', \n",
    "                                                    target_size=(height,weight), \n",
    "                                                    color_mode='rgb',\n",
    "                                                    batch_size=BATCH_SIZE,\n",
    "                                                    shuffle=True,\n",
    "                                                    class_mode='categorical')"
   ]
  },
  {
   "cell_type": "code",
   "execution_count": null,
   "id": "eb90eb54",
   "metadata": {
    "id": "zKP4dhmPMM6M"
   },
   "outputs": [],
   "source": [
    "# define x_train and y_train from train generator: \n",
    "x_tr, y_tr = train_generator.next() "
   ]
  },
  {
   "cell_type": "code",
   "execution_count": null,
   "id": "56654e8c",
   "metadata": {
    "colab": {
     "base_uri": "https://localhost:8080/"
    },
    "executionInfo": {
     "elapsed": 208,
     "status": "ok",
     "timestamp": 1659146910758,
     "user": {
      "displayName": "Mark Whelly",
      "userId": "14089540614639207633"
     },
     "user_tz": 240
    },
    "id": "8dd0ee5b",
    "outputId": "be76f332-cce7-469d-a595-5b9340ccf8d8",
    "scrolled": true
   },
   "outputs": [
    {
     "name": "stdout",
     "output_type": "stream",
     "text": [
      "Found 1045 images belonging to 2 classes.\n"
     ]
    }
   ],
   "source": [
    "validation_datagen = ImageDataGenerator(rescale=1/255)\n",
    "validation_generator = validation_datagen.flow_from_directory('./Validation/ValidEQH', \n",
    "                                                              target_size=(height,weight),\n",
    "                                                              color_mode='rgb',\n",
    "                                                              batch_size=BATCH_SIZE,\n",
    "                                                              shuffle=True,\n",
    "                                                              class_mode='categorical')"
   ]
  },
  {
   "cell_type": "code",
   "execution_count": null,
   "id": "3e29102e",
   "metadata": {
    "colab": {
     "base_uri": "https://localhost:8080/"
    },
    "executionInfo": {
     "elapsed": 484,
     "status": "ok",
     "timestamp": 1659133287929,
     "user": {
      "displayName": "Mark Whelly",
      "userId": "14089540614639207633"
     },
     "user_tz": 240
    },
    "id": "nswsXw8JzoB2",
    "outputId": "9483fea7-c2eb-47db-eab9-f1dac2d84397"
   },
   "outputs": [
    {
     "data": {
      "text/plain": [
       "{'0Normal': 0, '1Abnormal': 1}"
      ]
     },
     "execution_count": 19,
     "metadata": {},
     "output_type": "execute_result"
    }
   ],
   "source": [
    "train_generator.class_indices"
   ]
  },
  {
   "cell_type": "code",
   "execution_count": null,
   "id": "faab039d",
   "metadata": {
    "colab": {
     "base_uri": "https://localhost:8080/"
    },
    "executionInfo": {
     "elapsed": 5,
     "status": "ok",
     "timestamp": 1659133290019,
     "user": {
      "displayName": "Mark Whelly",
      "userId": "14089540614639207633"
     },
     "user_tz": 240
    },
    "id": "fAofdWsxz7Ym",
    "outputId": "399bb5b1-4f3f-48c4-b68c-d191d69581ee"
   },
   "outputs": [
    {
     "data": {
      "text/plain": [
       "{'0Normal': 0, '1Abnormal': 1}"
      ]
     },
     "execution_count": 20,
     "metadata": {},
     "output_type": "execute_result"
    }
   ],
   "source": [
    "validation_generator.class_indices"
   ]
  },
  {
   "cell_type": "markdown",
   "id": "169d0cb0",
   "metadata": {},
   "source": [
    "# Pretrained CNN Model"
   ]
  },
  {
   "cell_type": "code",
   "execution_count": null,
   "id": "c9b346d6",
   "metadata": {
    "id": "73a6d61f"
   },
   "outputs": [],
   "source": [
    "# Load pretrained model libraries\n",
    "from tensorflow.keras.models import Model\n",
    "from tensorflow.keras.models import load_model\n",
    "from tensorflow.keras.applications.inception_v3 import InceptionV3"
   ]
  },
  {
   "cell_type": "code",
   "execution_count": null,
   "id": "e5c79785",
   "metadata": {
    "colab": {
     "base_uri": "https://localhost:8080/"
    },
    "executionInfo": {
     "elapsed": 6745,
     "status": "ok",
     "timestamp": 1659146929480,
     "user": {
      "displayName": "Mark Whelly",
      "userId": "14089540614639207633"
     },
     "user_tz": 240
    },
    "id": "af74ffb4",
    "outputId": "21255645-ea8d-4647-ea66-997da204b162",
    "scrolled": true
   },
   "outputs": [
    {
     "name": "stdout",
     "output_type": "stream",
     "text": [
      "Downloading data from https://storage.googleapis.com/tensorflow/keras-applications/inception_v3/inception_v3_weights_tf_dim_ordering_tf_kernels_notop.h5\n",
      "87916544/87910968 [==============================] - 1s 0us/step\n",
      "87924736/87910968 [==============================] - 1s 0us/step\n"
     ]
    }
   ],
   "source": [
    "# load InceptionNetV3 model\n",
    "model=InceptionV3(weights='imagenet',\n",
    "                  include_top=False,\n",
    "                  input_shape=(height,weight,3))"
   ]
  },
  {
   "cell_type": "markdown",
   "id": "fc72378b",
   "metadata": {},
   "source": [
    "# Transfer Learning Model"
   ]
  },
  {
   "cell_type": "code",
   "execution_count": null,
   "id": "1d8a8b6f",
   "metadata": {
    "id": "16f9af9a"
   },
   "outputs": [],
   "source": [
    "# Freeze all the layers in the base model\n",
    "for layer in model.layers:\n",
    "    layer.trainable = False\n",
    "\n",
    "# remove last 2 layers of base InceptionV3 model\n",
    "front_output = model.layers[-2].output\n",
    "\n",
    "# Dropout Layer\n",
    "dl_output = Dropout(0.1)(front_output) # to be tuned\n",
    "\n",
    "# add flatten layer and dense fully connected layers\n",
    "flat_output = Flatten()(dl_output)\n",
    "d1 = Dense(256, activation='relu')(flat_output)\n",
    "d2 = Dense(48, activation='relu')(d1)\n",
    "d3 = Dense(12, activation='relu')(d2)\n",
    "\n",
    "# add output layer\n",
    "output = Dense(2, activation='softmax')(d3)  \n",
    "\n",
    "# create final model object\n",
    "model = Model(inputs=model.input, \n",
    "              outputs=output)"
   ]
  },
  {
   "cell_type": "code",
   "execution_count": null,
   "id": "722366d5",
   "metadata": {
    "colab": {
     "base_uri": "https://localhost:8080/"
    },
    "executionInfo": {
     "elapsed": 2346,
     "status": "ok",
     "timestamp": 1659146938196,
     "user": {
      "displayName": "Mark Whelly",
      "userId": "14089540614639207633"
     },
     "user_tz": 240
    },
    "id": "a1f8cef5",
    "outputId": "d9c51018-cad9-4b56-8268-db89ccd094fa",
    "scrolled": true
   },
   "outputs": [
    {
     "name": "stdout",
     "output_type": "stream",
     "text": [
      "Model: \"model\"\n",
      "__________________________________________________________________________________________________\n",
      " Layer (type)                   Output Shape         Param #     Connected to                     \n",
      "==================================================================================================\n",
      " input_1 (InputLayer)           [(None, 267, 402, 3  0           []                               \n",
      "                                )]                                                                \n",
      "                                                                                                  \n",
      " conv2d (Conv2D)                (None, 133, 200, 32  864         ['input_1[0][0]']                \n",
      "                                )                                                                 \n",
      "                                                                                                  \n",
      " batch_normalization (BatchNorm  (None, 133, 200, 32  96         ['conv2d[0][0]']                 \n",
      " alization)                     )                                                                 \n",
      "                                                                                                  \n",
      " activation (Activation)        (None, 133, 200, 32  0           ['batch_normalization[0][0]']    \n",
      "                                )                                                                 \n",
      "                                                                                                  \n",
      " conv2d_1 (Conv2D)              (None, 131, 198, 32  9216        ['activation[0][0]']             \n",
      "                                )                                                                 \n",
      "                                                                                                  \n",
      " batch_normalization_1 (BatchNo  (None, 131, 198, 32  96         ['conv2d_1[0][0]']               \n",
      " rmalization)                   )                                                                 \n",
      "                                                                                                  \n",
      " activation_1 (Activation)      (None, 131, 198, 32  0           ['batch_normalization_1[0][0]']  \n",
      "                                )                                                                 \n",
      "                                                                                                  \n",
      " conv2d_2 (Conv2D)              (None, 131, 198, 64  18432       ['activation_1[0][0]']           \n",
      "                                )                                                                 \n",
      "                                                                                                  \n",
      " batch_normalization_2 (BatchNo  (None, 131, 198, 64  192        ['conv2d_2[0][0]']               \n",
      " rmalization)                   )                                                                 \n",
      "                                                                                                  \n",
      " activation_2 (Activation)      (None, 131, 198, 64  0           ['batch_normalization_2[0][0]']  \n",
      "                                )                                                                 \n",
      "                                                                                                  \n",
      " max_pooling2d (MaxPooling2D)   (None, 65, 98, 64)   0           ['activation_2[0][0]']           \n",
      "                                                                                                  \n",
      " conv2d_3 (Conv2D)              (None, 65, 98, 80)   5120        ['max_pooling2d[0][0]']          \n",
      "                                                                                                  \n",
      " batch_normalization_3 (BatchNo  (None, 65, 98, 80)  240         ['conv2d_3[0][0]']               \n",
      " rmalization)                                                                                     \n",
      "                                                                                                  \n",
      " activation_3 (Activation)      (None, 65, 98, 80)   0           ['batch_normalization_3[0][0]']  \n",
      "                                                                                                  \n",
      " conv2d_4 (Conv2D)              (None, 63, 96, 192)  138240      ['activation_3[0][0]']           \n",
      "                                                                                                  \n",
      " batch_normalization_4 (BatchNo  (None, 63, 96, 192)  576        ['conv2d_4[0][0]']               \n",
      " rmalization)                                                                                     \n",
      "                                                                                                  \n",
      " activation_4 (Activation)      (None, 63, 96, 192)  0           ['batch_normalization_4[0][0]']  \n",
      "                                                                                                  \n",
      " max_pooling2d_1 (MaxPooling2D)  (None, 31, 47, 192)  0          ['activation_4[0][0]']           \n",
      "                                                                                                  \n",
      " conv2d_8 (Conv2D)              (None, 31, 47, 64)   12288       ['max_pooling2d_1[0][0]']        \n",
      "                                                                                                  \n",
      " batch_normalization_8 (BatchNo  (None, 31, 47, 64)  192         ['conv2d_8[0][0]']               \n",
      " rmalization)                                                                                     \n",
      "                                                                                                  \n",
      " activation_8 (Activation)      (None, 31, 47, 64)   0           ['batch_normalization_8[0][0]']  \n",
      "                                                                                                  \n",
      " conv2d_6 (Conv2D)              (None, 31, 47, 48)   9216        ['max_pooling2d_1[0][0]']        \n",
      "                                                                                                  \n",
      " conv2d_9 (Conv2D)              (None, 31, 47, 96)   55296       ['activation_8[0][0]']           \n",
      "                                                                                                  \n",
      " batch_normalization_6 (BatchNo  (None, 31, 47, 48)  144         ['conv2d_6[0][0]']               \n",
      " rmalization)                                                                                     \n",
      "                                                                                                  \n",
      " batch_normalization_9 (BatchNo  (None, 31, 47, 96)  288         ['conv2d_9[0][0]']               \n",
      " rmalization)                                                                                     \n",
      "                                                                                                  \n",
      " activation_6 (Activation)      (None, 31, 47, 48)   0           ['batch_normalization_6[0][0]']  \n",
      "                                                                                                  \n",
      " activation_9 (Activation)      (None, 31, 47, 96)   0           ['batch_normalization_9[0][0]']  \n",
      "                                                                                                  \n",
      " average_pooling2d (AveragePool  (None, 31, 47, 192)  0          ['max_pooling2d_1[0][0]']        \n",
      " ing2D)                                                                                           \n",
      "                                                                                                  \n",
      " conv2d_5 (Conv2D)              (None, 31, 47, 64)   12288       ['max_pooling2d_1[0][0]']        \n",
      "                                                                                                  \n",
      " conv2d_7 (Conv2D)              (None, 31, 47, 64)   76800       ['activation_6[0][0]']           \n",
      "                                                                                                  \n",
      " conv2d_10 (Conv2D)             (None, 31, 47, 96)   82944       ['activation_9[0][0]']           \n",
      "                                                                                                  \n",
      " conv2d_11 (Conv2D)             (None, 31, 47, 32)   6144        ['average_pooling2d[0][0]']      \n",
      "                                                                                                  \n",
      " batch_normalization_5 (BatchNo  (None, 31, 47, 64)  192         ['conv2d_5[0][0]']               \n",
      " rmalization)                                                                                     \n",
      "                                                                                                  \n",
      " batch_normalization_7 (BatchNo  (None, 31, 47, 64)  192         ['conv2d_7[0][0]']               \n",
      " rmalization)                                                                                     \n",
      "                                                                                                  \n",
      " batch_normalization_10 (BatchN  (None, 31, 47, 96)  288         ['conv2d_10[0][0]']              \n",
      " ormalization)                                                                                    \n",
      "                                                                                                  \n",
      " batch_normalization_11 (BatchN  (None, 31, 47, 32)  96          ['conv2d_11[0][0]']              \n",
      " ormalization)                                                                                    \n",
      "                                                                                                  \n",
      " activation_5 (Activation)      (None, 31, 47, 64)   0           ['batch_normalization_5[0][0]']  \n",
      "                                                                                                  \n",
      " activation_7 (Activation)      (None, 31, 47, 64)   0           ['batch_normalization_7[0][0]']  \n",
      "                                                                                                  \n",
      " activation_10 (Activation)     (None, 31, 47, 96)   0           ['batch_normalization_10[0][0]'] \n",
      "                                                                                                  \n",
      " activation_11 (Activation)     (None, 31, 47, 32)   0           ['batch_normalization_11[0][0]'] \n",
      "                                                                                                  \n",
      " mixed0 (Concatenate)           (None, 31, 47, 256)  0           ['activation_5[0][0]',           \n",
      "                                                                  'activation_7[0][0]',           \n",
      "                                                                  'activation_10[0][0]',          \n",
      "                                                                  'activation_11[0][0]']          \n",
      "                                                                                                  \n",
      " conv2d_15 (Conv2D)             (None, 31, 47, 64)   16384       ['mixed0[0][0]']                 \n",
      "                                                                                                  \n",
      " batch_normalization_15 (BatchN  (None, 31, 47, 64)  192         ['conv2d_15[0][0]']              \n",
      " ormalization)                                                                                    \n",
      "                                                                                                  \n",
      " activation_15 (Activation)     (None, 31, 47, 64)   0           ['batch_normalization_15[0][0]'] \n",
      "                                                                                                  \n",
      " conv2d_13 (Conv2D)             (None, 31, 47, 48)   12288       ['mixed0[0][0]']                 \n",
      "                                                                                                  \n",
      " conv2d_16 (Conv2D)             (None, 31, 47, 96)   55296       ['activation_15[0][0]']          \n",
      "                                                                                                  \n",
      " batch_normalization_13 (BatchN  (None, 31, 47, 48)  144         ['conv2d_13[0][0]']              \n",
      " ormalization)                                                                                    \n",
      "                                                                                                  \n",
      " batch_normalization_16 (BatchN  (None, 31, 47, 96)  288         ['conv2d_16[0][0]']              \n",
      " ormalization)                                                                                    \n",
      "                                                                                                  \n",
      " activation_13 (Activation)     (None, 31, 47, 48)   0           ['batch_normalization_13[0][0]'] \n",
      "                                                                                                  \n",
      " activation_16 (Activation)     (None, 31, 47, 96)   0           ['batch_normalization_16[0][0]'] \n",
      "                                                                                                  \n",
      " average_pooling2d_1 (AveragePo  (None, 31, 47, 256)  0          ['mixed0[0][0]']                 \n",
      " oling2D)                                                                                         \n",
      "                                                                                                  \n",
      " conv2d_12 (Conv2D)             (None, 31, 47, 64)   16384       ['mixed0[0][0]']                 \n",
      "                                                                                                  \n",
      " conv2d_14 (Conv2D)             (None, 31, 47, 64)   76800       ['activation_13[0][0]']          \n",
      "                                                                                                  \n",
      " conv2d_17 (Conv2D)             (None, 31, 47, 96)   82944       ['activation_16[0][0]']          \n",
      "                                                                                                  \n",
      " conv2d_18 (Conv2D)             (None, 31, 47, 64)   16384       ['average_pooling2d_1[0][0]']    \n",
      "                                                                                                  \n",
      " batch_normalization_12 (BatchN  (None, 31, 47, 64)  192         ['conv2d_12[0][0]']              \n",
      " ormalization)                                                                                    \n",
      "                                                                                                  \n",
      " batch_normalization_14 (BatchN  (None, 31, 47, 64)  192         ['conv2d_14[0][0]']              \n",
      " ormalization)                                                                                    \n",
      "                                                                                                  \n",
      " batch_normalization_17 (BatchN  (None, 31, 47, 96)  288         ['conv2d_17[0][0]']              \n",
      " ormalization)                                                                                    \n",
      "                                                                                                  \n",
      " batch_normalization_18 (BatchN  (None, 31, 47, 64)  192         ['conv2d_18[0][0]']              \n",
      " ormalization)                                                                                    \n",
      "                                                                                                  \n",
      " activation_12 (Activation)     (None, 31, 47, 64)   0           ['batch_normalization_12[0][0]'] \n",
      "                                                                                                  \n",
      " activation_14 (Activation)     (None, 31, 47, 64)   0           ['batch_normalization_14[0][0]'] \n",
      "                                                                                                  \n",
      " activation_17 (Activation)     (None, 31, 47, 96)   0           ['batch_normalization_17[0][0]'] \n",
      "                                                                                                  \n",
      " activation_18 (Activation)     (None, 31, 47, 64)   0           ['batch_normalization_18[0][0]'] \n",
      "                                                                                                  \n",
      " mixed1 (Concatenate)           (None, 31, 47, 288)  0           ['activation_12[0][0]',          \n",
      "                                                                  'activation_14[0][0]',          \n",
      "                                                                  'activation_17[0][0]',          \n",
      "                                                                  'activation_18[0][0]']          \n",
      "                                                                                                  \n",
      " conv2d_22 (Conv2D)             (None, 31, 47, 64)   18432       ['mixed1[0][0]']                 \n",
      "                                                                                                  \n",
      " batch_normalization_22 (BatchN  (None, 31, 47, 64)  192         ['conv2d_22[0][0]']              \n",
      " ormalization)                                                                                    \n",
      "                                                                                                  \n",
      " activation_22 (Activation)     (None, 31, 47, 64)   0           ['batch_normalization_22[0][0]'] \n",
      "                                                                                                  \n",
      " conv2d_20 (Conv2D)             (None, 31, 47, 48)   13824       ['mixed1[0][0]']                 \n",
      "                                                                                                  \n",
      " conv2d_23 (Conv2D)             (None, 31, 47, 96)   55296       ['activation_22[0][0]']          \n",
      "                                                                                                  \n",
      " batch_normalization_20 (BatchN  (None, 31, 47, 48)  144         ['conv2d_20[0][0]']              \n",
      " ormalization)                                                                                    \n",
      "                                                                                                  \n",
      " batch_normalization_23 (BatchN  (None, 31, 47, 96)  288         ['conv2d_23[0][0]']              \n",
      " ormalization)                                                                                    \n",
      "                                                                                                  \n",
      " activation_20 (Activation)     (None, 31, 47, 48)   0           ['batch_normalization_20[0][0]'] \n",
      "                                                                                                  \n",
      " activation_23 (Activation)     (None, 31, 47, 96)   0           ['batch_normalization_23[0][0]'] \n",
      "                                                                                                  \n",
      " average_pooling2d_2 (AveragePo  (None, 31, 47, 288)  0          ['mixed1[0][0]']                 \n",
      " oling2D)                                                                                         \n",
      "                                                                                                  \n",
      " conv2d_19 (Conv2D)             (None, 31, 47, 64)   18432       ['mixed1[0][0]']                 \n",
      "                                                                                                  \n",
      " conv2d_21 (Conv2D)             (None, 31, 47, 64)   76800       ['activation_20[0][0]']          \n",
      "                                                                                                  \n",
      " conv2d_24 (Conv2D)             (None, 31, 47, 96)   82944       ['activation_23[0][0]']          \n",
      "                                                                                                  \n",
      " conv2d_25 (Conv2D)             (None, 31, 47, 64)   18432       ['average_pooling2d_2[0][0]']    \n",
      "                                                                                                  \n",
      " batch_normalization_19 (BatchN  (None, 31, 47, 64)  192         ['conv2d_19[0][0]']              \n",
      " ormalization)                                                                                    \n",
      "                                                                                                  \n",
      " batch_normalization_21 (BatchN  (None, 31, 47, 64)  192         ['conv2d_21[0][0]']              \n",
      " ormalization)                                                                                    \n",
      "                                                                                                  \n",
      " batch_normalization_24 (BatchN  (None, 31, 47, 96)  288         ['conv2d_24[0][0]']              \n",
      " ormalization)                                                                                    \n",
      "                                                                                                  \n",
      " batch_normalization_25 (BatchN  (None, 31, 47, 64)  192         ['conv2d_25[0][0]']              \n",
      " ormalization)                                                                                    \n",
      "                                                                                                  \n",
      " activation_19 (Activation)     (None, 31, 47, 64)   0           ['batch_normalization_19[0][0]'] \n",
      "                                                                                                  \n",
      " activation_21 (Activation)     (None, 31, 47, 64)   0           ['batch_normalization_21[0][0]'] \n",
      "                                                                                                  \n",
      " activation_24 (Activation)     (None, 31, 47, 96)   0           ['batch_normalization_24[0][0]'] \n",
      "                                                                                                  \n",
      " activation_25 (Activation)     (None, 31, 47, 64)   0           ['batch_normalization_25[0][0]'] \n",
      "                                                                                                  \n",
      " mixed2 (Concatenate)           (None, 31, 47, 288)  0           ['activation_19[0][0]',          \n",
      "                                                                  'activation_21[0][0]',          \n",
      "                                                                  'activation_24[0][0]',          \n",
      "                                                                  'activation_25[0][0]']          \n",
      "                                                                                                  \n",
      " conv2d_27 (Conv2D)             (None, 31, 47, 64)   18432       ['mixed2[0][0]']                 \n",
      "                                                                                                  \n",
      " batch_normalization_27 (BatchN  (None, 31, 47, 64)  192         ['conv2d_27[0][0]']              \n",
      " ormalization)                                                                                    \n",
      "                                                                                                  \n",
      " activation_27 (Activation)     (None, 31, 47, 64)   0           ['batch_normalization_27[0][0]'] \n",
      "                                                                                                  \n",
      " conv2d_28 (Conv2D)             (None, 31, 47, 96)   55296       ['activation_27[0][0]']          \n",
      "                                                                                                  \n",
      " batch_normalization_28 (BatchN  (None, 31, 47, 96)  288         ['conv2d_28[0][0]']              \n",
      " ormalization)                                                                                    \n",
      "                                                                                                  \n",
      " activation_28 (Activation)     (None, 31, 47, 96)   0           ['batch_normalization_28[0][0]'] \n",
      "                                                                                                  \n",
      " conv2d_26 (Conv2D)             (None, 15, 23, 384)  995328      ['mixed2[0][0]']                 \n",
      "                                                                                                  \n",
      " conv2d_29 (Conv2D)             (None, 15, 23, 96)   82944       ['activation_28[0][0]']          \n",
      "                                                                                                  \n",
      " batch_normalization_26 (BatchN  (None, 15, 23, 384)  1152       ['conv2d_26[0][0]']              \n",
      " ormalization)                                                                                    \n",
      "                                                                                                  \n",
      " batch_normalization_29 (BatchN  (None, 15, 23, 96)  288         ['conv2d_29[0][0]']              \n",
      " ormalization)                                                                                    \n",
      "                                                                                                  \n",
      " activation_26 (Activation)     (None, 15, 23, 384)  0           ['batch_normalization_26[0][0]'] \n",
      "                                                                                                  \n",
      " activation_29 (Activation)     (None, 15, 23, 96)   0           ['batch_normalization_29[0][0]'] \n",
      "                                                                                                  \n",
      " max_pooling2d_2 (MaxPooling2D)  (None, 15, 23, 288)  0          ['mixed2[0][0]']                 \n",
      "                                                                                                  \n",
      " mixed3 (Concatenate)           (None, 15, 23, 768)  0           ['activation_26[0][0]',          \n",
      "                                                                  'activation_29[0][0]',          \n",
      "                                                                  'max_pooling2d_2[0][0]']        \n",
      "                                                                                                  \n",
      " conv2d_34 (Conv2D)             (None, 15, 23, 128)  98304       ['mixed3[0][0]']                 \n",
      "                                                                                                  \n",
      " batch_normalization_34 (BatchN  (None, 15, 23, 128)  384        ['conv2d_34[0][0]']              \n",
      " ormalization)                                                                                    \n",
      "                                                                                                  \n",
      " activation_34 (Activation)     (None, 15, 23, 128)  0           ['batch_normalization_34[0][0]'] \n",
      "                                                                                                  \n",
      " conv2d_35 (Conv2D)             (None, 15, 23, 128)  114688      ['activation_34[0][0]']          \n",
      "                                                                                                  \n",
      " batch_normalization_35 (BatchN  (None, 15, 23, 128)  384        ['conv2d_35[0][0]']              \n",
      " ormalization)                                                                                    \n",
      "                                                                                                  \n",
      " activation_35 (Activation)     (None, 15, 23, 128)  0           ['batch_normalization_35[0][0]'] \n",
      "                                                                                                  \n",
      " conv2d_31 (Conv2D)             (None, 15, 23, 128)  98304       ['mixed3[0][0]']                 \n",
      "                                                                                                  \n",
      " conv2d_36 (Conv2D)             (None, 15, 23, 128)  114688      ['activation_35[0][0]']          \n",
      "                                                                                                  \n",
      " batch_normalization_31 (BatchN  (None, 15, 23, 128)  384        ['conv2d_31[0][0]']              \n",
      " ormalization)                                                                                    \n",
      "                                                                                                  \n",
      " batch_normalization_36 (BatchN  (None, 15, 23, 128)  384        ['conv2d_36[0][0]']              \n",
      " ormalization)                                                                                    \n",
      "                                                                                                  \n",
      " activation_31 (Activation)     (None, 15, 23, 128)  0           ['batch_normalization_31[0][0]'] \n",
      "                                                                                                  \n",
      " activation_36 (Activation)     (None, 15, 23, 128)  0           ['batch_normalization_36[0][0]'] \n",
      "                                                                                                  \n",
      " conv2d_32 (Conv2D)             (None, 15, 23, 128)  114688      ['activation_31[0][0]']          \n",
      "                                                                                                  \n",
      " conv2d_37 (Conv2D)             (None, 15, 23, 128)  114688      ['activation_36[0][0]']          \n",
      "                                                                                                  \n",
      " batch_normalization_32 (BatchN  (None, 15, 23, 128)  384        ['conv2d_32[0][0]']              \n",
      " ormalization)                                                                                    \n",
      "                                                                                                  \n",
      " batch_normalization_37 (BatchN  (None, 15, 23, 128)  384        ['conv2d_37[0][0]']              \n",
      " ormalization)                                                                                    \n",
      "                                                                                                  \n",
      " activation_32 (Activation)     (None, 15, 23, 128)  0           ['batch_normalization_32[0][0]'] \n",
      "                                                                                                  \n",
      " activation_37 (Activation)     (None, 15, 23, 128)  0           ['batch_normalization_37[0][0]'] \n",
      "                                                                                                  \n",
      " average_pooling2d_3 (AveragePo  (None, 15, 23, 768)  0          ['mixed3[0][0]']                 \n",
      " oling2D)                                                                                         \n",
      "                                                                                                  \n",
      " conv2d_30 (Conv2D)             (None, 15, 23, 192)  147456      ['mixed3[0][0]']                 \n",
      "                                                                                                  \n",
      " conv2d_33 (Conv2D)             (None, 15, 23, 192)  172032      ['activation_32[0][0]']          \n",
      "                                                                                                  \n",
      " conv2d_38 (Conv2D)             (None, 15, 23, 192)  172032      ['activation_37[0][0]']          \n",
      "                                                                                                  \n",
      " conv2d_39 (Conv2D)             (None, 15, 23, 192)  147456      ['average_pooling2d_3[0][0]']    \n",
      "                                                                                                  \n",
      " batch_normalization_30 (BatchN  (None, 15, 23, 192)  576        ['conv2d_30[0][0]']              \n",
      " ormalization)                                                                                    \n",
      "                                                                                                  \n",
      " batch_normalization_33 (BatchN  (None, 15, 23, 192)  576        ['conv2d_33[0][0]']              \n",
      " ormalization)                                                                                    \n",
      "                                                                                                  \n",
      " batch_normalization_38 (BatchN  (None, 15, 23, 192)  576        ['conv2d_38[0][0]']              \n",
      " ormalization)                                                                                    \n",
      "                                                                                                  \n",
      " batch_normalization_39 (BatchN  (None, 15, 23, 192)  576        ['conv2d_39[0][0]']              \n",
      " ormalization)                                                                                    \n",
      "                                                                                                  \n",
      " activation_30 (Activation)     (None, 15, 23, 192)  0           ['batch_normalization_30[0][0]'] \n",
      "                                                                                                  \n",
      " activation_33 (Activation)     (None, 15, 23, 192)  0           ['batch_normalization_33[0][0]'] \n",
      "                                                                                                  \n",
      " activation_38 (Activation)     (None, 15, 23, 192)  0           ['batch_normalization_38[0][0]'] \n",
      "                                                                                                  \n",
      " activation_39 (Activation)     (None, 15, 23, 192)  0           ['batch_normalization_39[0][0]'] \n",
      "                                                                                                  \n",
      " mixed4 (Concatenate)           (None, 15, 23, 768)  0           ['activation_30[0][0]',          \n",
      "                                                                  'activation_33[0][0]',          \n",
      "                                                                  'activation_38[0][0]',          \n",
      "                                                                  'activation_39[0][0]']          \n",
      "                                                                                                  \n",
      " conv2d_44 (Conv2D)             (None, 15, 23, 160)  122880      ['mixed4[0][0]']                 \n",
      "                                                                                                  \n",
      " batch_normalization_44 (BatchN  (None, 15, 23, 160)  480        ['conv2d_44[0][0]']              \n",
      " ormalization)                                                                                    \n",
      "                                                                                                  \n",
      " activation_44 (Activation)     (None, 15, 23, 160)  0           ['batch_normalization_44[0][0]'] \n",
      "                                                                                                  \n",
      " conv2d_45 (Conv2D)             (None, 15, 23, 160)  179200      ['activation_44[0][0]']          \n",
      "                                                                                                  \n",
      " batch_normalization_45 (BatchN  (None, 15, 23, 160)  480        ['conv2d_45[0][0]']              \n",
      " ormalization)                                                                                    \n",
      "                                                                                                  \n",
      " activation_45 (Activation)     (None, 15, 23, 160)  0           ['batch_normalization_45[0][0]'] \n",
      "                                                                                                  \n",
      " conv2d_41 (Conv2D)             (None, 15, 23, 160)  122880      ['mixed4[0][0]']                 \n",
      "                                                                                                  \n",
      " conv2d_46 (Conv2D)             (None, 15, 23, 160)  179200      ['activation_45[0][0]']          \n",
      "                                                                                                  \n",
      " batch_normalization_41 (BatchN  (None, 15, 23, 160)  480        ['conv2d_41[0][0]']              \n",
      " ormalization)                                                                                    \n",
      "                                                                                                  \n",
      " batch_normalization_46 (BatchN  (None, 15, 23, 160)  480        ['conv2d_46[0][0]']              \n",
      " ormalization)                                                                                    \n",
      "                                                                                                  \n",
      " activation_41 (Activation)     (None, 15, 23, 160)  0           ['batch_normalization_41[0][0]'] \n",
      "                                                                                                  \n",
      " activation_46 (Activation)     (None, 15, 23, 160)  0           ['batch_normalization_46[0][0]'] \n",
      "                                                                                                  \n",
      " conv2d_42 (Conv2D)             (None, 15, 23, 160)  179200      ['activation_41[0][0]']          \n",
      "                                                                                                  \n",
      " conv2d_47 (Conv2D)             (None, 15, 23, 160)  179200      ['activation_46[0][0]']          \n",
      "                                                                                                  \n",
      " batch_normalization_42 (BatchN  (None, 15, 23, 160)  480        ['conv2d_42[0][0]']              \n",
      " ormalization)                                                                                    \n",
      "                                                                                                  \n",
      " batch_normalization_47 (BatchN  (None, 15, 23, 160)  480        ['conv2d_47[0][0]']              \n",
      " ormalization)                                                                                    \n",
      "                                                                                                  \n",
      " activation_42 (Activation)     (None, 15, 23, 160)  0           ['batch_normalization_42[0][0]'] \n",
      "                                                                                                  \n",
      " activation_47 (Activation)     (None, 15, 23, 160)  0           ['batch_normalization_47[0][0]'] \n",
      "                                                                                                  \n",
      " average_pooling2d_4 (AveragePo  (None, 15, 23, 768)  0          ['mixed4[0][0]']                 \n",
      " oling2D)                                                                                         \n",
      "                                                                                                  \n",
      " conv2d_40 (Conv2D)             (None, 15, 23, 192)  147456      ['mixed4[0][0]']                 \n",
      "                                                                                                  \n",
      " conv2d_43 (Conv2D)             (None, 15, 23, 192)  215040      ['activation_42[0][0]']          \n",
      "                                                                                                  \n",
      " conv2d_48 (Conv2D)             (None, 15, 23, 192)  215040      ['activation_47[0][0]']          \n",
      "                                                                                                  \n",
      " conv2d_49 (Conv2D)             (None, 15, 23, 192)  147456      ['average_pooling2d_4[0][0]']    \n",
      "                                                                                                  \n",
      " batch_normalization_40 (BatchN  (None, 15, 23, 192)  576        ['conv2d_40[0][0]']              \n",
      " ormalization)                                                                                    \n",
      "                                                                                                  \n",
      " batch_normalization_43 (BatchN  (None, 15, 23, 192)  576        ['conv2d_43[0][0]']              \n",
      " ormalization)                                                                                    \n",
      "                                                                                                  \n",
      " batch_normalization_48 (BatchN  (None, 15, 23, 192)  576        ['conv2d_48[0][0]']              \n",
      " ormalization)                                                                                    \n",
      "                                                                                                  \n",
      " batch_normalization_49 (BatchN  (None, 15, 23, 192)  576        ['conv2d_49[0][0]']              \n",
      " ormalization)                                                                                    \n",
      "                                                                                                  \n",
      " activation_40 (Activation)     (None, 15, 23, 192)  0           ['batch_normalization_40[0][0]'] \n",
      "                                                                                                  \n",
      " activation_43 (Activation)     (None, 15, 23, 192)  0           ['batch_normalization_43[0][0]'] \n",
      "                                                                                                  \n",
      " activation_48 (Activation)     (None, 15, 23, 192)  0           ['batch_normalization_48[0][0]'] \n",
      "                                                                                                  \n",
      " activation_49 (Activation)     (None, 15, 23, 192)  0           ['batch_normalization_49[0][0]'] \n",
      "                                                                                                  \n",
      " mixed5 (Concatenate)           (None, 15, 23, 768)  0           ['activation_40[0][0]',          \n",
      "                                                                  'activation_43[0][0]',          \n",
      "                                                                  'activation_48[0][0]',          \n",
      "                                                                  'activation_49[0][0]']          \n",
      "                                                                                                  \n",
      " conv2d_54 (Conv2D)             (None, 15, 23, 160)  122880      ['mixed5[0][0]']                 \n",
      "                                                                                                  \n",
      " batch_normalization_54 (BatchN  (None, 15, 23, 160)  480        ['conv2d_54[0][0]']              \n",
      " ormalization)                                                                                    \n",
      "                                                                                                  \n",
      " activation_54 (Activation)     (None, 15, 23, 160)  0           ['batch_normalization_54[0][0]'] \n",
      "                                                                                                  \n",
      " conv2d_55 (Conv2D)             (None, 15, 23, 160)  179200      ['activation_54[0][0]']          \n",
      "                                                                                                  \n",
      " batch_normalization_55 (BatchN  (None, 15, 23, 160)  480        ['conv2d_55[0][0]']              \n",
      " ormalization)                                                                                    \n",
      "                                                                                                  \n",
      " activation_55 (Activation)     (None, 15, 23, 160)  0           ['batch_normalization_55[0][0]'] \n",
      "                                                                                                  \n",
      " conv2d_51 (Conv2D)             (None, 15, 23, 160)  122880      ['mixed5[0][0]']                 \n",
      "                                                                                                  \n",
      " conv2d_56 (Conv2D)             (None, 15, 23, 160)  179200      ['activation_55[0][0]']          \n",
      "                                                                                                  \n",
      " batch_normalization_51 (BatchN  (None, 15, 23, 160)  480        ['conv2d_51[0][0]']              \n",
      " ormalization)                                                                                    \n",
      "                                                                                                  \n",
      " batch_normalization_56 (BatchN  (None, 15, 23, 160)  480        ['conv2d_56[0][0]']              \n",
      " ormalization)                                                                                    \n",
      "                                                                                                  \n",
      " activation_51 (Activation)     (None, 15, 23, 160)  0           ['batch_normalization_51[0][0]'] \n",
      "                                                                                                  \n",
      " activation_56 (Activation)     (None, 15, 23, 160)  0           ['batch_normalization_56[0][0]'] \n",
      "                                                                                                  \n",
      " conv2d_52 (Conv2D)             (None, 15, 23, 160)  179200      ['activation_51[0][0]']          \n",
      "                                                                                                  \n",
      " conv2d_57 (Conv2D)             (None, 15, 23, 160)  179200      ['activation_56[0][0]']          \n",
      "                                                                                                  \n",
      " batch_normalization_52 (BatchN  (None, 15, 23, 160)  480        ['conv2d_52[0][0]']              \n",
      " ormalization)                                                                                    \n",
      "                                                                                                  \n",
      " batch_normalization_57 (BatchN  (None, 15, 23, 160)  480        ['conv2d_57[0][0]']              \n",
      " ormalization)                                                                                    \n",
      "                                                                                                  \n",
      " activation_52 (Activation)     (None, 15, 23, 160)  0           ['batch_normalization_52[0][0]'] \n",
      "                                                                                                  \n",
      " activation_57 (Activation)     (None, 15, 23, 160)  0           ['batch_normalization_57[0][0]'] \n",
      "                                                                                                  \n",
      " average_pooling2d_5 (AveragePo  (None, 15, 23, 768)  0          ['mixed5[0][0]']                 \n",
      " oling2D)                                                                                         \n",
      "                                                                                                  \n",
      " conv2d_50 (Conv2D)             (None, 15, 23, 192)  147456      ['mixed5[0][0]']                 \n",
      "                                                                                                  \n",
      " conv2d_53 (Conv2D)             (None, 15, 23, 192)  215040      ['activation_52[0][0]']          \n",
      "                                                                                                  \n",
      " conv2d_58 (Conv2D)             (None, 15, 23, 192)  215040      ['activation_57[0][0]']          \n",
      "                                                                                                  \n",
      " conv2d_59 (Conv2D)             (None, 15, 23, 192)  147456      ['average_pooling2d_5[0][0]']    \n",
      "                                                                                                  \n",
      " batch_normalization_50 (BatchN  (None, 15, 23, 192)  576        ['conv2d_50[0][0]']              \n",
      " ormalization)                                                                                    \n",
      "                                                                                                  \n",
      " batch_normalization_53 (BatchN  (None, 15, 23, 192)  576        ['conv2d_53[0][0]']              \n",
      " ormalization)                                                                                    \n",
      "                                                                                                  \n",
      " batch_normalization_58 (BatchN  (None, 15, 23, 192)  576        ['conv2d_58[0][0]']              \n",
      " ormalization)                                                                                    \n",
      "                                                                                                  \n",
      " batch_normalization_59 (BatchN  (None, 15, 23, 192)  576        ['conv2d_59[0][0]']              \n",
      " ormalization)                                                                                    \n",
      "                                                                                                  \n",
      " activation_50 (Activation)     (None, 15, 23, 192)  0           ['batch_normalization_50[0][0]'] \n",
      "                                                                                                  \n",
      " activation_53 (Activation)     (None, 15, 23, 192)  0           ['batch_normalization_53[0][0]'] \n",
      "                                                                                                  \n",
      " activation_58 (Activation)     (None, 15, 23, 192)  0           ['batch_normalization_58[0][0]'] \n",
      "                                                                                                  \n",
      " activation_59 (Activation)     (None, 15, 23, 192)  0           ['batch_normalization_59[0][0]'] \n",
      "                                                                                                  \n",
      " mixed6 (Concatenate)           (None, 15, 23, 768)  0           ['activation_50[0][0]',          \n",
      "                                                                  'activation_53[0][0]',          \n",
      "                                                                  'activation_58[0][0]',          \n",
      "                                                                  'activation_59[0][0]']          \n",
      "                                                                                                  \n",
      " conv2d_64 (Conv2D)             (None, 15, 23, 192)  147456      ['mixed6[0][0]']                 \n",
      "                                                                                                  \n",
      " batch_normalization_64 (BatchN  (None, 15, 23, 192)  576        ['conv2d_64[0][0]']              \n",
      " ormalization)                                                                                    \n",
      "                                                                                                  \n",
      " activation_64 (Activation)     (None, 15, 23, 192)  0           ['batch_normalization_64[0][0]'] \n",
      "                                                                                                  \n",
      " conv2d_65 (Conv2D)             (None, 15, 23, 192)  258048      ['activation_64[0][0]']          \n",
      "                                                                                                  \n",
      " batch_normalization_65 (BatchN  (None, 15, 23, 192)  576        ['conv2d_65[0][0]']              \n",
      " ormalization)                                                                                    \n",
      "                                                                                                  \n",
      " activation_65 (Activation)     (None, 15, 23, 192)  0           ['batch_normalization_65[0][0]'] \n",
      "                                                                                                  \n",
      " conv2d_61 (Conv2D)             (None, 15, 23, 192)  147456      ['mixed6[0][0]']                 \n",
      "                                                                                                  \n",
      " conv2d_66 (Conv2D)             (None, 15, 23, 192)  258048      ['activation_65[0][0]']          \n",
      "                                                                                                  \n",
      " batch_normalization_61 (BatchN  (None, 15, 23, 192)  576        ['conv2d_61[0][0]']              \n",
      " ormalization)                                                                                    \n",
      "                                                                                                  \n",
      " batch_normalization_66 (BatchN  (None, 15, 23, 192)  576        ['conv2d_66[0][0]']              \n",
      " ormalization)                                                                                    \n",
      "                                                                                                  \n",
      " activation_61 (Activation)     (None, 15, 23, 192)  0           ['batch_normalization_61[0][0]'] \n",
      "                                                                                                  \n",
      " activation_66 (Activation)     (None, 15, 23, 192)  0           ['batch_normalization_66[0][0]'] \n",
      "                                                                                                  \n",
      " conv2d_62 (Conv2D)             (None, 15, 23, 192)  258048      ['activation_61[0][0]']          \n",
      "                                                                                                  \n",
      " conv2d_67 (Conv2D)             (None, 15, 23, 192)  258048      ['activation_66[0][0]']          \n",
      "                                                                                                  \n",
      " batch_normalization_62 (BatchN  (None, 15, 23, 192)  576        ['conv2d_62[0][0]']              \n",
      " ormalization)                                                                                    \n",
      "                                                                                                  \n",
      " batch_normalization_67 (BatchN  (None, 15, 23, 192)  576        ['conv2d_67[0][0]']              \n",
      " ormalization)                                                                                    \n",
      "                                                                                                  \n",
      " activation_62 (Activation)     (None, 15, 23, 192)  0           ['batch_normalization_62[0][0]'] \n",
      "                                                                                                  \n",
      " activation_67 (Activation)     (None, 15, 23, 192)  0           ['batch_normalization_67[0][0]'] \n",
      "                                                                                                  \n",
      " average_pooling2d_6 (AveragePo  (None, 15, 23, 768)  0          ['mixed6[0][0]']                 \n",
      " oling2D)                                                                                         \n",
      "                                                                                                  \n",
      " conv2d_60 (Conv2D)             (None, 15, 23, 192)  147456      ['mixed6[0][0]']                 \n",
      "                                                                                                  \n",
      " conv2d_63 (Conv2D)             (None, 15, 23, 192)  258048      ['activation_62[0][0]']          \n",
      "                                                                                                  \n",
      " conv2d_68 (Conv2D)             (None, 15, 23, 192)  258048      ['activation_67[0][0]']          \n",
      "                                                                                                  \n",
      " conv2d_69 (Conv2D)             (None, 15, 23, 192)  147456      ['average_pooling2d_6[0][0]']    \n",
      "                                                                                                  \n",
      " batch_normalization_60 (BatchN  (None, 15, 23, 192)  576        ['conv2d_60[0][0]']              \n",
      " ormalization)                                                                                    \n",
      "                                                                                                  \n",
      " batch_normalization_63 (BatchN  (None, 15, 23, 192)  576        ['conv2d_63[0][0]']              \n",
      " ormalization)                                                                                    \n",
      "                                                                                                  \n",
      " batch_normalization_68 (BatchN  (None, 15, 23, 192)  576        ['conv2d_68[0][0]']              \n",
      " ormalization)                                                                                    \n",
      "                                                                                                  \n",
      " batch_normalization_69 (BatchN  (None, 15, 23, 192)  576        ['conv2d_69[0][0]']              \n",
      " ormalization)                                                                                    \n",
      "                                                                                                  \n",
      " activation_60 (Activation)     (None, 15, 23, 192)  0           ['batch_normalization_60[0][0]'] \n",
      "                                                                                                  \n",
      " activation_63 (Activation)     (None, 15, 23, 192)  0           ['batch_normalization_63[0][0]'] \n",
      "                                                                                                  \n",
      " activation_68 (Activation)     (None, 15, 23, 192)  0           ['batch_normalization_68[0][0]'] \n",
      "                                                                                                  \n",
      " activation_69 (Activation)     (None, 15, 23, 192)  0           ['batch_normalization_69[0][0]'] \n",
      "                                                                                                  \n",
      " mixed7 (Concatenate)           (None, 15, 23, 768)  0           ['activation_60[0][0]',          \n",
      "                                                                  'activation_63[0][0]',          \n",
      "                                                                  'activation_68[0][0]',          \n",
      "                                                                  'activation_69[0][0]']          \n",
      "                                                                                                  \n",
      " conv2d_72 (Conv2D)             (None, 15, 23, 192)  147456      ['mixed7[0][0]']                 \n",
      "                                                                                                  \n",
      " batch_normalization_72 (BatchN  (None, 15, 23, 192)  576        ['conv2d_72[0][0]']              \n",
      " ormalization)                                                                                    \n",
      "                                                                                                  \n",
      " activation_72 (Activation)     (None, 15, 23, 192)  0           ['batch_normalization_72[0][0]'] \n",
      "                                                                                                  \n",
      " conv2d_73 (Conv2D)             (None, 15, 23, 192)  258048      ['activation_72[0][0]']          \n",
      "                                                                                                  \n",
      " batch_normalization_73 (BatchN  (None, 15, 23, 192)  576        ['conv2d_73[0][0]']              \n",
      " ormalization)                                                                                    \n",
      "                                                                                                  \n",
      " activation_73 (Activation)     (None, 15, 23, 192)  0           ['batch_normalization_73[0][0]'] \n",
      "                                                                                                  \n",
      " conv2d_70 (Conv2D)             (None, 15, 23, 192)  147456      ['mixed7[0][0]']                 \n",
      "                                                                                                  \n",
      " conv2d_74 (Conv2D)             (None, 15, 23, 192)  258048      ['activation_73[0][0]']          \n",
      "                                                                                                  \n",
      " batch_normalization_70 (BatchN  (None, 15, 23, 192)  576        ['conv2d_70[0][0]']              \n",
      " ormalization)                                                                                    \n",
      "                                                                                                  \n",
      " batch_normalization_74 (BatchN  (None, 15, 23, 192)  576        ['conv2d_74[0][0]']              \n",
      " ormalization)                                                                                    \n",
      "                                                                                                  \n",
      " activation_70 (Activation)     (None, 15, 23, 192)  0           ['batch_normalization_70[0][0]'] \n",
      "                                                                                                  \n",
      " activation_74 (Activation)     (None, 15, 23, 192)  0           ['batch_normalization_74[0][0]'] \n",
      "                                                                                                  \n",
      " conv2d_71 (Conv2D)             (None, 7, 11, 320)   552960      ['activation_70[0][0]']          \n",
      "                                                                                                  \n",
      " conv2d_75 (Conv2D)             (None, 7, 11, 192)   331776      ['activation_74[0][0]']          \n",
      "                                                                                                  \n",
      " batch_normalization_71 (BatchN  (None, 7, 11, 320)  960         ['conv2d_71[0][0]']              \n",
      " ormalization)                                                                                    \n",
      "                                                                                                  \n",
      " batch_normalization_75 (BatchN  (None, 7, 11, 192)  576         ['conv2d_75[0][0]']              \n",
      " ormalization)                                                                                    \n",
      "                                                                                                  \n",
      " activation_71 (Activation)     (None, 7, 11, 320)   0           ['batch_normalization_71[0][0]'] \n",
      "                                                                                                  \n",
      " activation_75 (Activation)     (None, 7, 11, 192)   0           ['batch_normalization_75[0][0]'] \n",
      "                                                                                                  \n",
      " max_pooling2d_3 (MaxPooling2D)  (None, 7, 11, 768)  0           ['mixed7[0][0]']                 \n",
      "                                                                                                  \n",
      " mixed8 (Concatenate)           (None, 7, 11, 1280)  0           ['activation_71[0][0]',          \n",
      "                                                                  'activation_75[0][0]',          \n",
      "                                                                  'max_pooling2d_3[0][0]']        \n",
      "                                                                                                  \n",
      " conv2d_80 (Conv2D)             (None, 7, 11, 448)   573440      ['mixed8[0][0]']                 \n",
      "                                                                                                  \n",
      " batch_normalization_80 (BatchN  (None, 7, 11, 448)  1344        ['conv2d_80[0][0]']              \n",
      " ormalization)                                                                                    \n",
      "                                                                                                  \n",
      " activation_80 (Activation)     (None, 7, 11, 448)   0           ['batch_normalization_80[0][0]'] \n",
      "                                                                                                  \n",
      " conv2d_77 (Conv2D)             (None, 7, 11, 384)   491520      ['mixed8[0][0]']                 \n",
      "                                                                                                  \n",
      " conv2d_81 (Conv2D)             (None, 7, 11, 384)   1548288     ['activation_80[0][0]']          \n",
      "                                                                                                  \n",
      " batch_normalization_77 (BatchN  (None, 7, 11, 384)  1152        ['conv2d_77[0][0]']              \n",
      " ormalization)                                                                                    \n",
      "                                                                                                  \n",
      " batch_normalization_81 (BatchN  (None, 7, 11, 384)  1152        ['conv2d_81[0][0]']              \n",
      " ormalization)                                                                                    \n",
      "                                                                                                  \n",
      " activation_77 (Activation)     (None, 7, 11, 384)   0           ['batch_normalization_77[0][0]'] \n",
      "                                                                                                  \n",
      " activation_81 (Activation)     (None, 7, 11, 384)   0           ['batch_normalization_81[0][0]'] \n",
      "                                                                                                  \n",
      " conv2d_78 (Conv2D)             (None, 7, 11, 384)   442368      ['activation_77[0][0]']          \n",
      "                                                                                                  \n",
      " conv2d_79 (Conv2D)             (None, 7, 11, 384)   442368      ['activation_77[0][0]']          \n",
      "                                                                                                  \n",
      " conv2d_82 (Conv2D)             (None, 7, 11, 384)   442368      ['activation_81[0][0]']          \n",
      "                                                                                                  \n",
      " conv2d_83 (Conv2D)             (None, 7, 11, 384)   442368      ['activation_81[0][0]']          \n",
      "                                                                                                  \n",
      " average_pooling2d_7 (AveragePo  (None, 7, 11, 1280)  0          ['mixed8[0][0]']                 \n",
      " oling2D)                                                                                         \n",
      "                                                                                                  \n",
      " conv2d_76 (Conv2D)             (None, 7, 11, 320)   409600      ['mixed8[0][0]']                 \n",
      "                                                                                                  \n",
      " batch_normalization_78 (BatchN  (None, 7, 11, 384)  1152        ['conv2d_78[0][0]']              \n",
      " ormalization)                                                                                    \n",
      "                                                                                                  \n",
      " batch_normalization_79 (BatchN  (None, 7, 11, 384)  1152        ['conv2d_79[0][0]']              \n",
      " ormalization)                                                                                    \n",
      "                                                                                                  \n",
      " batch_normalization_82 (BatchN  (None, 7, 11, 384)  1152        ['conv2d_82[0][0]']              \n",
      " ormalization)                                                                                    \n",
      "                                                                                                  \n",
      " batch_normalization_83 (BatchN  (None, 7, 11, 384)  1152        ['conv2d_83[0][0]']              \n",
      " ormalization)                                                                                    \n",
      "                                                                                                  \n",
      " conv2d_84 (Conv2D)             (None, 7, 11, 192)   245760      ['average_pooling2d_7[0][0]']    \n",
      "                                                                                                  \n",
      " batch_normalization_76 (BatchN  (None, 7, 11, 320)  960         ['conv2d_76[0][0]']              \n",
      " ormalization)                                                                                    \n",
      "                                                                                                  \n",
      " activation_78 (Activation)     (None, 7, 11, 384)   0           ['batch_normalization_78[0][0]'] \n",
      "                                                                                                  \n",
      " activation_79 (Activation)     (None, 7, 11, 384)   0           ['batch_normalization_79[0][0]'] \n",
      "                                                                                                  \n",
      " activation_82 (Activation)     (None, 7, 11, 384)   0           ['batch_normalization_82[0][0]'] \n",
      "                                                                                                  \n",
      " activation_83 (Activation)     (None, 7, 11, 384)   0           ['batch_normalization_83[0][0]'] \n",
      "                                                                                                  \n",
      " batch_normalization_84 (BatchN  (None, 7, 11, 192)  576         ['conv2d_84[0][0]']              \n",
      " ormalization)                                                                                    \n",
      "                                                                                                  \n",
      " activation_76 (Activation)     (None, 7, 11, 320)   0           ['batch_normalization_76[0][0]'] \n",
      "                                                                                                  \n",
      " mixed9_0 (Concatenate)         (None, 7, 11, 768)   0           ['activation_78[0][0]',          \n",
      "                                                                  'activation_79[0][0]']          \n",
      "                                                                                                  \n",
      " concatenate (Concatenate)      (None, 7, 11, 768)   0           ['activation_82[0][0]',          \n",
      "                                                                  'activation_83[0][0]']          \n",
      "                                                                                                  \n",
      " activation_84 (Activation)     (None, 7, 11, 192)   0           ['batch_normalization_84[0][0]'] \n",
      "                                                                                                  \n",
      " mixed9 (Concatenate)           (None, 7, 11, 2048)  0           ['activation_76[0][0]',          \n",
      "                                                                  'mixed9_0[0][0]',               \n",
      "                                                                  'concatenate[0][0]',            \n",
      "                                                                  'activation_84[0][0]']          \n",
      "                                                                                                  \n",
      " average_pooling2d_8 (AveragePo  (None, 7, 11, 2048)  0          ['mixed9[0][0]']                 \n",
      " oling2D)                                                                                         \n",
      "                                                                                                  \n",
      " conv2d_93 (Conv2D)             (None, 7, 11, 192)   393216      ['average_pooling2d_8[0][0]']    \n",
      "                                                                                                  \n",
      " batch_normalization_93 (BatchN  (None, 7, 11, 192)  576         ['conv2d_93[0][0]']              \n",
      " ormalization)                                                                                    \n",
      "                                                                                                  \n",
      " activation_93 (Activation)     (None, 7, 11, 192)   0           ['batch_normalization_93[0][0]'] \n",
      "                                                                                                  \n",
      " dropout (Dropout)              (None, 7, 11, 192)   0           ['activation_93[0][0]']          \n",
      "                                                                                                  \n",
      " flatten (Flatten)              (None, 14784)        0           ['dropout[0][0]']                \n",
      "                                                                                                  \n",
      " dense (Dense)                  (None, 128)          1892480     ['flatten[0][0]']                \n",
      "                                                                                                  \n",
      " dense_1 (Dense)                (None, 64)           8256        ['dense[0][0]']                  \n",
      "                                                                                                  \n",
      " dense_2 (Dense)                (None, 32)           2080        ['dense_1[0][0]']                \n",
      "                                                                                                  \n",
      " dense_3 (Dense)                (None, 16)           528         ['dense_2[0][0]']                \n",
      "                                                                                                  \n",
      " dense_4 (Dense)                (None, 2)            34          ['dense_3[0][0]']                \n",
      "                                                                                                  \n",
      "==================================================================================================\n",
      "Total params: 18,019,890\n",
      "Trainable params: 1,903,378\n",
      "Non-trainable params: 16,116,512\n",
      "__________________________________________________________________________________________________\n"
     ]
    }
   ],
   "source": [
    "model.summary()"
   ]
  },
  {
   "cell_type": "markdown",
   "id": "e683c3e8",
   "metadata": {
    "id": "8c1c83be"
   },
   "source": [
    "### Training the Model"
   ]
  },
  {
   "cell_type": "code",
   "execution_count": null,
   "id": "8a04fb35",
   "metadata": {
    "id": "5b48a57c"
   },
   "outputs": [],
   "source": [
    "# compile the InceptionV3 model with RMSprop\n",
    "from tensorflow.keras.callbacks import EarlyStopping\n",
    "n_epochs = 13\n",
    "model.compile(optimizer=tf.keras.optimizers.RMSprop(learning_rate=0.0001,momentum=0.8,decay=0.15,centered=True),\n",
    "              loss=[tf.keras.losses.BinaryCrossentropy()],\n",
    "              metrics=[tf.keras.metrics.BinaryAccuracy(threshold=0.45),tf.keras.metrics.Recall(),tf.keras.metrics.AUC()])"
   ]
  },
  {
   "cell_type": "code",
   "execution_count": null,
   "id": "f5c7cf17",
   "metadata": {
    "id": "NTpGZYiqOIgc"
   },
   "outputs": [],
   "source": [
    "# Use an early stopping callback\n",
    "early_stop = EarlyStopping(monitor='loss', \n",
    "                           patience=5, \n",
    "                           mode='min', \n",
    "                           verbose=1)"
   ]
  },
  {
   "cell_type": "code",
   "execution_count": null,
   "id": "850b1fd5",
   "metadata": {
    "colab": {
     "base_uri": "https://localhost:8080/"
    },
    "executionInfo": {
     "elapsed": 5423972,
     "status": "ok",
     "timestamp": 1659153332247,
     "user": {
      "displayName": "Mark Whelly",
      "userId": "14089540614639207633"
     },
     "user_tz": 240
    },
    "id": "IiqyC9b9PQSZ",
    "outputId": "796dd1d2-14f4-459a-e951-a98860da8239",
    "scrolled": true
   },
   "outputs": [
    {
     "name": "stdout",
     "output_type": "stream",
     "text": [
      "Epoch 1/10\n",
      "96/96 [==============================] - 705s 7s/step - loss: 0.3307 - binary_accuracy: 0.8507 - auc_1: 0.9337 - val_loss: 0.3174 - val_binary_accuracy: 0.8589 - val_auc_1: 0.9397\n",
      "Epoch 2/10\n",
      "96/96 [==============================] - 522s 5s/step - loss: 0.3073 - binary_accuracy: 0.8606 - auc_1: 0.9425 - val_loss: 0.3264 - val_binary_accuracy: 0.8536 - val_auc_1: 0.9347\n",
      "Epoch 3/10\n",
      "96/96 [==============================] - 522s 5s/step - loss: 0.2936 - binary_accuracy: 0.8647 - auc_1: 0.9475 - val_loss: 0.3044 - val_binary_accuracy: 0.8660 - val_auc_1: 0.9435\n",
      "Epoch 4/10\n",
      "96/96 [==============================] - 517s 5s/step - loss: 0.2818 - binary_accuracy: 0.8715 - auc_1: 0.9518 - val_loss: 0.3016 - val_binary_accuracy: 0.8636 - val_auc_1: 0.9452\n",
      "Epoch 5/10\n",
      "96/96 [==============================] - 516s 5s/step - loss: 0.2778 - binary_accuracy: 0.8707 - auc_1: 0.9527 - val_loss: 0.2842 - val_binary_accuracy: 0.8770 - val_auc_1: 0.9518\n",
      "Epoch 6/10\n",
      "96/96 [==============================] - 514s 5s/step - loss: 0.2596 - binary_accuracy: 0.8823 - auc_1: 0.9591 - val_loss: 0.3047 - val_binary_accuracy: 0.8646 - val_auc_1: 0.9434\n",
      "Epoch 7/10\n",
      "96/96 [==============================] - 517s 5s/step - loss: 0.2461 - binary_accuracy: 0.8914 - auc_1: 0.9634 - val_loss: 0.3308 - val_binary_accuracy: 0.8469 - val_auc_1: 0.9313\n",
      "Epoch 8/10\n",
      "96/96 [==============================] - 520s 5s/step - loss: 0.2484 - binary_accuracy: 0.8849 - auc_1: 0.9626 - val_loss: 0.3051 - val_binary_accuracy: 0.8632 - val_auc_1: 0.9424\n",
      "Epoch 9/10\n",
      "96/96 [==============================] - 519s 5s/step - loss: 0.2392 - binary_accuracy: 0.8958 - auc_1: 0.9652 - val_loss: 0.2772 - val_binary_accuracy: 0.8780 - val_auc_1: 0.9529\n",
      "Epoch 10/10\n",
      "96/96 [==============================] - 519s 5s/step - loss: 0.2310 - binary_accuracy: 0.8948 - auc_1: 0.9678 - val_loss: 0.2769 - val_binary_accuracy: 0.8794 - val_auc_1: 0.9529\n"
     ]
    }
   ],
   "source": [
    "history = model.fit(train_generator,\n",
    "                    epochs=n_epochs,\n",
    "                    validation_data = validation_generator,\n",
    "                    batch_size=BATCH_SIZE,\n",
    "                    callbacks=[early_stop])"
   ]
  },
  {
   "cell_type": "markdown",
   "id": "ac3a9c0b",
   "metadata": {},
   "source": [
    "# Test Set"
   ]
  },
  {
   "cell_type": "code",
   "execution_count": null,
   "id": "539358c0",
   "metadata": {},
   "outputs": [],
   "source": [
    "cd/gdrive/My Drive/Retimages/Test"
   ]
  },
  {
   "cell_type": "code",
   "execution_count": null,
   "id": "e13ad6bf",
   "metadata": {
    "colab": {
     "background_save": true,
     "base_uri": "https://localhost:8080/"
    },
    "id": "G57EEdQA2EOf",
    "outputId": "2560daa8-94eb-4111-bfd7-6c7ff5dec1bd"
   },
   "outputs": [
    {
     "name": "stdout",
     "output_type": "stream",
     "text": [
      "Found 907 images belonging to 2 classes.\n"
     ]
    }
   ],
   "source": [
    "test_datagen = ImageDataGenerator(rescale=1/255)\n",
    "test_generator = test_datagen.flow_from_directory('./Test/TestEQH',\n",
    "                                                  target_size=(height,weight),\n",
    "                                                  color_mode='rgb',\n",
    "                                                  batch_size=907,\n",
    "                                                  class_mode='categorical')\n",
    "\n",
    "X_test, y_test = test_generator.next()"
   ]
  },
  {
   "cell_type": "markdown",
   "id": "ae48b2f8",
   "metadata": {},
   "source": [
    "# Model Predictions and Evaluation"
   ]
  },
  {
   "cell_type": "code",
   "execution_count": null,
   "id": "074f91b4",
   "metadata": {
    "colab": {
     "base_uri": "https://localhost:8080/"
    },
    "executionInfo": {
     "elapsed": 8482,
     "status": "ok",
     "timestamp": 1659153585065,
     "user": {
      "displayName": "Mark Whelly",
      "userId": "14089540614639207633"
     },
     "user_tz": 240
    },
    "id": "f1cac985",
    "outputId": "01e8890b-ed1b-41ed-b6e7-3207c381b6dc"
   },
   "outputs": [
    {
     "name": "stdout",
     "output_type": "stream",
     "text": [
      "29/29 [==============================] - 5s 109ms/step - loss: 0.2983 - binary_accuracy: 0.8754 - auc_1: 0.9448\n",
      "Test loss: 0.2983150780200958 4\n",
      "Test accuracy: 0.8754134774208069 4\n"
     ]
    }
   ],
   "source": [
    "# Examine test accuracy\n",
    "score = model.evaluate(X_test, y_test, verbose=1)\n",
    "\n",
    "print('Test loss:', score[0],round(4))\n",
    "print('Test accuracy:', score[1],round(4))"
   ]
  },
  {
   "cell_type": "code",
   "execution_count": null,
   "id": "ac97dbd0",
   "metadata": {
    "id": "IFGdKtFI83jO"
   },
   "outputs": [],
   "source": [
    "# Generate predictions\n",
    "predictions = model.predict(X_test)"
   ]
  },
  {
   "cell_type": "code",
   "execution_count": null,
   "id": "c27da14c",
   "metadata": {
    "id": "f96ImSCOTy08"
   },
   "outputs": [],
   "source": [
    "# Grab a batch of images from our validation generator: \n",
    "x, y = validation_generator.next() "
   ]
  },
  {
   "cell_type": "code",
   "execution_count": null,
   "id": "1134ebb0",
   "metadata": {
    "id": "iLUlQ7KiBgWA"
   },
   "outputs": [],
   "source": [
    "# Our images labels are one-hot encoded, lets convert them to ordinal encoding\n",
    "labels = np.argmax(y, axis=0)"
   ]
  },
  {
   "cell_type": "code",
   "execution_count": null,
   "id": "9a3b26f2",
   "metadata": {
    "id": "23ff1466"
   },
   "outputs": [],
   "source": [
    "# Calculate the predictions\n",
    "predict_probas = model.predict(X_test)\n",
    "\n",
    "# Convert probabilities to label encoding\n",
    "y_predict = np.argmax(predict_probas, axis=1)"
   ]
  },
  {
   "cell_type": "code",
   "execution_count": null,
   "id": "5ca231e7",
   "metadata": {
    "colab": {
     "base_uri": "https://localhost:8080/",
     "height": 422
    },
    "executionInfo": {
     "elapsed": 1621,
     "status": "ok",
     "timestamp": 1659153597602,
     "user": {
      "displayName": "Mark Whelly",
      "userId": "14089540614639207633"
     },
     "user_tz": 240
    },
    "id": "d2471fd9",
    "outputId": "66d155e4-5952-4afd-8cef-515fe6f4c463",
    "scrolled": true
   },
   "outputs": [
    {
     "data": {
      "image/png": "[encoded data removed]",
      "text/plain": [
       "<Figure size 576x432 with 1 Axes>"
      ]
     },
     "metadata": {},
     "output_type": "display_data"
    }
   ],
   "source": [
    "# Construct the confusion matrix\n",
    "from sklearn.metrics import confusion_matrix, precision_score, recall_score, f1_score, accuracy_score\n",
    "\n",
    "# Convert our test labels from one-hot encoding to label encoding\n",
    "y_test_labels = np.argmax(y_test,axis=1)\n",
    "\n",
    "conf_mat = confusion_matrix(y_test_labels, y_predict)\n",
    "normalized_conf_mat = conf_mat / conf_mat.sum(axis=1)\n",
    "\n",
    "plt.figure(figsize = (8,6))\n",
    "sns.heatmap(normalized_conf_mat,\n",
    "            annot=True,\n",
    "            cbar=False,\n",
    "            cmap=\"rocket_r\",\n",
    "            linewidths=1,\n",
    "            xticklabels=(\"Healthy\",\"Diseased\"),\n",
    "            yticklabels=(\"Healthy\",\"Diseased\")\n",
    "            \n",
    "           )\n",
    "plt.title('Confusion Matrix - Binary Classifier (45 Diseases)',size = 25,y=1.01)\n",
    "plt.xlabel(\"Predicted Label\", size = 20)\n",
    "plt.ylabel(\"True Label\", size = 20)\n",
    "plt.show()"
   ]
  },
  {
   "cell_type": "markdown",
   "id": "87e0edc0",
   "metadata": {},
   "source": [
    "The above matrix shows good accuracy, recall and precision for this binary classifier model. We will now look at the F1 score (harmonized mean of recall and precision), and we will plot accuracy of Train and Validation sets."
   ]
  },
  {
   "cell_type": "code",
   "execution_count": null,
   "id": "59bda7d2",
   "metadata": {
    "colab": {
     "base_uri": "https://localhost:8080/"
    },
    "executionInfo": {
     "elapsed": 436,
     "status": "ok",
     "timestamp": 1659146298045,
     "user": {
      "displayName": "Mark Whelly",
      "userId": "14089540614639207633"
     },
     "user_tz": 240
    },
    "id": "nHCefEXGouzJ",
    "outputId": "292d9079-dd8e-4dec-bbab-48cc5fec9d20"
   },
   "outputs": [
    {
     "name": "stdout",
     "output_type": "stream",
     "text": [
      "F1 Score: 0.889\n"
     ]
    }
   ],
   "source": [
    "# Obtain the F1 score\n",
    "print('F1 Score: %.3f' % f1_score(y_test_labels, y_predict))"
   ]
  },
  {
   "cell_type": "code",
   "execution_count": null,
   "id": "55074056",
   "metadata": {
    "colab": {
     "base_uri": "https://localhost:8080/",
     "height": 232
    },
    "executionInfo": {
     "elapsed": 648,
     "status": "error",
     "timestamp": 1659189369101,
     "user": {
      "displayName": "Mark Whelly",
      "userId": "14089540614639207633"
     },
     "user_tz": 240
    },
    "id": "tcxz_OiOGaB2",
    "outputId": "089391ad-737b-4f03-cdc4-5953cbf0f16e",
    "scrolled": true
   },
   "outputs": [
    {
     "ename": "NameError",
     "evalue": "ignored",
     "output_type": "error",
     "traceback": [
      "\u001b[0;31m---------------------------------------------------------------------------\u001b[0m",
      "\u001b[0;31mNameError\u001b[0m                                 Traceback (most recent call last)",
      "\u001b[0;32m<ipython-input-1-ee269c4b79c0>\u001b[0m in \u001b[0;36m<module>\u001b[0;34m()\u001b[0m\n\u001b[1;32m      1\u001b[0m \u001b[0;31m# list all data in history\u001b[0m\u001b[0;34m\u001b[0m\u001b[0;34m\u001b[0m\u001b[0;34m\u001b[0m\u001b[0m\n\u001b[0;32m----> 2\u001b[0;31m \u001b[0mprint\u001b[0m\u001b[0;34m(\u001b[0m\u001b[0mhistory\u001b[0m\u001b[0;34m.\u001b[0m\u001b[0mhistory\u001b[0m\u001b[0;34m.\u001b[0m\u001b[0mkeys\u001b[0m\u001b[0;34m(\u001b[0m\u001b[0;34m)\u001b[0m\u001b[0;34m)\u001b[0m\u001b[0;34m\u001b[0m\u001b[0;34m\u001b[0m\u001b[0m\n\u001b[0m\u001b[1;32m      3\u001b[0m \u001b[0;34m\u001b[0m\u001b[0m\n\u001b[1;32m      4\u001b[0m \u001b[0;31m# summarize history for accuracy\u001b[0m\u001b[0;34m\u001b[0m\u001b[0;34m\u001b[0m\u001b[0;34m\u001b[0m\u001b[0m\n\u001b[1;32m      5\u001b[0m \u001b[0mplt\u001b[0m\u001b[0;34m.\u001b[0m\u001b[0mplot\u001b[0m\u001b[0;34m(\u001b[0m\u001b[0mhistory\u001b[0m\u001b[0;34m.\u001b[0m\u001b[0mhistory\u001b[0m\u001b[0;34m[\u001b[0m\u001b[0;34m'binary_accuracy'\u001b[0m\u001b[0;34m]\u001b[0m\u001b[0;34m)\u001b[0m\u001b[0;34m\u001b[0m\u001b[0;34m\u001b[0m\u001b[0m\n",
      "\u001b[0;31mNameError\u001b[0m: name 'history' is not defined"
     ]
    }
   ],
   "source": [
    "# list all data in history\n",
    "print(history.history.keys())\n",
    "\n",
    "# summarize history for accuracy\n",
    "plt.plot(history.history['binary_accuracy'])\n",
    "plt.plot(history.history['val_binary_accuracy'])\n",
    "plt.title('Retinal Image Health - Model accuracy')\n",
    "plt.ylabel('accuracy')\n",
    "plt.xlabel('epoch')\n",
    "plt.xticks(np.arange(0,18,3))\n",
    "plt.legend(['train acc', 'validation acc'])\n",
    "plt.show()\n",
    "\n",
    "# summarize history for loss\n",
    "plt.plot(history.history['loss'])\n",
    "plt.plot(history.history['val_loss'])\n",
    "plt.title('Retinal Image Health - Model loss')\n",
    "plt.ylabel('loss')\n",
    "plt.xlabel('epoch')\n",
    "plt.xticks(np.arange(0,18,3))\n",
    "plt.legend(['train loss', 'val loss'])\n",
    "plt.show()"
   ]
  },
  {
   "cell_type": "code",
   "execution_count": null,
   "id": "8880168c",
   "metadata": {},
   "outputs": [],
   "source": [
    "# save model\n",
    "model.save('Eye_Binary_45Disease_Inception_eq_28Jul2022.h5')"
   ]
  },
  {
   "cell_type": "code",
   "execution_count": null,
   "id": "26357255",
   "metadata": {
    "colab": {
     "base_uri": "https://localhost:8080/"
    },
    "executionInfo": {
     "elapsed": 6263,
     "status": "ok",
     "timestamp": 1659146345137,
     "user": {
      "displayName": "Mark Whelly",
      "userId": "14089540614639207633"
     },
     "user_tz": 240
    },
    "id": "OdgWnWiqtOLC",
    "outputId": "a9a1f004-16f2-425f-d1a0-f94e9f1dec58"
   },
   "outputs": [
    {
     "name": "stdout",
     "output_type": "stream",
     "text": [
      "Looking in indexes: https://pypi.org/simple, https://us-python.pkg.dev/colab-wheels/public/simple/\n",
      "Collecting scikit-plot\n",
      "  Downloading scikit_plot-0.3.7-py3-none-any.whl (33 kB)\n",
      "Requirement already satisfied: joblib>=0.10 in /usr/local/lib/python3.7/dist-packages (from scikit-plot) (1.1.0)\n",
      "Requirement already satisfied: scipy>=0.9 in /usr/local/lib/python3.7/dist-packages (from scikit-plot) (1.7.3)\n",
      "Requirement already satisfied: matplotlib>=1.4.0 in /usr/local/lib/python3.7/dist-packages (from scikit-plot) (3.2.2)\n",
      "Requirement already satisfied: scikit-learn>=0.18 in /usr/local/lib/python3.7/dist-packages (from scikit-plot) (1.0.2)\n",
      "Requirement already satisfied: python-dateutil>=2.1 in /usr/local/lib/python3.7/dist-packages (from matplotlib>=1.4.0->scikit-plot) (2.8.2)\n",
      "Requirement already satisfied: numpy>=1.11 in /usr/local/lib/python3.7/dist-packages (from matplotlib>=1.4.0->scikit-plot) (1.21.6)\n",
      "Requirement already satisfied: cycler>=0.10 in /usr/local/lib/python3.7/dist-packages (from matplotlib>=1.4.0->scikit-plot) (0.11.0)\n",
      "Requirement already satisfied: kiwisolver>=1.0.1 in /usr/local/lib/python3.7/dist-packages (from matplotlib>=1.4.0->scikit-plot) (1.4.4)\n",
      "Requirement already satisfied: pyparsing!=2.0.4,!=2.1.2,!=2.1.6,>=2.0.1 in /usr/local/lib/python3.7/dist-packages (from matplotlib>=1.4.0->scikit-plot) (3.0.9)\n",
      "Requirement already satisfied: typing-extensions in /usr/local/lib/python3.7/dist-packages (from kiwisolver>=1.0.1->matplotlib>=1.4.0->scikit-plot) (4.1.1)\n",
      "Requirement already satisfied: six>=1.5 in /usr/local/lib/python3.7/dist-packages (from python-dateutil>=2.1->matplotlib>=1.4.0->scikit-plot) (1.15.0)\n",
      "Requirement already satisfied: threadpoolctl>=2.0.0 in /usr/local/lib/python3.7/dist-packages (from scikit-learn>=0.18->scikit-plot) (3.1.0)\n",
      "Installing collected packages: scikit-plot\n",
      "Successfully installed scikit-plot-0.3.7\n"
     ]
    }
   ],
   "source": [
    "pip install scikit-plot"
   ]
  },
  {
   "cell_type": "code",
   "execution_count": null,
   "id": "8b04fafe",
   "metadata": {
    "colab": {
     "base_uri": "https://localhost:8080/"
    },
    "executionInfo": {
     "elapsed": 52,
     "status": "ok",
     "timestamp": 1659153597604,
     "user": {
      "displayName": "Mark Whelly",
      "userId": "14089540614639207633"
     },
     "user_tz": 240
    },
    "id": "VAaxVA1k3pZJ",
    "outputId": "9d05fe3e-7a52-4bac-df5a-71a6c132e9cb"
   },
   "outputs": [
    {
     "name": "stdout",
     "output_type": "stream",
     "text": [
      "              precision    recall  f1-score   support\n",
      "\n",
      "           0       0.84      0.90      0.87       401\n",
      "           1       0.92      0.87      0.89       506\n",
      "\n",
      "    accuracy                           0.88       907\n",
      "   macro avg       0.88      0.88      0.88       907\n",
      "weighted avg       0.88      0.88      0.88       907\n",
      "\n"
     ]
    }
   ],
   "source": [
    "#print(classification_report, 0=Normal, 1=Diseased')\n",
    "from sklearn.metrics import classification_report\n",
    "\n",
    "report_initial = classification_report(y_test_labels, y_predict)\n",
    "print(report_initial)"
   ]
  },
  {
   "cell_type": "code",
   "execution_count": null,
   "id": "5174ff19",
   "metadata": {
    "colab": {
     "base_uri": "https://localhost:8080/",
     "height": 312
    },
    "executionInfo": {
     "elapsed": 1160,
     "status": "ok",
     "timestamp": 1659146390957,
     "user": {
      "displayName": "Mark Whelly",
      "userId": "14089540614639207633"
     },
     "user_tz": 240
    },
    "id": "oJl1AGJMHb-F",
    "outputId": "c93e8c7b-c0eb-46e7-ed73-28b3056b77dd"
   },
   "outputs": [
    {
     "data": {
      "image/png": "[encoded data removed]",
      "text/plain": [
       "<Figure size 432x288 with 1 Axes>"
      ]
     },
     "metadata": {},
     "output_type": "display_data"
    },
    {
     "data": {
      "text/plain": [
       "<Figure size 1400x1200 with 0 Axes>"
      ]
     },
     "metadata": {},
     "output_type": "display_data"
    }
   ],
   "source": [
    "# Plot of ROC Curves per Class\n",
    "\n",
    "from IPython.core.pylabtools import figsize\n",
    "import scikitplot as skplt\n",
    "import matplotlib.pyplot as plt\n",
    "#y_test_labels = # ground truth labels\n",
    "skplt.metrics.plot_roc(y_test_labels, predict_probas)\n",
    "plt.figure(figsize=(14,12),dpi=100)\n",
    "plt.show()"
   ]
  },
  {
   "cell_type": "markdown",
   "id": "5ada15fb",
   "metadata": {
    "id": "bc0d476a"
   },
   "source": [
    "#### Incorrectly Predicted Images\n",
    "As our final evaluation of our model, we will look at the images that were incorrectly predicted to see if there are any patterns."
   ]
  },
  {
   "cell_type": "code",
   "execution_count": null,
   "id": "356dd640",
   "metadata": {
    "colab": {
     "background_save": true
    },
    "id": "b5417881",
    "outputId": "619eaba2-f9f8-4e5d-a297-836ca4c150a7"
   },
   "outputs": [],
   "source": [
    "import math\n",
    "\n",
    "incorrect_photos = y_test_labels != y_predict\n",
    "\n",
    "num_images = np.count_nonzero(incorrect_photos)\n",
    "columns = 2\n",
    "rows = math.ceil(num_images / columns)\n",
    "\n",
    "fig, axes = plt.subplots(nrows=rows, ncols=columns, figsize=(10, 3.5*rows))\n",
    "\n",
    "axes = axes.flatten()\n",
    "\n",
    "for i, image in enumerate(X_test[incorrect_photos]):\n",
    "    axes[i].imshow(image, cmap='gray')\n",
    "\n",
    "    # Get predicted label\n",
    "    predicted_label = labels[y_predict[incorrect_photos][i]]\n",
    "    \n",
    "    # Get actual label\n",
    "    true_label =  labels[y_test_labels[incorrect_photos][i]]\n",
    "\n",
    "    #Get filename of image\n",
    "    filenam = test_generator.filenames[i]\n",
    "    x=filenam[8:]     \n",
    "\n",
    "    # Set the title of the subplot\n",
    "    axes[i].set_title(f\"\\n IMAGE: {x} \\n Predicted: {predicted_label}\\n True: {true_label}\")\n",
    "    \n",
    "    # Hide the x and y ticks to make \n",
    "    axes[i].set_xticks([]) \n",
    "    axes[i].set_yticks([])\n",
    "    \n",
    "fig.tight_layout()\n",
    "# Hide unused subplots\n",
    "for i in range(num_images, rows*columns):\n",
    "    fig.delaxes(axes[i])\n",
    "\n",
    "plt.show()"
   ]
  },
  {
   "cell_type": "markdown",
   "id": "9440bb41",
   "metadata": {},
   "source": [
    "Images above were examined for physical attributes (colour, markings, brightness, specific features related to specific diseases), trends or noticeable patterns in terms of predicted vs True classes.\n",
    "No observed pattern was seen in terms of physical appearance of misclassed images, or a pattern in terms of which images were predicted in one class but were in fact another class."
   ]
  },
  {
   "cell_type": "code",
   "execution_count": null,
   "id": "6fad1179",
   "metadata": {
    "id": "457b5e68"
   },
   "outputs": [],
   "source": [
    "# Count all misclassified images in test set\n",
    "MISCLASSIFIED = num_images\n",
    "\n",
    "# Accuracy calculations\n",
    "total = Num_Test_Images\n",
    "num_correct = total - (MISCLASSIFIED)\n",
    "accuracy = num_correct/total\n",
    "\n",
    "print('Accuracy: ' + str(accuracy))\n",
    "print(f\"Number of misclassified images = {MISCLASSIFIED}  out of {total}\")"
   ]
  },
  {
   "cell_type": "markdown",
   "id": "fa9364cb",
   "metadata": {},
   "source": [
    "This model provided great binary classification results for evaluating if eyes are healthy or diseased. \n",
    "\n",
    "Subsequently, I conducted modeling with only the images from the 16 most frequent diseases. I also conducted modeling with only the top 8 most common diseases in the dataset, and I report these results as Model 1b in the Report (no notebook provided as it was similar to this current report with 45 diseases)."
   ]
  },
  {
   "cell_type": "markdown",
   "id": "faf5925c",
   "metadata": {
    "id": "f14d5329"
   },
   "source": [
    "# Concluding Statements"
   ]
  },
  {
   "cell_type": "markdown",
   "id": "d5e3935a",
   "metadata": {},
   "source": [
    "Therefore we had 88% test accuracy in accurately predicting whether a retinal image was healthy or diseased, based on 45 potential diseases present.\n",
    "\n",
    "We also had 94% Recall (our key metric for this medical-related question, since we do not want to miss out positive disease cases as this would mean that a person needing care would not get it). So we only missed 6% of cases where diseased retinas were presented and we rated them normal.  We had 88% Precision as well.\n",
    "\n",
    "In conclusion, our CNN transfer learning model with InceptionV3 was effective in detecting diseases, despite the fact that there were 45 types of disease, some of which with only a few images each type. Also, the authors had added noise to the images to make classification more difficult.\n",
    "\n",
    "Further modeling was conducted with Model 1B(see Report; no notebook). \n",
    "\n",
    "Additionally, Model 2 (DR specific classifier), Model 3 (ARMD specific classifier), Model 4 (ODC specific Classifier), and Model 5 (multiclass model with the 5 of the most common diseases) were developed and tuned to optimize recall and precision. These are provided in separate notebooks, and also summarized in the Report."
   ]
  }
 ],
 "metadata": {
  "accelerator": "GPU",
  "colab": {
   "collapsed_sections": [],
   "machine_shape": "hm",
   "name": "EYEincept3.ipynb",
   "provenance": []
  },
  "gpuClass": "standard",
  "kernelspec": {
   "display_name": "Python 3",
   "language": "python",
   "name": "python3"
  },
  "language_info": {
   "codemirror_mode": {
    "name": "ipython",
    "version": 3
   },
   "file_extension": ".py",
   "mimetype": "text/x-python",
   "name": "python",
   "nbconvert_exporter": "python",
   "pygments_lexer": "ipython3",
   "version": "3.5.6"
  }
 },
 "nbformat": 4,
 "nbformat_minor": 5
}
