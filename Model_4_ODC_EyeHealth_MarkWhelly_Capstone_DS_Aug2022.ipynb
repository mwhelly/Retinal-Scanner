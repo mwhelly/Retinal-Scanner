{
 "cells": [
  {
   "cell_type": "markdown",
   "id": "sTmoy0oEbajZ",
   "metadata": {
    "id": "sTmoy0oEbajZ"
   },
   "source": [
    "# Model 4\n",
    "\n",
    "# ODC (Optic Disc Cupping)  CNN Binary Model \n",
    "\n",
    "## Mark Whelly - BrainStation Data Science Bootcamp - August 2022\n",
    "\n",
    "Transfer Learning Model using InceptionV3. Working on Google Colab Cloud environment."
   ]
  },
  {
   "cell_type": "markdown",
   "id": "e7508d4f",
   "metadata": {},
   "source": [
    "This is the fourth of 5 models presented as part of this project.\n",
    "\n",
    "This MODEL 4 is a binary classifier of retinal images, specifically looking for Optic-Disc Cupping (ODC).\n",
    "ODC is related to the thinning of the neuroretinal rim around the optic nerve, and pathological ODC is generally referred to as glaucoma which can lead to blindness.\n",
    "\n",
    "This CNN model only includes the images that show either:\n",
    "    -Normal eye condition (class 0).\n",
    "    -ODC only (class1). No other disease present.\n",
    "\n",
    "The data originate from a scientific paper in the journal Data, as published by Pachade et al 2021. Data was obtained from the kaggle website, as provided by the user 'Larxel' under the dataset Retinal Image Classification.\n",
    "\n",
    "All modeling work was done on the Google Colab environment using google GPU to increase modeling speeds."
   ]
  },
  {
   "cell_type": "code",
   "execution_count": 1,
   "id": "-6rAvFG97Ihs",
   "metadata": {
    "executionInfo": {
     "elapsed": 8,
     "status": "ok",
     "timestamp": 1661266630287,
     "user": {
      "displayName": "Mark Whelly",
      "userId": "14089540614639207633"
     },
     "user_tz": 420
    },
    "id": "-6rAvFG97Ihs"
   },
   "outputs": [],
   "source": [
    "import os"
   ]
  },
  {
   "cell_type": "code",
   "execution_count": 2,
   "id": "Tl-V90uI7OWT",
   "metadata": {
    "executionInfo": {
     "elapsed": 6,
     "status": "ok",
     "timestamp": 1661266630288,
     "user": {
      "displayName": "Mark Whelly",
      "userId": "14089540614639207633"
     },
     "user_tz": 420
    },
    "id": "Tl-V90uI7OWT"
   },
   "outputs": [],
   "source": [
    "from google.colab import drive"
   ]
  },
  {
   "cell_type": "code",
   "execution_count": 3,
   "id": "AOY9CndC7Q7i",
   "metadata": {
    "colab": {
     "base_uri": "https://localhost:8080/"
    },
    "executionInfo": {
     "elapsed": 17571,
     "status": "ok",
     "timestamp": 1661266647854,
     "user": {
      "displayName": "Mark Whelly",
      "userId": "14089540614639207633"
     },
     "user_tz": 420
    },
    "id": "AOY9CndC7Q7i",
    "outputId": "38e656bf-8f60-42b3-8d7a-70e0d50fdf7c"
   },
   "outputs": [
    {
     "name": "stdout",
     "output_type": "stream",
     "text": [
      "Mounted at /gdrive\n"
     ]
    }
   ],
   "source": [
    "drive.mount('/gdrive')"
   ]
  },
  {
   "cell_type": "code",
   "execution_count": 5,
   "id": "DHZ6QB2u89CM",
   "metadata": {
    "colab": {
     "base_uri": "https://localhost:8080/"
    },
    "executionInfo": {
     "elapsed": 9,
     "status": "ok",
     "timestamp": 1661266650291,
     "user": {
      "displayName": "Mark Whelly",
      "userId": "14089540614639207633"
     },
     "user_tz": 420
    },
    "id": "DHZ6QB2u89CM",
    "outputId": "fb112ae4-d429-4681-90ec-870a7413fa68"
   },
   "outputs": [
    {
     "name": "stdout",
     "output_type": "stream",
     "text": [
      "/gdrive/My Drive/Retimages/Train\n"
     ]
    }
   ],
   "source": [
    "cd/gdrive/My Drive/Retimages/Train/"
   ]
  },
  {
   "cell_type": "code",
   "execution_count": 4,
   "id": "e770284c",
   "metadata": {
    "executionInfo": {
     "elapsed": 2440,
     "status": "ok",
     "timestamp": 1661266650290,
     "user": {
      "displayName": "Mark Whelly",
      "userId": "14089540614639207633"
     },
     "user_tz": 420
    },
    "id": "e770284c"
   },
   "outputs": [],
   "source": [
    "import numpy as np \n",
    "import pandas as pd\n",
    "import zipfile\n",
    "\n",
    "import csv\n",
    "import tensorflow as tf\n",
    "from tensorflow import keras\n",
    "from tensorflow.keras.layers import Input\n",
    "from tensorflow.python.keras.models import Input\n",
    "from tensorflow.keras.utils import to_categorical\n",
    "from tensorflow.keras import Model\n",
    "from tensorflow.keras import layers\n",
    "from tensorflow.keras.layers import Conv2D, MaxPooling2D\n",
    "from pathlib import Path\n",
    "import os\n",
    "\n",
    "import skimage\n",
    "import skimage.io\n",
    "from skimage import data, img_as_float\n",
    "from skimage import exposure\n",
    "from matplotlib import pyplot as plt\n",
    "\n",
    "from matplotlib.pyplot import imread, imshow, show, subplot, title, get_cmap, hist\n",
    "from skimage.exposure import equalize_hist"
   ]
  },
  {
   "cell_type": "code",
   "execution_count": 6,
   "id": "e675081f",
   "metadata": {
    "executionInfo": {
     "elapsed": 4,
     "status": "ok",
     "timestamp": 1661266650291,
     "user": {
      "displayName": "Mark Whelly",
      "userId": "14089540614639207633"
     },
     "user_tz": 420
    },
    "id": "e675081f"
   },
   "outputs": [],
   "source": [
    "try:\n",
    "    import tensorflow as tf\n",
    "    from tensorflow.keras.models import Sequential\n",
    "    from tensorflow.keras.layers import Dense, LSTM, Dropout, Flatten, GRU, Bidirectional\n",
    "    from tensorflow.keras.optimizers import SGD\n",
    "except:\n",
    "    !pip install keras\n",
    "    !pip install h5py==3.1.0 numpy==1.19.2 six==1.15.0 typing-extensions==3.7.4 wrapt==1.12.1 botocore==1.20.106 gast==0.4.0 tensorboard==2.6 tensorflow-estimator==2.6 absl-py==0.9 protobuf==3.11.2 scikit-learn==0.24 fsspec==2021.07.0 google-api-python-client==1.12.1\n",
    "    !pip install --upgrade tensorflow\n",
    "    !pip install --ignore-installed --upgrade tensorflow-gpu==1.15.0\n",
    "    import tensorflow as tf\n",
    "    from tensorflow.keras.models import Sequential\n",
    "    from tensorflow.keras.layers import Dense, LSTM, Dropout, GRU, Bidirectional\n",
    "    from tensorflow.keras.optimizers import SGD"
   ]
  },
  {
   "cell_type": "code",
   "execution_count": 7,
   "id": "64472b52",
   "metadata": {
    "executionInfo": {
     "elapsed": 1090,
     "status": "ok",
     "timestamp": 1661266651377,
     "user": {
      "displayName": "Mark Whelly",
      "userId": "14089540614639207633"
     },
     "user_tz": 420
    },
    "id": "64472b52"
   },
   "outputs": [],
   "source": [
    "from tensorflow.keras.optimizers import RMSprop\n",
    "from tensorflow.keras.applications.inception_v3 import InceptionV3\n",
    "from tensorflow.keras.preprocessing.image import ImageDataGenerator\n",
    "from sklearn.metrics import confusion_matrix\n",
    "from tensorflow.keras.preprocessing import image\n",
    "import cv2\n",
    "%matplotlib inline\n",
    "import matplotlib\n",
    "import matplotlib.pyplot as plt\n",
    "import matplotlib.image as mpimg\n",
    "import seaborn as sns\n",
    "import shutil\n",
    "from tqdm import tqdm"
   ]
  },
  {
   "cell_type": "markdown",
   "id": "Jzg3vDEjEPwM",
   "metadata": {
    "id": "Jzg3vDEjEPwM"
   },
   "source": [
    "# PART 1 - Data Preparation and Organization\n",
    "\n",
    "Grouping images into 2 separate folders (0 for Normal photos, and 1 for ODC images), within Retimages/Train/TrainODCeqh directory on Google Colab.\n",
    "\n",
    "Similarly, Validation images were grouped into subfolder per 2 classes, within Retimages/Validation/ValidODCeqh, and Test images grouped into Retimages/Test/TestODCeqh.\n",
    "\n",
    "Note that image preprocessing was conducted on all images and the model was run and compared with the model using the original non-enhanced images. In this case, the best results (recall, precision, accuracy) were seen with the histogram-Equalized images (EQH) and these images are used in the model below."
   ]
  },
  {
   "cell_type": "code",
   "execution_count": null,
   "id": "115f5a03",
   "metadata": {
    "colab": {
     "base_uri": "https://localhost:8080/",
     "height": 232
    },
    "executionInfo": {
     "elapsed": 193,
     "status": "error",
     "timestamp": 1661186571295,
     "user": {
      "displayName": "Mark Whelly",
      "userId": "14089540614639207633"
     },
     "user_tz": 420
    },
    "id": "115f5a03",
    "outputId": "eec76d28-f04e-423a-9c7d-e7974fd7eb9a"
   },
   "outputs": [
    {
     "ename": "FileExistsError",
     "evalue": "ignored",
     "output_type": "error",
     "traceback": [
      "\u001b[0;31m---------------------------------------------------------------------------\u001b[0m",
      "\u001b[0;31mFileExistsError\u001b[0m                           Traceback (most recent call last)",
      "\u001b[0;32m<ipython-input-11-d08e3ed5d9a7>\u001b[0m in \u001b[0;36m<module>\u001b[0;34m\u001b[0m\n\u001b[1;32m     18\u001b[0m \u001b[0;34m\u001b[0m\u001b[0m\n\u001b[1;32m     19\u001b[0m \u001b[0mF\u001b[0m\u001b[0;34m.\u001b[0m\u001b[0mclose\u001b[0m\u001b[0;34m(\u001b[0m\u001b[0;34m)\u001b[0m\u001b[0;34m\u001b[0m\u001b[0;34m\u001b[0m\u001b[0m\n\u001b[0;32m---> 20\u001b[0;31m \u001b[0mos\u001b[0m\u001b[0;34m.\u001b[0m\u001b[0mmkdir\u001b[0m\u001b[0;34m(\u001b[0m\u001b[0;34m'./TrainODConly'\u001b[0m\u001b[0;34m)\u001b[0m\u001b[0;34m\u001b[0m\u001b[0;34m\u001b[0m\u001b[0m\n\u001b[0m\u001b[1;32m     21\u001b[0m \u001b[0;34m\u001b[0m\u001b[0m\n\u001b[1;32m     22\u001b[0m \u001b[0mparent_dir\u001b[0m\u001b[0;34m=\u001b[0m\u001b[0;34m\"./TrainODConly\"\u001b[0m\u001b[0;34m\u001b[0m\u001b[0;34m\u001b[0m\u001b[0m\n",
      "\u001b[0;31mFileExistsError\u001b[0m: [Errno 17] File exists: './TrainODConly'"
     ]
    }
   ],
   "source": [
    "# ALREADY RUN, do not rerun. \n",
    "\n",
    "# TRAINING IMAGES READING\n",
    "# 'Normal' as class 0, based on '0' in col 1 ('DisCode')\n",
    "a=[] \n",
    "\n",
    "#ODC_Only, based on a 1 in col 1.\n",
    "b=[] \n",
    "\n",
    "with open('../Train/TrainODC_Labels.csv','r') as F:\n",
    "  reader=csv.reader(F)\n",
    "  for row in reader:\n",
    "      if(row[1]=='0'):  # Normal.\n",
    "        a.append(row[0]+'.png')\n",
    "      if(row[1]=='1'):  # odc_Only\n",
    "        b.append(row[0]+'.png')\n",
    "\n",
    "F.close() \n",
    "os.mkdir('./TrainODCeqh')\n",
    "\n",
    "parent_dir=\"./TrainODCeqh\"\n",
    "directory1 = \"0Normal\" \n",
    "directory2 = \"1ODConly\"\n",
    "path1 = os.path.join(parent_dir, directory1)\n",
    "path2 = os.path.join(parent_dir, directory2)\n",
    "os.mkdir(path1)\n",
    "os.mkdir(path2)"
   ]
  },
  {
   "cell_type": "code",
   "execution_count": null,
   "id": "RiGUr4LOW9kj",
   "metadata": {
    "id": "RiGUr4LOW9kj"
   },
   "outputs": [],
   "source": [
    "# ALREADY RUN, do not rerun. \n",
    "\n",
    "save_path = './TrainODCeqh/0Normal'\n",
    "for filename in a:\n",
    "  shutil.copy('Training_set/'+filename,save_path)\n",
    "\n",
    "save_path = './TrainODCeqh/1ODConly'\n",
    "for filename in b:\n",
    "  shutil.copy('Training_set/'+filename,save_path)"
   ]
  },
  {
   "cell_type": "code",
   "execution_count": null,
   "id": "uCGogPaYCOYq",
   "metadata": {
    "colab": {
     "base_uri": "https://localhost:8080/"
    },
    "executionInfo": {
     "elapsed": 457,
     "status": "ok",
     "timestamp": 1661203520387,
     "user": {
      "displayName": "Mark Whelly",
      "userId": "14089540614639207633"
     },
     "user_tz": 420
    },
    "id": "uCGogPaYCOYq",
    "outputId": "f1cdc2d1-ccb3-4e61-f1fb-ccaf5c97dfbb"
   },
   "outputs": [
    {
     "name": "stdout",
     "output_type": "stream",
     "text": [
      "/gdrive/My Drive/Retimages/Validation\n"
     ]
    }
   ],
   "source": [
    "cd/gdrive/My Drive/Retimages/Validation/"
   ]
  },
  {
   "cell_type": "code",
   "execution_count": null,
   "id": "6fa1bc7b",
   "metadata": {
    "id": "6fa1bc7b"
   },
   "outputs": [],
   "source": [
    "# ALREADY RUN, do not rerun. \n",
    "\n",
    "# VALIDATION IMAGES READING\n",
    "# 'Normal' as class 0, based on '0' in col 1 ('DisCode'), goes in '0_Normal'\n",
    "a=[]\n",
    "\n",
    "# ODC_Only, based on a 1 in col 1 ('DisCode').\n",
    "b=[]\n",
    "\n",
    "with open('../Validation/Valid_ODC_Labels.csv','r') as F:\n",
    "  reader=csv.reader(F)\n",
    "  for row in reader:\n",
    "      if(row[1]=='0'):  # Normal.\n",
    "        a.append(row[0]+'.png')\n",
    "      if(row[1]=='1'):  # ODC_Only\n",
    "        b.append(row[0]+'.png')\n",
    "      \n",
    "F.close() \n",
    "os.mkdir('./ValidODCeqh')"
   ]
  },
  {
   "cell_type": "code",
   "execution_count": null,
   "id": "c40beb6e",
   "metadata": {
    "id": "c40beb6e"
   },
   "outputs": [],
   "source": [
    "# ALREADY RUN, do not rerun. \n",
    "\n",
    "parent_dir=\"./ValidODCeqh\"\n",
    "directory1 = \"0Normal\" \n",
    "directory2 = \"1ODConly\"\n",
    "path1 = os.path.join(parent_dir, directory1)\n",
    "path2 = os.path.join(parent_dir, directory2)\n",
    "os.mkdir(path1)\n",
    "os.mkdir(path2)"
   ]
  },
  {
   "cell_type": "code",
   "execution_count": null,
   "id": "ZzjCRtyOYw7R",
   "metadata": {
    "id": "ZzjCRtyOYw7R"
   },
   "outputs": [],
   "source": [
    "# ALREADY RUN, do not rerun. \n",
    "\n",
    "save_path = './ValidODCeqh/0Normal'\n",
    "for filename in a:\n",
    "  shutil.copy('Validation_set/'+filename,save_path)\n",
    "save_path = './ValidODCeqh/1ODConly'\n",
    "for filename in b:\n",
    "  shutil.copy('Validation_set/'+filename,save_path)"
   ]
  },
  {
   "cell_type": "code",
   "execution_count": null,
   "id": "RW0enrR9FS63",
   "metadata": {
    "colab": {
     "base_uri": "https://localhost:8080/"
    },
    "executionInfo": {
     "elapsed": 17,
     "status": "ok",
     "timestamp": 1661203646566,
     "user": {
      "displayName": "Mark Whelly",
      "userId": "14089540614639207633"
     },
     "user_tz": 420
    },
    "id": "RW0enrR9FS63",
    "outputId": "68ea1597-41a0-4f1f-e8b4-923236230b75"
   },
   "outputs": [
    {
     "name": "stdout",
     "output_type": "stream",
     "text": [
      "/gdrive/My Drive/Retimages/Test\n"
     ]
    }
   ],
   "source": [
    "cd/gdrive/My Drive/Retimages/Test/"
   ]
  },
  {
   "cell_type": "code",
   "execution_count": null,
   "id": "rlw7P88KZJ3l",
   "metadata": {
    "id": "rlw7P88KZJ3l"
   },
   "outputs": [],
   "source": [
    "# ALREADY RUN, do not rerun. \n",
    "\n",
    "# TEST IMAGES READING\n",
    "# 'Normal' as class 0, based on '0' in col 1 ('DisCode')\n",
    "a=[]\n",
    "\n",
    "# ARMD_Only, based on a 1 in col 1.\n",
    "b=[]\n",
    "\n",
    "with open('../Test/Test_ODC_Labels.csv','r') as F:\n",
    "  reader=csv.reader(F)\n",
    "  for row in reader:\n",
    "      if(row[1]=='0'):  # Normal.\n",
    "        a.append(row[0]+'.png')\n",
    "      if(row[1]=='1'):  # ARMD_Only\n",
    "        b.append(row[0]+'.png')\n",
    "      #if(row[1])=='2'):  # Other disease cases (NOT USED)\n",
    "        #c.append(row[0]+'.png')\n",
    "F.close() \n",
    "os.mkdir('./TestODCeqh')"
   ]
  },
  {
   "cell_type": "code",
   "execution_count": null,
   "id": "fe315ee6",
   "metadata": {
    "id": "fe315ee6"
   },
   "outputs": [],
   "source": [
    "# ALREADY RUN, do not rerun. \n",
    "\n",
    "parent_dir=\"./TestODCeqh\"\n",
    "directory1 = \"0Normal\" \n",
    "directory2 = \"1ODConly\"\n",
    "path1 = os.path.join(parent_dir, directory1)\n",
    "path2 = os.path.join(parent_dir, directory2)\n",
    "os.mkdir(path1)\n",
    "os.mkdir(path2)"
   ]
  },
  {
   "cell_type": "code",
   "execution_count": null,
   "id": "f5c7cec8",
   "metadata": {
    "id": "f5c7cec8"
   },
   "outputs": [],
   "source": [
    "# ALREADY RUN, do not rerun. \n",
    "\n",
    "save_path = './TestODCeqh/0Normal'\n",
    "for filename in a:\n",
    "  shutil.copy('Test_set/'+filename,save_path)\n",
    "save_path = './TestODCeqh/1ODConly'\n",
    "for filename in b:\n",
    "  shutil.copy('Test_set/'+filename,save_path)"
   ]
  },
  {
   "cell_type": "code",
   "execution_count": 10,
   "id": "7DpEo6bY0de6",
   "metadata": {
    "executionInfo": {
     "elapsed": 197,
     "status": "ok",
     "timestamp": 1661266691774,
     "user": {
      "displayName": "Mark Whelly",
      "userId": "14089540614639207633"
     },
     "user_tz": 420
    },
    "id": "7DpEo6bY0de6"
   },
   "outputs": [],
   "source": [
    "# Preprocessing function to apply to all images\n",
    "\n",
    "def hist_equalize(im, clahe=True, bgr=True):\n",
    "    # Equalize histogram on BGR image 'im' with im.shape(n,m,3) and range 0-255\n",
    "    yuv = cv2.cvtColor(im, cv2.COLOR_BGR2YUV if bgr else cv2.COLOR_RGB2YUV)\n",
    "    if clahe:\n",
    "        c = cv2.createCLAHE(clipLimit=2.0, tileGridSize=(8, 8))\n",
    "        yuv[:, :, 0] = c.apply(yuv[:, :, 0])\n",
    "    else:\n",
    "        yuv[:, :, 0] = cv2.equalizeHist(yuv[:, :, 0])  # equalize Y channel histogram\n",
    "    return cv2.cvtColor(yuv, cv2.COLOR_YUV2BGR if bgr else cv2.COLOR_YUV2RGB)  # convert YUV image to RGB\n"
   ]
  },
  {
   "cell_type": "code",
   "execution_count": 32,
   "id": "L8vLB3zvRbLR",
   "metadata": {
    "executionInfo": {
     "elapsed": 441,
     "status": "ok",
     "timestamp": 1661268097252,
     "user": {
      "displayName": "Mark Whelly",
      "userId": "14089540614639207633"
     },
     "user_tz": 420
    },
    "id": "L8vLB3zvRbLR"
   },
   "outputs": [],
   "source": [
    "# DO NOT RERUN\n",
    "\n",
    "#TO ENHANCE IMAGES\n",
    "\n",
    "# applying hist_equalize to TRAIN DR eqh normals\n",
    "from skimage import data, img_as_float\n",
    "from skimage import exposure\n",
    "import cv2\n",
    "from tensorflow.python.keras.utils.data_utils import Sequence\n",
    "import warnings\n",
    "warnings.filterwarnings(\"ignore\")\n",
    "destination_path = '/gdrive/My Drive/Retimages/Train/TrainODCeqh/0Normal/'\n",
    "origin_path = '/gdrive/My Drive/Retimages/Train/TrainODConly/0Normal/'\n",
    "format_of_your_images = '.png'\n",
    "all_the_files = Path(origin_path).rglob(f'*{format_of_your_images}')"
   ]
  },
  {
   "cell_type": "code",
   "execution_count": 33,
   "id": "HyHFu1L-B-SC",
   "metadata": {
    "executionInfo": {
     "elapsed": 158008,
     "status": "ok",
     "timestamp": 1661268257081,
     "user": {
      "displayName": "Mark Whelly",
      "userId": "14089540614639207633"
     },
     "user_tz": 420
    },
    "id": "HyHFu1L-B-SC"
   },
   "outputs": [],
   "source": [
    "# DO NOT RERUN\n",
    "\n",
    "# actual augmentation of eqh per image:\n",
    "for f in all_the_files:\n",
    "  img_in = cv2.imread(str(f))\n",
    "  #  transformation\n",
    "  img_histeq = hist_equalize(img_in)\n",
    "  #writing to target folder\n",
    "  cv2.imwrite(f'{destination_path}/{f.name}', img_histeq)\n"
   ]
  },
  {
   "cell_type": "code",
   "execution_count": 34,
   "id": "cCM9MDBIIx3P",
   "metadata": {
    "colab": {
     "base_uri": "https://localhost:8080/"
    },
    "executionInfo": {
     "elapsed": 51,
     "status": "ok",
     "timestamp": 1661268257082,
     "user": {
      "displayName": "Mark Whelly",
      "userId": "14089540614639207633"
     },
     "user_tz": 420
    },
    "id": "cCM9MDBIIx3P",
    "outputId": "5c8b9e53-5748-4821-a46a-52b2e1c410b6"
   },
   "outputs": [
    {
     "name": "stdout",
     "output_type": "stream",
     "text": [
      "/gdrive/My Drive/Retimages\n"
     ]
    }
   ],
   "source": [
    "cd/gdrive/My Drive/Retimages/"
   ]
  },
  {
   "cell_type": "code",
   "execution_count": 35,
   "id": "JKXJECP7KCtS",
   "metadata": {
    "executionInfo": {
     "elapsed": 47,
     "status": "ok",
     "timestamp": 1661268257083,
     "user": {
      "displayName": "Mark Whelly",
      "userId": "14089540614639207633"
     },
     "user_tz": 420
    },
    "id": "JKXJECP7KCtS"
   },
   "outputs": [],
   "source": [
    "from google.colab.patches import cv2_imshow"
   ]
  },
  {
   "cell_type": "code",
   "execution_count": null,
   "id": "1bHSQgtpw6Ct",
   "metadata": {
    "colab": {
     "base_uri": "https://localhost:8080/"
    },
    "executionInfo": {
     "elapsed": 299,
     "status": "ok",
     "timestamp": 1661203888485,
     "user": {
      "displayName": "Mark Whelly",
      "userId": "14089540614639207633"
     },
     "user_tz": 420
    },
    "id": "1bHSQgtpw6Ct",
    "outputId": "63a893d7-e4fd-4fe4-a954-177474f3fb60"
   },
   "outputs": [
    {
     "name": "stdout",
     "output_type": "stream",
     "text": [
      "/gdrive/My Drive/Retimages\n"
     ]
    }
   ],
   "source": [
    "cd/gdrive/My Drive/Retimages/"
   ]
  },
  {
   "cell_type": "code",
   "execution_count": null,
   "id": "WRm2ENenOiOw",
   "metadata": {
    "id": "WRm2ENenOiOw"
   },
   "outputs": [],
   "source": [
    "# DO NOT RERUN\n",
    "\n",
    "# TO AUGMENT NUMBER OF IMAGES:\n",
    "from keras.preprocessing.image import ImageDataGenerator\n",
    "from skimage import io\n",
    "datagen = ImageDataGenerator(        \n",
    "        rotation_range = 30,\n",
    "        vertical_flip = True,\n",
    "        horizontal_flip = True,\n",
    "        fill_mode = 'constant',\n",
    "        cval = 1)\n",
    "import numpy as np\n",
    "import os\n",
    "from PIL import Image\n",
    "\n",
    "# augmenting TRAIN ODC set of  pics:\n",
    "image_directory = os.path.join('./Test/TestODCeqh/1ODConly/')\n",
    "dataset = []\n",
    "my_images = os.listdir(image_directory)\n",
    "for i, image_name in enumerate(my_images):    \n",
    "    if (image_name.split('.')[1] == 'png'):        \n",
    "        image = io.imread(image_directory + image_name)        \n",
    "        image = Image.fromarray(image, 'RGB')        \n",
    "        image = image.resize((536,356)) \n",
    "        dataset.append(np.array(image))\n",
    "x = np.array(dataset)\n",
    "i = 0\n",
    "for batch in datagen.flow(x, batch_size=18,\n",
    "                          save_to_dir= os.path.join('./Test/TestODCeqh/Aug/'),\n",
    "                          save_prefix='dr3',\n",
    "                          save_format='png'):    \n",
    "    i += 1    \n",
    "    if i > 0:        \n",
    "        break"
   ]
  },
  {
   "cell_type": "code",
   "execution_count": 36,
   "id": "a87e4b18",
   "metadata": {
    "colab": {
     "base_uri": "https://localhost:8080/"
    },
    "executionInfo": {
     "elapsed": 46,
     "status": "ok",
     "timestamp": 1661268257083,
     "user": {
      "displayName": "Mark Whelly",
      "userId": "14089540614639207633"
     },
     "user_tz": 420
    },
    "id": "a87e4b18",
    "outputId": "3be1ba95-7cda-4c19-d8ff-c77035aa2b0e"
   },
   "outputs": [
    {
     "name": "stdout",
     "output_type": "stream",
     "text": [
      "total training images with ODC: 238\n",
      "total training images of normal eyes: 401\n"
     ]
    }
   ],
   "source": [
    "# count files per group\n",
    "\n",
    "train_abnormal_dir = os.path.join('./Train/TrainODCeqh/1ODConly')\n",
    "train_normal_dir = os.path.join('./Train/TrainODCeqh/0Normal')\n",
    "train_abnormal_names = os.listdir(train_abnormal_dir)\n",
    "train_normal_names = os.listdir(train_normal_dir)\n",
    "print('total training images with ODC:', len(os.listdir(train_abnormal_dir)))\n",
    "print('total training images of normal eyes:', len(os.listdir(train_normal_dir)))"
   ]
  },
  {
   "cell_type": "code",
   "execution_count": 37,
   "id": "Jek7QZsO5buS",
   "metadata": {
    "colab": {
     "base_uri": "https://localhost:8080/"
    },
    "executionInfo": {
     "elapsed": 39,
     "status": "ok",
     "timestamp": 1661268257084,
     "user": {
      "displayName": "Mark Whelly",
      "userId": "14089540614639207633"
     },
     "user_tz": 420
    },
    "id": "Jek7QZsO5buS",
    "outputId": "598ef132-4462-4b2f-ab52-30ade7479040"
   },
   "outputs": [
    {
     "data": {
      "text/plain": [
       "639"
      ]
     },
     "execution_count": 37,
     "metadata": {},
     "output_type": "execute_result"
    }
   ],
   "source": [
    "Num_Train_Images = len(os.listdir(train_abnormal_dir)) + len(os.listdir(train_normal_dir))\n",
    "Num_Train_Images"
   ]
  },
  {
   "cell_type": "code",
   "execution_count": 38,
   "id": "b77bf7db",
   "metadata": {
    "colab": {
     "base_uri": "https://localhost:8080/"
    },
    "executionInfo": {
     "elapsed": 32,
     "status": "ok",
     "timestamp": 1661268257084,
     "user": {
      "displayName": "Mark Whelly",
      "userId": "14089540614639207633"
     },
     "user_tz": 420
    },
    "id": "b77bf7db",
    "outputId": "ee2ce6dd-4b40-4df3-d9e7-6e0d867fc3e2"
   },
   "outputs": [
    {
     "name": "stdout",
     "output_type": "stream",
     "text": [
      "total validation images with ODC: 72\n",
      "total validation images of normal eyes: 134\n"
     ]
    }
   ],
   "source": [
    "validation_abnormal_dir = os.path.join('./Validation/ValidODCeqh/1ODConly')\n",
    "validation_normal_dir = os.path.join('./Validation/ValidODCeqh/0Normal')\n",
    "validation_abnormal_names = os.listdir(validation_abnormal_dir)\n",
    "validation_normal_names = os.listdir(validation_normal_dir)\n",
    "print('total validation images with ODC:', len(os.listdir(validation_abnormal_dir)))\n",
    "print('total validation images of normal eyes:', len(os.listdir(validation_normal_dir)))\n"
   ]
  },
  {
   "cell_type": "code",
   "execution_count": 39,
   "id": "El2yCLWs5hQW",
   "metadata": {
    "colab": {
     "base_uri": "https://localhost:8080/"
    },
    "executionInfo": {
     "elapsed": 26,
     "status": "ok",
     "timestamp": 1661268257085,
     "user": {
      "displayName": "Mark Whelly",
      "userId": "14089540614639207633"
     },
     "user_tz": 420
    },
    "id": "El2yCLWs5hQW",
    "outputId": "e770207f-7a5d-4da2-daec-124c7ad9b9ae"
   },
   "outputs": [
    {
     "data": {
      "text/plain": [
       "206"
      ]
     },
     "execution_count": 39,
     "metadata": {},
     "output_type": "execute_result"
    }
   ],
   "source": [
    "Num_Validation_Images = len(os.listdir(validation_abnormal_dir)) + len(os.listdir(validation_normal_dir))\n",
    "Num_Validation_Images"
   ]
  },
  {
   "cell_type": "code",
   "execution_count": 40,
   "id": "QxvFZBWdHgsr",
   "metadata": {
    "colab": {
     "base_uri": "https://localhost:8080/"
    },
    "executionInfo": {
     "elapsed": 19,
     "status": "ok",
     "timestamp": 1661268257085,
     "user": {
      "displayName": "Mark Whelly",
      "userId": "14089540614639207633"
     },
     "user_tz": 420
    },
    "id": "QxvFZBWdHgsr",
    "outputId": "3cfc7791-a5dc-48a8-8a66-fb786cd65d94"
   },
   "outputs": [
    {
     "name": "stdout",
     "output_type": "stream",
     "text": [
      "total Test images with ODC: 72\n",
      "total Test images of normal eyes: 134\n"
     ]
    }
   ],
   "source": [
    "test_abnormal_dir = os.path.join('./Test/TestODCeqh/1ODConly')\n",
    "test_normal_dir = os.path.join('./Test/TestODCeqh/0Normal')\n",
    "test_abnormal_names = os.listdir(test_abnormal_dir)\n",
    "test_normal_names = os.listdir(test_normal_dir)\n",
    "print('total Test images with ODC:', len(os.listdir(test_abnormal_dir)))\n",
    "print('total Test images of normal eyes:', len(os.listdir(test_normal_dir)))\n"
   ]
  },
  {
   "cell_type": "code",
   "execution_count": 41,
   "id": "PWylCCP45jM1",
   "metadata": {
    "colab": {
     "base_uri": "https://localhost:8080/"
    },
    "executionInfo": {
     "elapsed": 13,
     "status": "ok",
     "timestamp": 1661268257085,
     "user": {
      "displayName": "Mark Whelly",
      "userId": "14089540614639207633"
     },
     "user_tz": 420
    },
    "id": "PWylCCP45jM1",
    "outputId": "ff8b9a87-1ffe-4599-da2b-56e0f610e186"
   },
   "outputs": [
    {
     "data": {
      "text/plain": [
       "206"
      ]
     },
     "execution_count": 41,
     "metadata": {},
     "output_type": "execute_result"
    }
   ],
   "source": [
    "Num_Test_Images = len(os.listdir(test_abnormal_dir)) + len(os.listdir(test_normal_dir))\n",
    "Num_Test_Images"
   ]
  },
  {
   "cell_type": "markdown",
   "id": "_ObeCUtmaYjb",
   "metadata": {
    "id": "_ObeCUtmaYjb"
   },
   "source": [
    "The dataset was split into train:validation:test sets with 60/20/20 ratios. The ratio of healthy to disease eye images was maintained the same in train, test and validation sets."
   ]
  },
  {
   "cell_type": "markdown",
   "id": "dc6061b3",
   "metadata": {},
   "source": [
    "## Image Data Generators"
   ]
  },
  {
   "cell_type": "code",
   "execution_count": 43,
   "id": "b3b0e303",
   "metadata": {
    "colab": {
     "base_uri": "https://localhost:8080/"
    },
    "executionInfo": {
     "elapsed": 210,
     "status": "ok",
     "timestamp": 1661268357080,
     "user": {
      "displayName": "Mark Whelly",
      "userId": "14089540614639207633"
     },
     "user_tz": 420
    },
    "id": "b3b0e303",
    "outputId": "e44bbf75-4ac2-4137-fff0-8dbf87558375"
   },
   "outputs": [
    {
     "name": "stdout",
     "output_type": "stream",
     "text": [
      "Found 639 images belonging to 2 classes.\n"
     ]
    }
   ],
   "source": [
    "# Original (non-equalized) images were used here.\n",
    "\n",
    "height = 150\n",
    "width = 220\n",
    "BATCH_SIZE = 16\n",
    "\n",
    "train_datagen = ImageDataGenerator(rescale = 1./255.,\n",
    "                                   rotation_range = 30,\n",
    "                                   vertical_flip = True,\n",
    "                                   horizontal_flip = True,\n",
    "                                   fill_mode='constant',cval=1)\n",
    "\n",
    "\n",
    "train_generator = train_datagen.flow_from_directory('./Train/TrainODCeqh', \n",
    "                                                    target_size=(height,width), \n",
    "                                                    color_mode='rgb',\n",
    "                                                    batch_size=BATCH_SIZE,\n",
    "                                                    shuffle=True,\n",
    "                                                    class_mode='categorical')\n"
   ]
  },
  {
   "cell_type": "code",
   "execution_count": 44,
   "id": "zKP4dhmPMM6M",
   "metadata": {
    "executionInfo": {
     "elapsed": 2159,
     "status": "ok",
     "timestamp": 1661268365549,
     "user": {
      "displayName": "Mark Whelly",
      "userId": "14089540614639207633"
     },
     "user_tz": 420
    },
    "id": "zKP4dhmPMM6M"
   },
   "outputs": [],
   "source": [
    "# define x_train and y_train from train generator: \n",
    "X_train, y_train = train_generator.next() "
   ]
  },
  {
   "cell_type": "code",
   "execution_count": 45,
   "id": "8dd0ee5b",
   "metadata": {
    "colab": {
     "base_uri": "https://localhost:8080/"
    },
    "executionInfo": {
     "elapsed": 209,
     "status": "ok",
     "timestamp": 1661268377049,
     "user": {
      "displayName": "Mark Whelly",
      "userId": "14089540614639207633"
     },
     "user_tz": 420
    },
    "id": "8dd0ee5b",
    "outputId": "1762a3dd-6cb8-45af-8aef-1852d55abad5",
    "scrolled": true
   },
   "outputs": [
    {
     "name": "stdout",
     "output_type": "stream",
     "text": [
      "Found 206 images belonging to 2 classes.\n"
     ]
    }
   ],
   "source": [
    "validation_datagen = ImageDataGenerator(rescale=1/255)\n",
    "validation_generator = validation_datagen.flow_from_directory('./Validation/ValidODCeqh', \n",
    "                                                              target_size=(height,width),\n",
    "                                                              color_mode='rgb',\n",
    "                                                              batch_size=BATCH_SIZE,\n",
    "                                                              shuffle=True,\n",
    "                                                              class_mode='categorical')"
   ]
  },
  {
   "cell_type": "code",
   "execution_count": 46,
   "id": "fAofdWsxz7Ym",
   "metadata": {
    "colab": {
     "base_uri": "https://localhost:8080/"
    },
    "executionInfo": {
     "elapsed": 179,
     "status": "ok",
     "timestamp": 1661268389746,
     "user": {
      "displayName": "Mark Whelly",
      "userId": "14089540614639207633"
     },
     "user_tz": 420
    },
    "id": "fAofdWsxz7Ym",
    "outputId": "1e3a769a-2f80-4430-8b03-96b2f676f60c"
   },
   "outputs": [
    {
     "data": {
      "text/plain": [
       "{'0Normal': 0, '1ODConly': 1}"
      ]
     },
     "execution_count": 46,
     "metadata": {},
     "output_type": "execute_result"
    }
   ],
   "source": [
    "train_generator.class_indices"
   ]
  },
  {
   "cell_type": "code",
   "execution_count": 47,
   "id": "A_nDs8a5zaLX",
   "metadata": {
    "colab": {
     "base_uri": "https://localhost:8080/"
    },
    "executionInfo": {
     "elapsed": 207,
     "status": "ok",
     "timestamp": 1661268457669,
     "user": {
      "displayName": "Mark Whelly",
      "userId": "14089540614639207633"
     },
     "user_tz": 420
    },
    "id": "A_nDs8a5zaLX",
    "outputId": "f0f64907-59d2-4025-f492-4df8cc9d95f6"
   },
   "outputs": [
    {
     "data": {
      "text/plain": [
       "{'0Normal': 0, '1ODConly': 1}"
      ]
     },
     "execution_count": 47,
     "metadata": {},
     "output_type": "execute_result"
    }
   ],
   "source": [
    "validation_generator.class_indices"
   ]
  },
  {
   "cell_type": "markdown",
   "id": "110f02a4",
   "metadata": {},
   "source": [
    "# Pretrained CNN Model"
   ]
  },
  {
   "cell_type": "code",
   "execution_count": 212,
   "id": "73a6d61f",
   "metadata": {
    "executionInfo": {
     "elapsed": 178,
     "status": "ok",
     "timestamp": 1661282493920,
     "user": {
      "displayName": "Mark Whelly",
      "userId": "14089540614639207633"
     },
     "user_tz": 420
    },
    "id": "73a6d61f"
   },
   "outputs": [],
   "source": [
    "from tensorflow.keras.models import Model\n",
    "from tensorflow.keras.models import load_model\n",
    "from tensorflow.keras.applications.inception_v3 import InceptionV3"
   ]
  },
  {
   "cell_type": "code",
   "execution_count": 214,
   "id": "af74ffb4",
   "metadata": {
    "colab": {
     "base_uri": "https://localhost:8080/",
     "height": 341
    },
    "executionInfo": {
     "elapsed": 41868,
     "status": "error",
     "timestamp": 1661282538048,
     "user": {
      "displayName": "Mark Whelly",
      "userId": "14089540614639207633"
     },
     "user_tz": 420
    },
    "id": "af74ffb4",
    "outputId": "bcfc2bb5-70d7-4dba-d428-074cad22e53c"
   },
   "outputs": [
    {
     "ename": "KeyboardInterrupt",
     "evalue": "ignored",
     "output_type": "error",
     "traceback": [
      "\u001b[0;31m---------------------------------------------------------------------------\u001b[0m",
      "\u001b[0;31mKeyboardInterrupt\u001b[0m                         Traceback (most recent call last)",
      "\u001b[0;32m<ipython-input-214-3c0bacd880d8>\u001b[0m in \u001b[0;36m<module>\u001b[0;34m\u001b[0m\n\u001b[1;32m      2\u001b[0m model=InceptionV3(weights='imagenet',\n\u001b[1;32m      3\u001b[0m                   \u001b[0minclude_top\u001b[0m\u001b[0;34m=\u001b[0m\u001b[0;32mFalse\u001b[0m\u001b[0;34m,\u001b[0m\u001b[0;34m\u001b[0m\u001b[0;34m\u001b[0m\u001b[0m\n\u001b[0;32m----> 4\u001b[0;31m                   input_shape=(height,width,3))\n\u001b[0m",
      "\u001b[0;32m/usr/local/lib/python3.7/dist-packages/keras/applications/inception_v3.py\u001b[0m in \u001b[0;36mInceptionV3\u001b[0;34m(include_top, weights, input_tensor, input_shape, pooling, classes, classifier_activation)\u001b[0m\n\u001b[1;32m    161\u001b[0m   \u001b[0mbranch5x5\u001b[0m \u001b[0;34m=\u001b[0m \u001b[0mconv2d_bn\u001b[0m\u001b[0;34m(\u001b[0m\u001b[0mbranch5x5\u001b[0m\u001b[0;34m,\u001b[0m \u001b[0;36m64\u001b[0m\u001b[0;34m,\u001b[0m \u001b[0;36m5\u001b[0m\u001b[0;34m,\u001b[0m \u001b[0;36m5\u001b[0m\u001b[0;34m)\u001b[0m\u001b[0;34m\u001b[0m\u001b[0;34m\u001b[0m\u001b[0m\n\u001b[1;32m    162\u001b[0m \u001b[0;34m\u001b[0m\u001b[0m\n\u001b[0;32m--> 163\u001b[0;31m   \u001b[0mbranch3x3dbl\u001b[0m \u001b[0;34m=\u001b[0m \u001b[0mconv2d_bn\u001b[0m\u001b[0;34m(\u001b[0m\u001b[0mx\u001b[0m\u001b[0;34m,\u001b[0m \u001b[0;36m64\u001b[0m\u001b[0;34m,\u001b[0m \u001b[0;36m1\u001b[0m\u001b[0;34m,\u001b[0m \u001b[0;36m1\u001b[0m\u001b[0;34m)\u001b[0m\u001b[0;34m\u001b[0m\u001b[0;34m\u001b[0m\u001b[0m\n\u001b[0m\u001b[1;32m    164\u001b[0m   \u001b[0mbranch3x3dbl\u001b[0m \u001b[0;34m=\u001b[0m \u001b[0mconv2d_bn\u001b[0m\u001b[0;34m(\u001b[0m\u001b[0mbranch3x3dbl\u001b[0m\u001b[0;34m,\u001b[0m \u001b[0;36m96\u001b[0m\u001b[0;34m,\u001b[0m \u001b[0;36m3\u001b[0m\u001b[0;34m,\u001b[0m \u001b[0;36m3\u001b[0m\u001b[0;34m)\u001b[0m\u001b[0;34m\u001b[0m\u001b[0;34m\u001b[0m\u001b[0m\n\u001b[1;32m    165\u001b[0m   \u001b[0mbranch3x3dbl\u001b[0m \u001b[0;34m=\u001b[0m \u001b[0mconv2d_bn\u001b[0m\u001b[0;34m(\u001b[0m\u001b[0mbranch3x3dbl\u001b[0m\u001b[0;34m,\u001b[0m \u001b[0;36m96\u001b[0m\u001b[0;34m,\u001b[0m \u001b[0;36m3\u001b[0m\u001b[0;34m,\u001b[0m \u001b[0;36m3\u001b[0m\u001b[0;34m)\u001b[0m\u001b[0;34m\u001b[0m\u001b[0;34m\u001b[0m\u001b[0m\n",
      "\u001b[0;32m/usr/local/lib/python3.7/dist-packages/keras/applications/inception_v3.py\u001b[0m in \u001b[0;36mconv2d_bn\u001b[0;34m(x, filters, num_row, num_col, padding, strides, name)\u001b[0m\n\u001b[1;32m    406\u001b[0m           x)\n\u001b[1;32m    407\u001b[0m   \u001b[0mx\u001b[0m \u001b[0;34m=\u001b[0m \u001b[0mlayers\u001b[0m\u001b[0;34m.\u001b[0m\u001b[0mBatchNormalization\u001b[0m\u001b[0;34m(\u001b[0m\u001b[0maxis\u001b[0m\u001b[0;34m=\u001b[0m\u001b[0mbn_axis\u001b[0m\u001b[0;34m,\u001b[0m \u001b[0mscale\u001b[0m\u001b[0;34m=\u001b[0m\u001b[0;32mFalse\u001b[0m\u001b[0;34m,\u001b[0m \u001b[0mname\u001b[0m\u001b[0;34m=\u001b[0m\u001b[0mbn_name\u001b[0m\u001b[0;34m)\u001b[0m\u001b[0;34m(\u001b[0m\u001b[0mx\u001b[0m\u001b[0;34m)\u001b[0m\u001b[0;34m\u001b[0m\u001b[0;34m\u001b[0m\u001b[0m\n\u001b[0;32m--> 408\u001b[0;31m   \u001b[0mx\u001b[0m \u001b[0;34m=\u001b[0m \u001b[0mlayers\u001b[0m\u001b[0;34m.\u001b[0m\u001b[0mActivation\u001b[0m\u001b[0;34m(\u001b[0m\u001b[0;34m'relu'\u001b[0m\u001b[0;34m,\u001b[0m \u001b[0mname\u001b[0m\u001b[0;34m=\u001b[0m\u001b[0mname\u001b[0m\u001b[0;34m)\u001b[0m\u001b[0;34m(\u001b[0m\u001b[0mx\u001b[0m\u001b[0;34m)\u001b[0m\u001b[0;34m\u001b[0m\u001b[0;34m\u001b[0m\u001b[0m\n\u001b[0m\u001b[1;32m    409\u001b[0m   \u001b[0;32mreturn\u001b[0m \u001b[0mx\u001b[0m\u001b[0;34m\u001b[0m\u001b[0;34m\u001b[0m\u001b[0m\n\u001b[1;32m    410\u001b[0m \u001b[0;34m\u001b[0m\u001b[0m\n",
      "\u001b[0;32m/usr/local/lib/python3.7/dist-packages/keras/utils/traceback_utils.py\u001b[0m in \u001b[0;36merror_handler\u001b[0;34m(*args, **kwargs)\u001b[0m\n\u001b[1;32m     62\u001b[0m     \u001b[0mfiltered_tb\u001b[0m \u001b[0;34m=\u001b[0m \u001b[0;32mNone\u001b[0m\u001b[0;34m\u001b[0m\u001b[0;34m\u001b[0m\u001b[0m\n\u001b[1;32m     63\u001b[0m     \u001b[0;32mtry\u001b[0m\u001b[0;34m:\u001b[0m\u001b[0;34m\u001b[0m\u001b[0;34m\u001b[0m\u001b[0m\n\u001b[0;32m---> 64\u001b[0;31m       \u001b[0;32mreturn\u001b[0m \u001b[0mfn\u001b[0m\u001b[0;34m(\u001b[0m\u001b[0;34m*\u001b[0m\u001b[0margs\u001b[0m\u001b[0;34m,\u001b[0m \u001b[0;34m**\u001b[0m\u001b[0mkwargs\u001b[0m\u001b[0;34m)\u001b[0m\u001b[0;34m\u001b[0m\u001b[0;34m\u001b[0m\u001b[0m\n\u001b[0m\u001b[1;32m     65\u001b[0m     \u001b[0;32mexcept\u001b[0m \u001b[0mException\u001b[0m \u001b[0;32mas\u001b[0m \u001b[0me\u001b[0m\u001b[0;34m:\u001b[0m  \u001b[0;31m# pylint: disable=broad-except\u001b[0m\u001b[0;34m\u001b[0m\u001b[0;34m\u001b[0m\u001b[0m\n\u001b[1;32m     66\u001b[0m       \u001b[0mfiltered_tb\u001b[0m \u001b[0;34m=\u001b[0m \u001b[0m_process_traceback_frames\u001b[0m\u001b[0;34m(\u001b[0m\u001b[0me\u001b[0m\u001b[0;34m.\u001b[0m\u001b[0m__traceback__\u001b[0m\u001b[0;34m)\u001b[0m\u001b[0;34m\u001b[0m\u001b[0;34m\u001b[0m\u001b[0m\n",
      "\u001b[0;32m/usr/local/lib/python3.7/dist-packages/keras/engine/base_layer.py\u001b[0m in \u001b[0;36m__call__\u001b[0;34m(self, *args, **kwargs)\u001b[0m\n\u001b[1;32m   1031\u001b[0m     \u001b[0;32mif\u001b[0m \u001b[0m_in_functional_construction_mode\u001b[0m\u001b[0;34m(\u001b[0m\u001b[0mself\u001b[0m\u001b[0;34m,\u001b[0m \u001b[0minputs\u001b[0m\u001b[0;34m,\u001b[0m \u001b[0margs\u001b[0m\u001b[0;34m,\u001b[0m \u001b[0mkwargs\u001b[0m\u001b[0;34m,\u001b[0m \u001b[0minput_list\u001b[0m\u001b[0;34m)\u001b[0m\u001b[0;34m:\u001b[0m\u001b[0;34m\u001b[0m\u001b[0;34m\u001b[0m\u001b[0m\n\u001b[1;32m   1032\u001b[0m       return self._functional_construction_call(inputs, args, kwargs,\n\u001b[0;32m-> 1033\u001b[0;31m                                                 input_list)\n\u001b[0m\u001b[1;32m   1034\u001b[0m \u001b[0;34m\u001b[0m\u001b[0m\n\u001b[1;32m   1035\u001b[0m     \u001b[0;31m# Maintains info about the `Layer.call` stack.\u001b[0m\u001b[0;34m\u001b[0m\u001b[0;34m\u001b[0m\u001b[0;34m\u001b[0m\u001b[0m\n",
      "\u001b[0;32m/usr/local/lib/python3.7/dist-packages/keras/engine/base_layer.py\u001b[0m in \u001b[0;36m_functional_construction_call\u001b[0;34m(self, inputs, args, kwargs, input_list)\u001b[0m\n\u001b[1;32m   1172\u001b[0m       \u001b[0;31m# Check input assumptions set after layer building, e.g. input shape.\u001b[0m\u001b[0;34m\u001b[0m\u001b[0;34m\u001b[0m\u001b[0;34m\u001b[0m\u001b[0m\n\u001b[1;32m   1173\u001b[0m       outputs = self._keras_tensor_symbolic_call(\n\u001b[0;32m-> 1174\u001b[0;31m           inputs, input_masks, args, kwargs)\n\u001b[0m\u001b[1;32m   1175\u001b[0m \u001b[0;34m\u001b[0m\u001b[0m\n\u001b[1;32m   1176\u001b[0m       \u001b[0;32mif\u001b[0m \u001b[0moutputs\u001b[0m \u001b[0;32mis\u001b[0m \u001b[0;32mNone\u001b[0m\u001b[0;34m:\u001b[0m\u001b[0;34m\u001b[0m\u001b[0;34m\u001b[0m\u001b[0m\n",
      "\u001b[0;32m/usr/local/lib/python3.7/dist-packages/keras/engine/base_layer.py\u001b[0m in \u001b[0;36m_keras_tensor_symbolic_call\u001b[0;34m(self, inputs, input_masks, args, kwargs)\u001b[0m\n\u001b[1;32m    895\u001b[0m       \u001b[0;32mreturn\u001b[0m \u001b[0mtf\u001b[0m\u001b[0;34m.\u001b[0m\u001b[0mnest\u001b[0m\u001b[0;34m.\u001b[0m\u001b[0mmap_structure\u001b[0m\u001b[0;34m(\u001b[0m\u001b[0mkeras_tensor\u001b[0m\u001b[0;34m.\u001b[0m\u001b[0mKerasTensor\u001b[0m\u001b[0;34m,\u001b[0m \u001b[0moutput_signature\u001b[0m\u001b[0;34m)\u001b[0m\u001b[0;34m\u001b[0m\u001b[0;34m\u001b[0m\u001b[0m\n\u001b[1;32m    896\u001b[0m     \u001b[0;32melse\u001b[0m\u001b[0;34m:\u001b[0m\u001b[0;34m\u001b[0m\u001b[0;34m\u001b[0m\u001b[0m\n\u001b[0;32m--> 897\u001b[0;31m       \u001b[0;32mreturn\u001b[0m \u001b[0mself\u001b[0m\u001b[0;34m.\u001b[0m\u001b[0m_infer_output_signature\u001b[0m\u001b[0;34m(\u001b[0m\u001b[0minputs\u001b[0m\u001b[0;34m,\u001b[0m \u001b[0margs\u001b[0m\u001b[0;34m,\u001b[0m \u001b[0mkwargs\u001b[0m\u001b[0;34m,\u001b[0m \u001b[0minput_masks\u001b[0m\u001b[0;34m)\u001b[0m\u001b[0;34m\u001b[0m\u001b[0;34m\u001b[0m\u001b[0m\n\u001b[0m\u001b[1;32m    898\u001b[0m \u001b[0;34m\u001b[0m\u001b[0m\n\u001b[1;32m    899\u001b[0m   \u001b[0;32mdef\u001b[0m \u001b[0m_infer_output_signature\u001b[0m\u001b[0;34m(\u001b[0m\u001b[0mself\u001b[0m\u001b[0;34m,\u001b[0m \u001b[0minputs\u001b[0m\u001b[0;34m,\u001b[0m \u001b[0margs\u001b[0m\u001b[0;34m,\u001b[0m \u001b[0mkwargs\u001b[0m\u001b[0;34m,\u001b[0m \u001b[0minput_masks\u001b[0m\u001b[0;34m)\u001b[0m\u001b[0;34m:\u001b[0m\u001b[0;34m\u001b[0m\u001b[0;34m\u001b[0m\u001b[0m\n",
      "\u001b[0;32m/usr/local/lib/python3.7/dist-packages/keras/engine/base_layer.py\u001b[0m in \u001b[0;36m_infer_output_signature\u001b[0;34m(self, inputs, args, kwargs, input_masks)\u001b[0m\n\u001b[1;32m    924\u001b[0m     \u001b[0;32mwith\u001b[0m \u001b[0mscratch_graph\u001b[0m\u001b[0;34m.\u001b[0m\u001b[0mas_default\u001b[0m\u001b[0;34m(\u001b[0m\u001b[0;34m)\u001b[0m\u001b[0;34m:\u001b[0m\u001b[0;34m\u001b[0m\u001b[0;34m\u001b[0m\u001b[0m\n\u001b[1;32m    925\u001b[0m       inputs = tf.nest.map_structure(\n\u001b[0;32m--> 926\u001b[0;31m           keras_tensor.keras_tensor_to_placeholder, inputs)\n\u001b[0m\u001b[1;32m    927\u001b[0m       args = tf.nest.map_structure(\n\u001b[1;32m    928\u001b[0m           keras_tensor.keras_tensor_to_placeholder, args)\n",
      "\u001b[0;32m/usr/local/lib/python3.7/dist-packages/tensorflow/python/util/nest.py\u001b[0m in \u001b[0;36mmap_structure\u001b[0;34m(func, *structure, **kwargs)\u001b[0m\n\u001b[1;32m    912\u001b[0m \u001b[0;34m\u001b[0m\u001b[0m\n\u001b[1;32m    913\u001b[0m   return pack_sequence_as(\n\u001b[0;32m--> 914\u001b[0;31m       \u001b[0mstructure\u001b[0m\u001b[0;34m[\u001b[0m\u001b[0;36m0\u001b[0m\u001b[0;34m]\u001b[0m\u001b[0;34m,\u001b[0m \u001b[0;34m[\u001b[0m\u001b[0mfunc\u001b[0m\u001b[0;34m(\u001b[0m\u001b[0;34m*\u001b[0m\u001b[0mx\u001b[0m\u001b[0;34m)\u001b[0m \u001b[0;32mfor\u001b[0m \u001b[0mx\u001b[0m \u001b[0;32min\u001b[0m \u001b[0mentries\u001b[0m\u001b[0;34m]\u001b[0m\u001b[0;34m,\u001b[0m\u001b[0;34m\u001b[0m\u001b[0;34m\u001b[0m\u001b[0m\n\u001b[0m\u001b[1;32m    915\u001b[0m       expand_composites=expand_composites)\n\u001b[1;32m    916\u001b[0m \u001b[0;34m\u001b[0m\u001b[0m\n",
      "\u001b[0;32m/usr/local/lib/python3.7/dist-packages/tensorflow/python/util/nest.py\u001b[0m in \u001b[0;36m<listcomp>\u001b[0;34m(.0)\u001b[0m\n\u001b[1;32m    912\u001b[0m \u001b[0;34m\u001b[0m\u001b[0m\n\u001b[1;32m    913\u001b[0m   return pack_sequence_as(\n\u001b[0;32m--> 914\u001b[0;31m       \u001b[0mstructure\u001b[0m\u001b[0;34m[\u001b[0m\u001b[0;36m0\u001b[0m\u001b[0;34m]\u001b[0m\u001b[0;34m,\u001b[0m \u001b[0;34m[\u001b[0m\u001b[0mfunc\u001b[0m\u001b[0;34m(\u001b[0m\u001b[0;34m*\u001b[0m\u001b[0mx\u001b[0m\u001b[0;34m)\u001b[0m \u001b[0;32mfor\u001b[0m \u001b[0mx\u001b[0m \u001b[0;32min\u001b[0m \u001b[0mentries\u001b[0m\u001b[0;34m]\u001b[0m\u001b[0;34m,\u001b[0m\u001b[0;34m\u001b[0m\u001b[0;34m\u001b[0m\u001b[0m\n\u001b[0m\u001b[1;32m    915\u001b[0m       expand_composites=expand_composites)\n\u001b[1;32m    916\u001b[0m \u001b[0;34m\u001b[0m\u001b[0m\n",
      "\u001b[0;32m/usr/local/lib/python3.7/dist-packages/keras/engine/keras_tensor.py\u001b[0m in \u001b[0;36mkeras_tensor_to_placeholder\u001b[0;34m(x)\u001b[0m\n\u001b[1;32m    593\u001b[0m   \u001b[0;34m\"\"\"Construct a graph placeholder to represent a KerasTensor when tracing.\"\"\"\u001b[0m\u001b[0;34m\u001b[0m\u001b[0;34m\u001b[0m\u001b[0m\n\u001b[1;32m    594\u001b[0m   \u001b[0;32mif\u001b[0m \u001b[0misinstance\u001b[0m\u001b[0;34m(\u001b[0m\u001b[0mx\u001b[0m\u001b[0;34m,\u001b[0m \u001b[0mKerasTensor\u001b[0m\u001b[0;34m)\u001b[0m\u001b[0;34m:\u001b[0m\u001b[0;34m\u001b[0m\u001b[0;34m\u001b[0m\u001b[0m\n\u001b[0;32m--> 595\u001b[0;31m     \u001b[0;32mreturn\u001b[0m \u001b[0mx\u001b[0m\u001b[0;34m.\u001b[0m\u001b[0m_to_placeholder\u001b[0m\u001b[0;34m(\u001b[0m\u001b[0;34m)\u001b[0m  \u001b[0;31m# pylint: disable=protected-access\u001b[0m\u001b[0;34m\u001b[0m\u001b[0;34m\u001b[0m\u001b[0m\n\u001b[0m\u001b[1;32m    596\u001b[0m   \u001b[0;32melse\u001b[0m\u001b[0;34m:\u001b[0m\u001b[0;34m\u001b[0m\u001b[0;34m\u001b[0m\u001b[0m\n\u001b[1;32m    597\u001b[0m     \u001b[0;32mreturn\u001b[0m \u001b[0mx\u001b[0m\u001b[0;34m\u001b[0m\u001b[0;34m\u001b[0m\u001b[0m\n",
      "\u001b[0;32m/usr/local/lib/python3.7/dist-packages/keras/engine/keras_tensor.py\u001b[0m in \u001b[0;36m_to_placeholder\u001b[0;34m(self)\u001b[0m\n\u001b[1;32m    213\u001b[0m \u001b[0;34m\u001b[0m\u001b[0m\n\u001b[1;32m    214\u001b[0m     return tf.nest.map_structure(\n\u001b[0;32m--> 215\u001b[0;31m         component_to_placeholder, self.type_spec, expand_composites=True)\n\u001b[0m\u001b[1;32m    216\u001b[0m \u001b[0;34m\u001b[0m\u001b[0m\n\u001b[1;32m    217\u001b[0m   \u001b[0;32mdef\u001b[0m \u001b[0mget_shape\u001b[0m\u001b[0;34m(\u001b[0m\u001b[0mself\u001b[0m\u001b[0;34m)\u001b[0m\u001b[0;34m:\u001b[0m\u001b[0;34m\u001b[0m\u001b[0;34m\u001b[0m\u001b[0m\n",
      "\u001b[0;32m/usr/local/lib/python3.7/dist-packages/tensorflow/python/util/nest.py\u001b[0m in \u001b[0;36mmap_structure\u001b[0;34m(func, *structure, **kwargs)\u001b[0m\n\u001b[1;32m    912\u001b[0m \u001b[0;34m\u001b[0m\u001b[0m\n\u001b[1;32m    913\u001b[0m   return pack_sequence_as(\n\u001b[0;32m--> 914\u001b[0;31m       \u001b[0mstructure\u001b[0m\u001b[0;34m[\u001b[0m\u001b[0;36m0\u001b[0m\u001b[0;34m]\u001b[0m\u001b[0;34m,\u001b[0m \u001b[0;34m[\u001b[0m\u001b[0mfunc\u001b[0m\u001b[0;34m(\u001b[0m\u001b[0;34m*\u001b[0m\u001b[0mx\u001b[0m\u001b[0;34m)\u001b[0m \u001b[0;32mfor\u001b[0m \u001b[0mx\u001b[0m \u001b[0;32min\u001b[0m \u001b[0mentries\u001b[0m\u001b[0;34m]\u001b[0m\u001b[0;34m,\u001b[0m\u001b[0;34m\u001b[0m\u001b[0;34m\u001b[0m\u001b[0m\n\u001b[0m\u001b[1;32m    915\u001b[0m       expand_composites=expand_composites)\n\u001b[1;32m    916\u001b[0m \u001b[0;34m\u001b[0m\u001b[0m\n",
      "\u001b[0;32m/usr/local/lib/python3.7/dist-packages/tensorflow/python/util/nest.py\u001b[0m in \u001b[0;36m<listcomp>\u001b[0;34m(.0)\u001b[0m\n\u001b[1;32m    912\u001b[0m \u001b[0;34m\u001b[0m\u001b[0m\n\u001b[1;32m    913\u001b[0m   return pack_sequence_as(\n\u001b[0;32m--> 914\u001b[0;31m       \u001b[0mstructure\u001b[0m\u001b[0;34m[\u001b[0m\u001b[0;36m0\u001b[0m\u001b[0;34m]\u001b[0m\u001b[0;34m,\u001b[0m \u001b[0;34m[\u001b[0m\u001b[0mfunc\u001b[0m\u001b[0;34m(\u001b[0m\u001b[0;34m*\u001b[0m\u001b[0mx\u001b[0m\u001b[0;34m)\u001b[0m \u001b[0;32mfor\u001b[0m \u001b[0mx\u001b[0m \u001b[0;32min\u001b[0m \u001b[0mentries\u001b[0m\u001b[0;34m]\u001b[0m\u001b[0;34m,\u001b[0m\u001b[0;34m\u001b[0m\u001b[0;34m\u001b[0m\u001b[0m\n\u001b[0m\u001b[1;32m    915\u001b[0m       expand_composites=expand_composites)\n\u001b[1;32m    916\u001b[0m \u001b[0;34m\u001b[0m\u001b[0m\n",
      "\u001b[0;32m/usr/local/lib/python3.7/dist-packages/keras/engine/keras_tensor.py\u001b[0m in \u001b[0;36mcomponent_to_placeholder\u001b[0;34m(component)\u001b[0m\n\u001b[1;32m    210\u001b[0m     \u001b[0;31m# Use the generic conversion from typespec to a placeholder.\u001b[0m\u001b[0;34m\u001b[0m\u001b[0;34m\u001b[0m\u001b[0;34m\u001b[0m\u001b[0m\n\u001b[1;32m    211\u001b[0m     \u001b[0;32mdef\u001b[0m \u001b[0mcomponent_to_placeholder\u001b[0m\u001b[0;34m(\u001b[0m\u001b[0mcomponent\u001b[0m\u001b[0;34m)\u001b[0m\u001b[0;34m:\u001b[0m\u001b[0;34m\u001b[0m\u001b[0;34m\u001b[0m\u001b[0m\n\u001b[0;32m--> 212\u001b[0;31m       \u001b[0;32mreturn\u001b[0m \u001b[0mtf\u001b[0m\u001b[0;34m.\u001b[0m\u001b[0mcompat\u001b[0m\u001b[0;34m.\u001b[0m\u001b[0mv1\u001b[0m\u001b[0;34m.\u001b[0m\u001b[0mplaceholder\u001b[0m\u001b[0;34m(\u001b[0m\u001b[0mcomponent\u001b[0m\u001b[0;34m.\u001b[0m\u001b[0mdtype\u001b[0m\u001b[0;34m,\u001b[0m \u001b[0mcomponent\u001b[0m\u001b[0;34m.\u001b[0m\u001b[0mshape\u001b[0m\u001b[0;34m)\u001b[0m\u001b[0;34m\u001b[0m\u001b[0;34m\u001b[0m\u001b[0m\n\u001b[0m\u001b[1;32m    213\u001b[0m \u001b[0;34m\u001b[0m\u001b[0m\n\u001b[1;32m    214\u001b[0m     return tf.nest.map_structure(\n",
      "\u001b[0;32m/usr/local/lib/python3.7/dist-packages/tensorflow/python/ops/array_ops.py\u001b[0m in \u001b[0;36mplaceholder\u001b[0;34m(dtype, shape, name)\u001b[0m\n\u001b[1;32m   3299\u001b[0m                        \"eager execution.\")\n\u001b[1;32m   3300\u001b[0m \u001b[0;34m\u001b[0m\u001b[0m\n\u001b[0;32m-> 3301\u001b[0;31m   \u001b[0;32mreturn\u001b[0m \u001b[0mgen_array_ops\u001b[0m\u001b[0;34m.\u001b[0m\u001b[0mplaceholder\u001b[0m\u001b[0;34m(\u001b[0m\u001b[0mdtype\u001b[0m\u001b[0;34m=\u001b[0m\u001b[0mdtype\u001b[0m\u001b[0;34m,\u001b[0m \u001b[0mshape\u001b[0m\u001b[0;34m=\u001b[0m\u001b[0mshape\u001b[0m\u001b[0;34m,\u001b[0m \u001b[0mname\u001b[0m\u001b[0;34m=\u001b[0m\u001b[0mname\u001b[0m\u001b[0;34m)\u001b[0m\u001b[0;34m\u001b[0m\u001b[0;34m\u001b[0m\u001b[0m\n\u001b[0m\u001b[1;32m   3302\u001b[0m \u001b[0;34m\u001b[0m\u001b[0m\n\u001b[1;32m   3303\u001b[0m \u001b[0;34m\u001b[0m\u001b[0m\n",
      "\u001b[0;32m/usr/local/lib/python3.7/dist-packages/tensorflow/python/ops/gen_array_ops.py\u001b[0m in \u001b[0;36mplaceholder\u001b[0;34m(dtype, shape, name)\u001b[0m\n\u001b[1;32m   6892\u001b[0m   \u001b[0mshape\u001b[0m \u001b[0;34m=\u001b[0m \u001b[0m_execute\u001b[0m\u001b[0;34m.\u001b[0m\u001b[0mmake_shape\u001b[0m\u001b[0;34m(\u001b[0m\u001b[0mshape\u001b[0m\u001b[0;34m,\u001b[0m \u001b[0;34m\"shape\"\u001b[0m\u001b[0;34m)\u001b[0m\u001b[0;34m\u001b[0m\u001b[0;34m\u001b[0m\u001b[0m\n\u001b[1;32m   6893\u001b[0m   _, _, _op, _outputs = _op_def_library._apply_op_helper(\n\u001b[0;32m-> 6894\u001b[0;31m         \"Placeholder\", dtype=dtype, shape=shape, name=name)\n\u001b[0m\u001b[1;32m   6895\u001b[0m   \u001b[0m_result\u001b[0m \u001b[0;34m=\u001b[0m \u001b[0m_outputs\u001b[0m\u001b[0;34m[\u001b[0m\u001b[0;34m:\u001b[0m\u001b[0;34m]\u001b[0m\u001b[0;34m\u001b[0m\u001b[0;34m\u001b[0m\u001b[0m\n\u001b[1;32m   6896\u001b[0m   \u001b[0;32mif\u001b[0m \u001b[0m_execute\u001b[0m\u001b[0;34m.\u001b[0m\u001b[0mmust_record_gradient\u001b[0m\u001b[0;34m(\u001b[0m\u001b[0;34m)\u001b[0m\u001b[0;34m:\u001b[0m\u001b[0;34m\u001b[0m\u001b[0;34m\u001b[0m\u001b[0m\n",
      "\u001b[0;32m/usr/local/lib/python3.7/dist-packages/tensorflow/python/framework/op_def_library.py\u001b[0m in \u001b[0;36m_apply_op_helper\u001b[0;34m(op_type_name, name, **keywords)\u001b[0m\n\u001b[1;32m    688\u001b[0m         \u001b[0;32mcontinue\u001b[0m\u001b[0;34m\u001b[0m\u001b[0;34m\u001b[0m\u001b[0m\n\u001b[1;32m    689\u001b[0m \u001b[0;34m\u001b[0m\u001b[0m\n\u001b[0;32m--> 690\u001b[0;31m       \u001b[0mattr_value\u001b[0m \u001b[0;34m=\u001b[0m \u001b[0mvalue_to_attr_value\u001b[0m\u001b[0;34m(\u001b[0m\u001b[0mvalue\u001b[0m\u001b[0;34m,\u001b[0m \u001b[0mattr_def\u001b[0m\u001b[0;34m.\u001b[0m\u001b[0mtype\u001b[0m\u001b[0;34m,\u001b[0m \u001b[0mkey\u001b[0m\u001b[0;34m)\u001b[0m\u001b[0;34m\u001b[0m\u001b[0;34m\u001b[0m\u001b[0m\n\u001b[0m\u001b[1;32m    691\u001b[0m       \u001b[0;32mif\u001b[0m \u001b[0mattr_def\u001b[0m\u001b[0;34m.\u001b[0m\u001b[0mtype\u001b[0m\u001b[0;34m.\u001b[0m\u001b[0mstartswith\u001b[0m\u001b[0;34m(\u001b[0m\u001b[0;34m\"list(\"\u001b[0m\u001b[0;34m)\u001b[0m\u001b[0;34m:\u001b[0m\u001b[0;34m\u001b[0m\u001b[0;34m\u001b[0m\u001b[0m\n\u001b[1;32m    692\u001b[0m         \u001b[0m_SatisfiesLengthConstraint\u001b[0m\u001b[0;34m(\u001b[0m\u001b[0mlen\u001b[0m\u001b[0;34m(\u001b[0m\u001b[0mvalue\u001b[0m\u001b[0;34m)\u001b[0m\u001b[0;34m,\u001b[0m \u001b[0mattr_def\u001b[0m\u001b[0;34m,\u001b[0m \u001b[0mkey\u001b[0m\u001b[0;34m,\u001b[0m \u001b[0mop_type_name\u001b[0m\u001b[0;34m)\u001b[0m\u001b[0;34m\u001b[0m\u001b[0;34m\u001b[0m\u001b[0m\n",
      "\u001b[0;32m/usr/local/lib/python3.7/dist-packages/tensorflow/python/framework/op_def_library.py\u001b[0m in \u001b[0;36mvalue_to_attr_value\u001b[0;34m(value, attr_type, arg_name)\u001b[0m\n\u001b[1;32m    798\u001b[0m     \u001b[0mattr_value\u001b[0m\u001b[0;34m.\u001b[0m\u001b[0mlist\u001b[0m\u001b[0;34m.\u001b[0m\u001b[0mtype\u001b[0m\u001b[0;34m.\u001b[0m\u001b[0mextend\u001b[0m\u001b[0;34m(\u001b[0m\u001b[0;34m[\u001b[0m\u001b[0m_MakeType\u001b[0m\u001b[0;34m(\u001b[0m\u001b[0mx\u001b[0m\u001b[0;34m,\u001b[0m \u001b[0marg_name\u001b[0m\u001b[0;34m)\u001b[0m \u001b[0;32mfor\u001b[0m \u001b[0mx\u001b[0m \u001b[0;32min\u001b[0m \u001b[0mvalue\u001b[0m\u001b[0;34m]\u001b[0m\u001b[0;34m)\u001b[0m\u001b[0;34m\u001b[0m\u001b[0;34m\u001b[0m\u001b[0m\n\u001b[1;32m    799\u001b[0m   \u001b[0;32melif\u001b[0m \u001b[0mattr_type\u001b[0m \u001b[0;34m==\u001b[0m \u001b[0;34m\"shape\"\u001b[0m\u001b[0;34m:\u001b[0m\u001b[0;34m\u001b[0m\u001b[0;34m\u001b[0m\u001b[0m\n\u001b[0;32m--> 800\u001b[0;31m     \u001b[0mattr_value\u001b[0m\u001b[0;34m.\u001b[0m\u001b[0mshape\u001b[0m\u001b[0;34m.\u001b[0m\u001b[0mCopyFrom\u001b[0m\u001b[0;34m(\u001b[0m\u001b[0m_MakeShape\u001b[0m\u001b[0;34m(\u001b[0m\u001b[0mvalue\u001b[0m\u001b[0;34m,\u001b[0m \u001b[0marg_name\u001b[0m\u001b[0;34m)\u001b[0m\u001b[0;34m)\u001b[0m\u001b[0;34m\u001b[0m\u001b[0;34m\u001b[0m\u001b[0m\n\u001b[0m\u001b[1;32m    801\u001b[0m   \u001b[0;32melif\u001b[0m \u001b[0mattr_type\u001b[0m \u001b[0;34m==\u001b[0m \u001b[0;34m\"list(shape)\"\u001b[0m\u001b[0;34m:\u001b[0m\u001b[0;34m\u001b[0m\u001b[0;34m\u001b[0m\u001b[0m\n\u001b[1;32m    802\u001b[0m     \u001b[0mattr_value\u001b[0m\u001b[0;34m.\u001b[0m\u001b[0mlist\u001b[0m\u001b[0;34m.\u001b[0m\u001b[0mshape\u001b[0m\u001b[0;34m.\u001b[0m\u001b[0mextend\u001b[0m\u001b[0;34m(\u001b[0m\u001b[0;34m[\u001b[0m\u001b[0m_MakeShape\u001b[0m\u001b[0;34m(\u001b[0m\u001b[0mx\u001b[0m\u001b[0;34m,\u001b[0m \u001b[0marg_name\u001b[0m\u001b[0;34m)\u001b[0m \u001b[0;32mfor\u001b[0m \u001b[0mx\u001b[0m \u001b[0;32min\u001b[0m \u001b[0mvalue\u001b[0m\u001b[0;34m]\u001b[0m\u001b[0;34m)\u001b[0m\u001b[0;34m\u001b[0m\u001b[0;34m\u001b[0m\u001b[0m\n",
      "\u001b[0;32m/usr/local/lib/python3.7/dist-packages/tensorflow/python/framework/op_def_library.py\u001b[0m in \u001b[0;36m_MakeShape\u001b[0;34m(v, arg_name)\u001b[0m\n\u001b[1;32m    210\u001b[0m     \u001b[0;32mreturn\u001b[0m \u001b[0mv\u001b[0m\u001b[0;34m\u001b[0m\u001b[0;34m\u001b[0m\u001b[0m\n\u001b[1;32m    211\u001b[0m   \u001b[0;32mtry\u001b[0m\u001b[0;34m:\u001b[0m\u001b[0;34m\u001b[0m\u001b[0;34m\u001b[0m\u001b[0m\n\u001b[0;32m--> 212\u001b[0;31m     \u001b[0;32mreturn\u001b[0m \u001b[0mtensor_shape\u001b[0m\u001b[0;34m.\u001b[0m\u001b[0mas_shape\u001b[0m\u001b[0;34m(\u001b[0m\u001b[0mv\u001b[0m\u001b[0;34m)\u001b[0m\u001b[0;34m.\u001b[0m\u001b[0mas_proto\u001b[0m\u001b[0;34m(\u001b[0m\u001b[0;34m)\u001b[0m\u001b[0;34m\u001b[0m\u001b[0;34m\u001b[0m\u001b[0m\n\u001b[0m\u001b[1;32m    213\u001b[0m   \u001b[0;32mexcept\u001b[0m \u001b[0mTypeError\u001b[0m \u001b[0;32mas\u001b[0m \u001b[0me\u001b[0m\u001b[0;34m:\u001b[0m\u001b[0;34m\u001b[0m\u001b[0;34m\u001b[0m\u001b[0m\n\u001b[1;32m    214\u001b[0m     raise TypeError(f\"Error converting {repr(v)} (arg name = {arg_name}) to a \"\n",
      "\u001b[0;32m/usr/local/lib/python3.7/dist-packages/tensorflow/python/framework/tensor_shape.py\u001b[0m in \u001b[0;36mas_shape\u001b[0;34m(shape)\u001b[0m\n\u001b[1;32m   1309\u001b[0m     \u001b[0;32mreturn\u001b[0m \u001b[0mshape\u001b[0m\u001b[0;34m\u001b[0m\u001b[0;34m\u001b[0m\u001b[0m\n\u001b[1;32m   1310\u001b[0m   \u001b[0;32melse\u001b[0m\u001b[0;34m:\u001b[0m\u001b[0;34m\u001b[0m\u001b[0;34m\u001b[0m\u001b[0m\n\u001b[0;32m-> 1311\u001b[0;31m     \u001b[0;32mreturn\u001b[0m \u001b[0mTensorShape\u001b[0m\u001b[0;34m(\u001b[0m\u001b[0mshape\u001b[0m\u001b[0;34m)\u001b[0m\u001b[0;34m\u001b[0m\u001b[0;34m\u001b[0m\u001b[0m\n\u001b[0m\u001b[1;32m   1312\u001b[0m \u001b[0;34m\u001b[0m\u001b[0m\n\u001b[1;32m   1313\u001b[0m \u001b[0;34m\u001b[0m\u001b[0m\n",
      "\u001b[0;32m/usr/local/lib/python3.7/dist-packages/tensorflow/python/framework/tensor_shape.py\u001b[0m in \u001b[0;36m__init__\u001b[0;34m(self, dims)\u001b[0m\n\u001b[1;32m    769\u001b[0m     \"\"\"\n\u001b[1;32m    770\u001b[0m     \u001b[0;32mif\u001b[0m \u001b[0misinstance\u001b[0m\u001b[0;34m(\u001b[0m\u001b[0mdims\u001b[0m\u001b[0;34m,\u001b[0m \u001b[0;34m(\u001b[0m\u001b[0mtuple\u001b[0m\u001b[0;34m,\u001b[0m \u001b[0mlist\u001b[0m\u001b[0;34m)\u001b[0m\u001b[0;34m)\u001b[0m\u001b[0;34m:\u001b[0m  \u001b[0;31m# Most common case.\u001b[0m\u001b[0;34m\u001b[0m\u001b[0;34m\u001b[0m\u001b[0m\n\u001b[0;32m--> 771\u001b[0;31m       \u001b[0mself\u001b[0m\u001b[0;34m.\u001b[0m\u001b[0m_dims\u001b[0m \u001b[0;34m=\u001b[0m \u001b[0;34m[\u001b[0m\u001b[0mDimension\u001b[0m\u001b[0;34m(\u001b[0m\u001b[0md\u001b[0m\u001b[0;34m)\u001b[0m \u001b[0;32mfor\u001b[0m \u001b[0md\u001b[0m \u001b[0;32min\u001b[0m \u001b[0mdims\u001b[0m\u001b[0;34m]\u001b[0m\u001b[0;34m\u001b[0m\u001b[0;34m\u001b[0m\u001b[0m\n\u001b[0m\u001b[1;32m    772\u001b[0m     \u001b[0;32melif\u001b[0m \u001b[0mdims\u001b[0m \u001b[0;32mis\u001b[0m \u001b[0;32mNone\u001b[0m\u001b[0;34m:\u001b[0m\u001b[0;34m\u001b[0m\u001b[0;34m\u001b[0m\u001b[0m\n\u001b[1;32m    773\u001b[0m       \u001b[0mself\u001b[0m\u001b[0;34m.\u001b[0m\u001b[0m_dims\u001b[0m \u001b[0;34m=\u001b[0m \u001b[0;32mNone\u001b[0m\u001b[0;34m\u001b[0m\u001b[0;34m\u001b[0m\u001b[0m\n",
      "\u001b[0;32m/usr/local/lib/python3.7/dist-packages/tensorflow/python/framework/tensor_shape.py\u001b[0m in \u001b[0;36m<listcomp>\u001b[0;34m(.0)\u001b[0m\n\u001b[1;32m    769\u001b[0m     \"\"\"\n\u001b[1;32m    770\u001b[0m     \u001b[0;32mif\u001b[0m \u001b[0misinstance\u001b[0m\u001b[0;34m(\u001b[0m\u001b[0mdims\u001b[0m\u001b[0;34m,\u001b[0m \u001b[0;34m(\u001b[0m\u001b[0mtuple\u001b[0m\u001b[0;34m,\u001b[0m \u001b[0mlist\u001b[0m\u001b[0;34m)\u001b[0m\u001b[0;34m)\u001b[0m\u001b[0;34m:\u001b[0m  \u001b[0;31m# Most common case.\u001b[0m\u001b[0;34m\u001b[0m\u001b[0;34m\u001b[0m\u001b[0m\n\u001b[0;32m--> 771\u001b[0;31m       \u001b[0mself\u001b[0m\u001b[0;34m.\u001b[0m\u001b[0m_dims\u001b[0m \u001b[0;34m=\u001b[0m \u001b[0;34m[\u001b[0m\u001b[0mDimension\u001b[0m\u001b[0;34m(\u001b[0m\u001b[0md\u001b[0m\u001b[0;34m)\u001b[0m \u001b[0;32mfor\u001b[0m \u001b[0md\u001b[0m \u001b[0;32min\u001b[0m \u001b[0mdims\u001b[0m\u001b[0;34m]\u001b[0m\u001b[0;34m\u001b[0m\u001b[0;34m\u001b[0m\u001b[0m\n\u001b[0m\u001b[1;32m    772\u001b[0m     \u001b[0;32melif\u001b[0m \u001b[0mdims\u001b[0m \u001b[0;32mis\u001b[0m \u001b[0;32mNone\u001b[0m\u001b[0;34m:\u001b[0m\u001b[0;34m\u001b[0m\u001b[0;34m\u001b[0m\u001b[0m\n\u001b[1;32m    773\u001b[0m       \u001b[0mself\u001b[0m\u001b[0;34m.\u001b[0m\u001b[0m_dims\u001b[0m \u001b[0;34m=\u001b[0m \u001b[0;32mNone\u001b[0m\u001b[0;34m\u001b[0m\u001b[0;34m\u001b[0m\u001b[0m\n",
      "\u001b[0;32m/usr/local/lib/python3.7/dist-packages/tensorflow/python/framework/tensor_shape.py\u001b[0m in \u001b[0;36m__init__\u001b[0;34m(self, value)\u001b[0m\n\u001b[1;32m    194\u001b[0m   \u001b[0m__slots__\u001b[0m \u001b[0;34m=\u001b[0m \u001b[0;34m[\u001b[0m\u001b[0;34m\"_value\"\u001b[0m\u001b[0;34m]\u001b[0m\u001b[0;34m\u001b[0m\u001b[0;34m\u001b[0m\u001b[0m\n\u001b[1;32m    195\u001b[0m \u001b[0;34m\u001b[0m\u001b[0m\n\u001b[0;32m--> 196\u001b[0;31m   \u001b[0;32mdef\u001b[0m \u001b[0m__init__\u001b[0m\u001b[0;34m(\u001b[0m\u001b[0mself\u001b[0m\u001b[0;34m,\u001b[0m \u001b[0mvalue\u001b[0m\u001b[0;34m)\u001b[0m\u001b[0;34m:\u001b[0m\u001b[0;34m\u001b[0m\u001b[0;34m\u001b[0m\u001b[0m\n\u001b[0m\u001b[1;32m    197\u001b[0m     \u001b[0;34m\"\"\"Creates a new Dimension with the given value.\"\"\"\u001b[0m\u001b[0;34m\u001b[0m\u001b[0;34m\u001b[0m\u001b[0m\n\u001b[1;32m    198\u001b[0m     \u001b[0;32mif\u001b[0m \u001b[0misinstance\u001b[0m\u001b[0;34m(\u001b[0m\u001b[0mvalue\u001b[0m\u001b[0;34m,\u001b[0m \u001b[0mint\u001b[0m\u001b[0;34m)\u001b[0m\u001b[0;34m:\u001b[0m  \u001b[0;31m# Most common case.\u001b[0m\u001b[0;34m\u001b[0m\u001b[0;34m\u001b[0m\u001b[0m\n",
      "\u001b[0;31mKeyboardInterrupt\u001b[0m: "
     ]
    }
   ],
   "source": [
    "# load InceptionNetV3 model\n",
    "model=InceptionV3(weights='imagenet',\n",
    "                  include_top=False,\n",
    "                  input_shape=(height,width,3))"
   ]
  },
  {
   "cell_type": "markdown",
   "id": "61be078d",
   "metadata": {},
   "source": [
    "# Transfer Learning Model"
   ]
  },
  {
   "cell_type": "code",
   "execution_count": null,
   "id": "16f9af9a",
   "metadata": {
    "executionInfo": {
     "elapsed": 3,
     "status": "aborted",
     "timestamp": 1661282538049,
     "user": {
      "displayName": "Mark Whelly",
      "userId": "14089540614639207633"
     },
     "user_tz": 420
    },
    "id": "16f9af9a"
   },
   "outputs": [],
   "source": [
    "# Freeze all the layers in the base model\n",
    "for layer in model.layers:\n",
    "    layer.trainable = False\n",
    "\n",
    "# remove last 2 layers of base inceptivev3 model\n",
    "front_output = model.get_layer('mixed9').output\n",
    "\n",
    "# Dropout Layer\n",
    "dl_output = Dropout(0.55)(front_output) \n",
    "\n",
    "# add flatten layer and dense layers\n",
    "\n",
    "flat_output = Flatten()(dl_output)\n",
    "d1 = Dense(256, activation='relu')(flat_output)\n",
    "d2 = Dense(64, activation='relu')(d1)\n",
    "d3 = Dense(16, activation='relu')(d2)\n",
    "#d4 = Dense(16, activation='relu')(d3)\n",
    "#d5 = Dense(16, activation='relu')(d4)\n",
    "\n",
    "# add output layer\n",
    "output = Dense(2, activation='softmax')(d3)  # changed to 2 from 1 class.\n",
    "\n",
    "# create final model object\n",
    "model = Model(inputs=model.input, \n",
    "              outputs=output)"
   ]
  },
  {
   "cell_type": "code",
   "execution_count": 208,
   "id": "a1f8cef5",
   "metadata": {
    "colab": {
     "base_uri": "https://localhost:8080/"
    },
    "executionInfo": {
     "elapsed": 2053,
     "status": "ok",
     "timestamp": 1661282409311,
     "user": {
      "displayName": "Mark Whelly",
      "userId": "14089540614639207633"
     },
     "user_tz": 420
    },
    "id": "a1f8cef5",
    "outputId": "b37e7f59-eb24-4afb-80e5-ad00c1213873",
    "scrolled": true
   },
   "outputs": [
    {
     "name": "stdout",
     "output_type": "stream",
     "text": [
      "Model: \"inception_v3\"\n",
      "__________________________________________________________________________________________________\n",
      " Layer (type)                   Output Shape         Param #     Connected to                     \n",
      "==================================================================================================\n",
      " input_12 (InputLayer)          [(None, 150, 220, 3  0           []                               \n",
      "                                )]                                                                \n",
      "                                                                                                  \n",
      " conv2d_1034 (Conv2D)           (None, 74, 109, 32)  864         ['input_12[0][0]']               \n",
      "                                                                                                  \n",
      " batch_normalization_1034 (Batc  (None, 74, 109, 32)  96         ['conv2d_1034[0][0]']            \n",
      " hNormalization)                                                                                  \n",
      "                                                                                                  \n",
      " activation_1034 (Activation)   (None, 74, 109, 32)  0           ['batch_normalization_1034[0][0]'\n",
      "                                                                 ]                                \n",
      "                                                                                                  \n",
      " conv2d_1035 (Conv2D)           (None, 72, 107, 32)  9216        ['activation_1034[0][0]']        \n",
      "                                                                                                  \n",
      " batch_normalization_1035 (Batc  (None, 72, 107, 32)  96         ['conv2d_1035[0][0]']            \n",
      " hNormalization)                                                                                  \n",
      "                                                                                                  \n",
      " activation_1035 (Activation)   (None, 72, 107, 32)  0           ['batch_normalization_1035[0][0]'\n",
      "                                                                 ]                                \n",
      "                                                                                                  \n",
      " conv2d_1036 (Conv2D)           (None, 72, 107, 64)  18432       ['activation_1035[0][0]']        \n",
      "                                                                                                  \n",
      " batch_normalization_1036 (Batc  (None, 72, 107, 64)  192        ['conv2d_1036[0][0]']            \n",
      " hNormalization)                                                                                  \n",
      "                                                                                                  \n",
      " activation_1036 (Activation)   (None, 72, 107, 64)  0           ['batch_normalization_1036[0][0]'\n",
      "                                                                 ]                                \n",
      "                                                                                                  \n",
      " max_pooling2d_44 (MaxPooling2D  (None, 35, 53, 64)  0           ['activation_1036[0][0]']        \n",
      " )                                                                                                \n",
      "                                                                                                  \n",
      " conv2d_1037 (Conv2D)           (None, 35, 53, 80)   5120        ['max_pooling2d_44[0][0]']       \n",
      "                                                                                                  \n",
      " batch_normalization_1037 (Batc  (None, 35, 53, 80)  240         ['conv2d_1037[0][0]']            \n",
      " hNormalization)                                                                                  \n",
      "                                                                                                  \n",
      " activation_1037 (Activation)   (None, 35, 53, 80)   0           ['batch_normalization_1037[0][0]'\n",
      "                                                                 ]                                \n",
      "                                                                                                  \n",
      " conv2d_1038 (Conv2D)           (None, 33, 51, 192)  138240      ['activation_1037[0][0]']        \n",
      "                                                                                                  \n",
      " batch_normalization_1038 (Batc  (None, 33, 51, 192)  576        ['conv2d_1038[0][0]']            \n",
      " hNormalization)                                                                                  \n",
      "                                                                                                  \n",
      " activation_1038 (Activation)   (None, 33, 51, 192)  0           ['batch_normalization_1038[0][0]'\n",
      "                                                                 ]                                \n",
      "                                                                                                  \n",
      " max_pooling2d_45 (MaxPooling2D  (None, 16, 25, 192)  0          ['activation_1038[0][0]']        \n",
      " )                                                                                                \n",
      "                                                                                                  \n",
      " conv2d_1042 (Conv2D)           (None, 16, 25, 64)   12288       ['max_pooling2d_45[0][0]']       \n",
      "                                                                                                  \n",
      " batch_normalization_1042 (Batc  (None, 16, 25, 64)  192         ['conv2d_1042[0][0]']            \n",
      " hNormalization)                                                                                  \n",
      "                                                                                                  \n",
      " activation_1042 (Activation)   (None, 16, 25, 64)   0           ['batch_normalization_1042[0][0]'\n",
      "                                                                 ]                                \n",
      "                                                                                                  \n",
      " conv2d_1040 (Conv2D)           (None, 16, 25, 48)   9216        ['max_pooling2d_45[0][0]']       \n",
      "                                                                                                  \n",
      " conv2d_1043 (Conv2D)           (None, 16, 25, 96)   55296       ['activation_1042[0][0]']        \n",
      "                                                                                                  \n",
      " batch_normalization_1040 (Batc  (None, 16, 25, 48)  144         ['conv2d_1040[0][0]']            \n",
      " hNormalization)                                                                                  \n",
      "                                                                                                  \n",
      " batch_normalization_1043 (Batc  (None, 16, 25, 96)  288         ['conv2d_1043[0][0]']            \n",
      " hNormalization)                                                                                  \n",
      "                                                                                                  \n",
      " activation_1040 (Activation)   (None, 16, 25, 48)   0           ['batch_normalization_1040[0][0]'\n",
      "                                                                 ]                                \n",
      "                                                                                                  \n",
      " activation_1043 (Activation)   (None, 16, 25, 96)   0           ['batch_normalization_1043[0][0]'\n",
      "                                                                 ]                                \n",
      "                                                                                                  \n",
      " average_pooling2d_99 (AverageP  (None, 16, 25, 192)  0          ['max_pooling2d_45[0][0]']       \n",
      " ooling2D)                                                                                        \n",
      "                                                                                                  \n",
      " conv2d_1039 (Conv2D)           (None, 16, 25, 64)   12288       ['max_pooling2d_45[0][0]']       \n",
      "                                                                                                  \n",
      " conv2d_1041 (Conv2D)           (None, 16, 25, 64)   76800       ['activation_1040[0][0]']        \n",
      "                                                                                                  \n",
      " conv2d_1044 (Conv2D)           (None, 16, 25, 96)   82944       ['activation_1043[0][0]']        \n",
      "                                                                                                  \n",
      " conv2d_1045 (Conv2D)           (None, 16, 25, 32)   6144        ['average_pooling2d_99[0][0]']   \n",
      "                                                                                                  \n",
      " batch_normalization_1039 (Batc  (None, 16, 25, 64)  192         ['conv2d_1039[0][0]']            \n",
      " hNormalization)                                                                                  \n",
      "                                                                                                  \n",
      " batch_normalization_1041 (Batc  (None, 16, 25, 64)  192         ['conv2d_1041[0][0]']            \n",
      " hNormalization)                                                                                  \n",
      "                                                                                                  \n",
      " batch_normalization_1044 (Batc  (None, 16, 25, 96)  288         ['conv2d_1044[0][0]']            \n",
      " hNormalization)                                                                                  \n",
      "                                                                                                  \n",
      " batch_normalization_1045 (Batc  (None, 16, 25, 32)  96          ['conv2d_1045[0][0]']            \n",
      " hNormalization)                                                                                  \n",
      "                                                                                                  \n",
      " activation_1039 (Activation)   (None, 16, 25, 64)   0           ['batch_normalization_1039[0][0]'\n",
      "                                                                 ]                                \n",
      "                                                                                                  \n",
      " activation_1041 (Activation)   (None, 16, 25, 64)   0           ['batch_normalization_1041[0][0]'\n",
      "                                                                 ]                                \n",
      "                                                                                                  \n",
      " activation_1044 (Activation)   (None, 16, 25, 96)   0           ['batch_normalization_1044[0][0]'\n",
      "                                                                 ]                                \n",
      "                                                                                                  \n",
      " activation_1045 (Activation)   (None, 16, 25, 32)   0           ['batch_normalization_1045[0][0]'\n",
      "                                                                 ]                                \n",
      "                                                                                                  \n",
      " mixed0 (Concatenate)           (None, 16, 25, 256)  0           ['activation_1039[0][0]',        \n",
      "                                                                  'activation_1041[0][0]',        \n",
      "                                                                  'activation_1044[0][0]',        \n",
      "                                                                  'activation_1045[0][0]']        \n",
      "                                                                                                  \n",
      " conv2d_1049 (Conv2D)           (None, 16, 25, 64)   16384       ['mixed0[0][0]']                 \n",
      "                                                                                                  \n",
      " batch_normalization_1049 (Batc  (None, 16, 25, 64)  192         ['conv2d_1049[0][0]']            \n",
      " hNormalization)                                                                                  \n",
      "                                                                                                  \n",
      " activation_1049 (Activation)   (None, 16, 25, 64)   0           ['batch_normalization_1049[0][0]'\n",
      "                                                                 ]                                \n",
      "                                                                                                  \n",
      " conv2d_1047 (Conv2D)           (None, 16, 25, 48)   12288       ['mixed0[0][0]']                 \n",
      "                                                                                                  \n",
      " conv2d_1050 (Conv2D)           (None, 16, 25, 96)   55296       ['activation_1049[0][0]']        \n",
      "                                                                                                  \n",
      " batch_normalization_1047 (Batc  (None, 16, 25, 48)  144         ['conv2d_1047[0][0]']            \n",
      " hNormalization)                                                                                  \n",
      "                                                                                                  \n",
      " batch_normalization_1050 (Batc  (None, 16, 25, 96)  288         ['conv2d_1050[0][0]']            \n",
      " hNormalization)                                                                                  \n",
      "                                                                                                  \n",
      " activation_1047 (Activation)   (None, 16, 25, 48)   0           ['batch_normalization_1047[0][0]'\n",
      "                                                                 ]                                \n",
      "                                                                                                  \n",
      " activation_1050 (Activation)   (None, 16, 25, 96)   0           ['batch_normalization_1050[0][0]'\n",
      "                                                                 ]                                \n",
      "                                                                                                  \n",
      " average_pooling2d_100 (Average  (None, 16, 25, 256)  0          ['mixed0[0][0]']                 \n",
      " Pooling2D)                                                                                       \n",
      "                                                                                                  \n",
      " conv2d_1046 (Conv2D)           (None, 16, 25, 64)   16384       ['mixed0[0][0]']                 \n",
      "                                                                                                  \n",
      " conv2d_1048 (Conv2D)           (None, 16, 25, 64)   76800       ['activation_1047[0][0]']        \n",
      "                                                                                                  \n",
      " conv2d_1051 (Conv2D)           (None, 16, 25, 96)   82944       ['activation_1050[0][0]']        \n",
      "                                                                                                  \n",
      " conv2d_1052 (Conv2D)           (None, 16, 25, 64)   16384       ['average_pooling2d_100[0][0]']  \n",
      "                                                                                                  \n",
      " batch_normalization_1046 (Batc  (None, 16, 25, 64)  192         ['conv2d_1046[0][0]']            \n",
      " hNormalization)                                                                                  \n",
      "                                                                                                  \n",
      " batch_normalization_1048 (Batc  (None, 16, 25, 64)  192         ['conv2d_1048[0][0]']            \n",
      " hNormalization)                                                                                  \n",
      "                                                                                                  \n",
      " batch_normalization_1051 (Batc  (None, 16, 25, 96)  288         ['conv2d_1051[0][0]']            \n",
      " hNormalization)                                                                                  \n",
      "                                                                                                  \n",
      " batch_normalization_1052 (Batc  (None, 16, 25, 64)  192         ['conv2d_1052[0][0]']            \n",
      " hNormalization)                                                                                  \n",
      "                                                                                                  \n",
      " activation_1046 (Activation)   (None, 16, 25, 64)   0           ['batch_normalization_1046[0][0]'\n",
      "                                                                 ]                                \n",
      "                                                                                                  \n",
      " activation_1048 (Activation)   (None, 16, 25, 64)   0           ['batch_normalization_1048[0][0]'\n",
      "                                                                 ]                                \n",
      "                                                                                                  \n",
      " activation_1051 (Activation)   (None, 16, 25, 96)   0           ['batch_normalization_1051[0][0]'\n",
      "                                                                 ]                                \n",
      "                                                                                                  \n",
      " activation_1052 (Activation)   (None, 16, 25, 64)   0           ['batch_normalization_1052[0][0]'\n",
      "                                                                 ]                                \n",
      "                                                                                                  \n",
      " mixed1 (Concatenate)           (None, 16, 25, 288)  0           ['activation_1046[0][0]',        \n",
      "                                                                  'activation_1048[0][0]',        \n",
      "                                                                  'activation_1051[0][0]',        \n",
      "                                                                  'activation_1052[0][0]']        \n",
      "                                                                                                  \n",
      " conv2d_1056 (Conv2D)           (None, 16, 25, 64)   18432       ['mixed1[0][0]']                 \n",
      "                                                                                                  \n",
      " batch_normalization_1056 (Batc  (None, 16, 25, 64)  192         ['conv2d_1056[0][0]']            \n",
      " hNormalization)                                                                                  \n",
      "                                                                                                  \n",
      " activation_1056 (Activation)   (None, 16, 25, 64)   0           ['batch_normalization_1056[0][0]'\n",
      "                                                                 ]                                \n",
      "                                                                                                  \n",
      " conv2d_1054 (Conv2D)           (None, 16, 25, 48)   13824       ['mixed1[0][0]']                 \n",
      "                                                                                                  \n",
      " conv2d_1057 (Conv2D)           (None, 16, 25, 96)   55296       ['activation_1056[0][0]']        \n",
      "                                                                                                  \n",
      " batch_normalization_1054 (Batc  (None, 16, 25, 48)  144         ['conv2d_1054[0][0]']            \n",
      " hNormalization)                                                                                  \n",
      "                                                                                                  \n",
      " batch_normalization_1057 (Batc  (None, 16, 25, 96)  288         ['conv2d_1057[0][0]']            \n",
      " hNormalization)                                                                                  \n",
      "                                                                                                  \n",
      " activation_1054 (Activation)   (None, 16, 25, 48)   0           ['batch_normalization_1054[0][0]'\n",
      "                                                                 ]                                \n",
      "                                                                                                  \n",
      " activation_1057 (Activation)   (None, 16, 25, 96)   0           ['batch_normalization_1057[0][0]'\n",
      "                                                                 ]                                \n",
      "                                                                                                  \n",
      " average_pooling2d_101 (Average  (None, 16, 25, 288)  0          ['mixed1[0][0]']                 \n",
      " Pooling2D)                                                                                       \n",
      "                                                                                                  \n",
      " conv2d_1053 (Conv2D)           (None, 16, 25, 64)   18432       ['mixed1[0][0]']                 \n",
      "                                                                                                  \n",
      " conv2d_1055 (Conv2D)           (None, 16, 25, 64)   76800       ['activation_1054[0][0]']        \n",
      "                                                                                                  \n",
      " conv2d_1058 (Conv2D)           (None, 16, 25, 96)   82944       ['activation_1057[0][0]']        \n",
      "                                                                                                  \n",
      " conv2d_1059 (Conv2D)           (None, 16, 25, 64)   18432       ['average_pooling2d_101[0][0]']  \n",
      "                                                                                                  \n",
      " batch_normalization_1053 (Batc  (None, 16, 25, 64)  192         ['conv2d_1053[0][0]']            \n",
      " hNormalization)                                                                                  \n",
      "                                                                                                  \n",
      " batch_normalization_1055 (Batc  (None, 16, 25, 64)  192         ['conv2d_1055[0][0]']            \n",
      " hNormalization)                                                                                  \n",
      "                                                                                                  \n",
      " batch_normalization_1058 (Batc  (None, 16, 25, 96)  288         ['conv2d_1058[0][0]']            \n",
      " hNormalization)                                                                                  \n",
      "                                                                                                  \n",
      " batch_normalization_1059 (Batc  (None, 16, 25, 64)  192         ['conv2d_1059[0][0]']            \n",
      " hNormalization)                                                                                  \n",
      "                                                                                                  \n",
      " activation_1053 (Activation)   (None, 16, 25, 64)   0           ['batch_normalization_1053[0][0]'\n",
      "                                                                 ]                                \n",
      "                                                                                                  \n",
      " activation_1055 (Activation)   (None, 16, 25, 64)   0           ['batch_normalization_1055[0][0]'\n",
      "                                                                 ]                                \n",
      "                                                                                                  \n",
      " activation_1058 (Activation)   (None, 16, 25, 96)   0           ['batch_normalization_1058[0][0]'\n",
      "                                                                 ]                                \n",
      "                                                                                                  \n",
      " activation_1059 (Activation)   (None, 16, 25, 64)   0           ['batch_normalization_1059[0][0]'\n",
      "                                                                 ]                                \n",
      "                                                                                                  \n",
      " mixed2 (Concatenate)           (None, 16, 25, 288)  0           ['activation_1053[0][0]',        \n",
      "                                                                  'activation_1055[0][0]',        \n",
      "                                                                  'activation_1058[0][0]',        \n",
      "                                                                  'activation_1059[0][0]']        \n",
      "                                                                                                  \n",
      " conv2d_1061 (Conv2D)           (None, 16, 25, 64)   18432       ['mixed2[0][0]']                 \n",
      "                                                                                                  \n",
      " batch_normalization_1061 (Batc  (None, 16, 25, 64)  192         ['conv2d_1061[0][0]']            \n",
      " hNormalization)                                                                                  \n",
      "                                                                                                  \n",
      " activation_1061 (Activation)   (None, 16, 25, 64)   0           ['batch_normalization_1061[0][0]'\n",
      "                                                                 ]                                \n",
      "                                                                                                  \n",
      " conv2d_1062 (Conv2D)           (None, 16, 25, 96)   55296       ['activation_1061[0][0]']        \n",
      "                                                                                                  \n",
      " batch_normalization_1062 (Batc  (None, 16, 25, 96)  288         ['conv2d_1062[0][0]']            \n",
      " hNormalization)                                                                                  \n",
      "                                                                                                  \n",
      " activation_1062 (Activation)   (None, 16, 25, 96)   0           ['batch_normalization_1062[0][0]'\n",
      "                                                                 ]                                \n",
      "                                                                                                  \n",
      " conv2d_1060 (Conv2D)           (None, 7, 12, 384)   995328      ['mixed2[0][0]']                 \n",
      "                                                                                                  \n",
      " conv2d_1063 (Conv2D)           (None, 7, 12, 96)    82944       ['activation_1062[0][0]']        \n",
      "                                                                                                  \n",
      " batch_normalization_1060 (Batc  (None, 7, 12, 384)  1152        ['conv2d_1060[0][0]']            \n",
      " hNormalization)                                                                                  \n",
      "                                                                                                  \n",
      " batch_normalization_1063 (Batc  (None, 7, 12, 96)   288         ['conv2d_1063[0][0]']            \n",
      " hNormalization)                                                                                  \n",
      "                                                                                                  \n",
      " activation_1060 (Activation)   (None, 7, 12, 384)   0           ['batch_normalization_1060[0][0]'\n",
      "                                                                 ]                                \n",
      "                                                                                                  \n",
      " activation_1063 (Activation)   (None, 7, 12, 96)    0           ['batch_normalization_1063[0][0]'\n",
      "                                                                 ]                                \n",
      "                                                                                                  \n",
      " max_pooling2d_46 (MaxPooling2D  (None, 7, 12, 288)  0           ['mixed2[0][0]']                 \n",
      " )                                                                                                \n",
      "                                                                                                  \n",
      " mixed3 (Concatenate)           (None, 7, 12, 768)   0           ['activation_1060[0][0]',        \n",
      "                                                                  'activation_1063[0][0]',        \n",
      "                                                                  'max_pooling2d_46[0][0]']       \n",
      "                                                                                                  \n",
      " conv2d_1068 (Conv2D)           (None, 7, 12, 128)   98304       ['mixed3[0][0]']                 \n",
      "                                                                                                  \n",
      " batch_normalization_1068 (Batc  (None, 7, 12, 128)  384         ['conv2d_1068[0][0]']            \n",
      " hNormalization)                                                                                  \n",
      "                                                                                                  \n",
      " activation_1068 (Activation)   (None, 7, 12, 128)   0           ['batch_normalization_1068[0][0]'\n",
      "                                                                 ]                                \n",
      "                                                                                                  \n",
      " conv2d_1069 (Conv2D)           (None, 7, 12, 128)   114688      ['activation_1068[0][0]']        \n",
      "                                                                                                  \n",
      " batch_normalization_1069 (Batc  (None, 7, 12, 128)  384         ['conv2d_1069[0][0]']            \n",
      " hNormalization)                                                                                  \n",
      "                                                                                                  \n",
      " activation_1069 (Activation)   (None, 7, 12, 128)   0           ['batch_normalization_1069[0][0]'\n",
      "                                                                 ]                                \n",
      "                                                                                                  \n",
      " conv2d_1065 (Conv2D)           (None, 7, 12, 128)   98304       ['mixed3[0][0]']                 \n",
      "                                                                                                  \n",
      " conv2d_1070 (Conv2D)           (None, 7, 12, 128)   114688      ['activation_1069[0][0]']        \n",
      "                                                                                                  \n",
      " batch_normalization_1065 (Batc  (None, 7, 12, 128)  384         ['conv2d_1065[0][0]']            \n",
      " hNormalization)                                                                                  \n",
      "                                                                                                  \n",
      " batch_normalization_1070 (Batc  (None, 7, 12, 128)  384         ['conv2d_1070[0][0]']            \n",
      " hNormalization)                                                                                  \n",
      "                                                                                                  \n",
      " activation_1065 (Activation)   (None, 7, 12, 128)   0           ['batch_normalization_1065[0][0]'\n",
      "                                                                 ]                                \n",
      "                                                                                                  \n",
      " activation_1070 (Activation)   (None, 7, 12, 128)   0           ['batch_normalization_1070[0][0]'\n",
      "                                                                 ]                                \n",
      "                                                                                                  \n",
      " conv2d_1066 (Conv2D)           (None, 7, 12, 128)   114688      ['activation_1065[0][0]']        \n",
      "                                                                                                  \n",
      " conv2d_1071 (Conv2D)           (None, 7, 12, 128)   114688      ['activation_1070[0][0]']        \n",
      "                                                                                                  \n",
      " batch_normalization_1066 (Batc  (None, 7, 12, 128)  384         ['conv2d_1066[0][0]']            \n",
      " hNormalization)                                                                                  \n",
      "                                                                                                  \n",
      " batch_normalization_1071 (Batc  (None, 7, 12, 128)  384         ['conv2d_1071[0][0]']            \n",
      " hNormalization)                                                                                  \n",
      "                                                                                                  \n",
      " activation_1066 (Activation)   (None, 7, 12, 128)   0           ['batch_normalization_1066[0][0]'\n",
      "                                                                 ]                                \n",
      "                                                                                                  \n",
      " activation_1071 (Activation)   (None, 7, 12, 128)   0           ['batch_normalization_1071[0][0]'\n",
      "                                                                 ]                                \n",
      "                                                                                                  \n",
      " average_pooling2d_102 (Average  (None, 7, 12, 768)  0           ['mixed3[0][0]']                 \n",
      " Pooling2D)                                                                                       \n",
      "                                                                                                  \n",
      " conv2d_1064 (Conv2D)           (None, 7, 12, 192)   147456      ['mixed3[0][0]']                 \n",
      "                                                                                                  \n",
      " conv2d_1067 (Conv2D)           (None, 7, 12, 192)   172032      ['activation_1066[0][0]']        \n",
      "                                                                                                  \n",
      " conv2d_1072 (Conv2D)           (None, 7, 12, 192)   172032      ['activation_1071[0][0]']        \n",
      "                                                                                                  \n",
      " conv2d_1073 (Conv2D)           (None, 7, 12, 192)   147456      ['average_pooling2d_102[0][0]']  \n",
      "                                                                                                  \n",
      " batch_normalization_1064 (Batc  (None, 7, 12, 192)  576         ['conv2d_1064[0][0]']            \n",
      " hNormalization)                                                                                  \n",
      "                                                                                                  \n",
      " batch_normalization_1067 (Batc  (None, 7, 12, 192)  576         ['conv2d_1067[0][0]']            \n",
      " hNormalization)                                                                                  \n",
      "                                                                                                  \n",
      " batch_normalization_1072 (Batc  (None, 7, 12, 192)  576         ['conv2d_1072[0][0]']            \n",
      " hNormalization)                                                                                  \n",
      "                                                                                                  \n",
      " batch_normalization_1073 (Batc  (None, 7, 12, 192)  576         ['conv2d_1073[0][0]']            \n",
      " hNormalization)                                                                                  \n",
      "                                                                                                  \n",
      " activation_1064 (Activation)   (None, 7, 12, 192)   0           ['batch_normalization_1064[0][0]'\n",
      "                                                                 ]                                \n",
      "                                                                                                  \n",
      " activation_1067 (Activation)   (None, 7, 12, 192)   0           ['batch_normalization_1067[0][0]'\n",
      "                                                                 ]                                \n",
      "                                                                                                  \n",
      " activation_1072 (Activation)   (None, 7, 12, 192)   0           ['batch_normalization_1072[0][0]'\n",
      "                                                                 ]                                \n",
      "                                                                                                  \n",
      " activation_1073 (Activation)   (None, 7, 12, 192)   0           ['batch_normalization_1073[0][0]'\n",
      "                                                                 ]                                \n",
      "                                                                                                  \n",
      " mixed4 (Concatenate)           (None, 7, 12, 768)   0           ['activation_1064[0][0]',        \n",
      "                                                                  'activation_1067[0][0]',        \n",
      "                                                                  'activation_1072[0][0]',        \n",
      "                                                                  'activation_1073[0][0]']        \n",
      "                                                                                                  \n",
      " conv2d_1078 (Conv2D)           (None, 7, 12, 160)   122880      ['mixed4[0][0]']                 \n",
      "                                                                                                  \n",
      " batch_normalization_1078 (Batc  (None, 7, 12, 160)  480         ['conv2d_1078[0][0]']            \n",
      " hNormalization)                                                                                  \n",
      "                                                                                                  \n",
      " activation_1078 (Activation)   (None, 7, 12, 160)   0           ['batch_normalization_1078[0][0]'\n",
      "                                                                 ]                                \n",
      "                                                                                                  \n",
      " conv2d_1079 (Conv2D)           (None, 7, 12, 160)   179200      ['activation_1078[0][0]']        \n",
      "                                                                                                  \n",
      " batch_normalization_1079 (Batc  (None, 7, 12, 160)  480         ['conv2d_1079[0][0]']            \n",
      " hNormalization)                                                                                  \n",
      "                                                                                                  \n",
      " activation_1079 (Activation)   (None, 7, 12, 160)   0           ['batch_normalization_1079[0][0]'\n",
      "                                                                 ]                                \n",
      "                                                                                                  \n",
      " conv2d_1075 (Conv2D)           (None, 7, 12, 160)   122880      ['mixed4[0][0]']                 \n",
      "                                                                                                  \n",
      " conv2d_1080 (Conv2D)           (None, 7, 12, 160)   179200      ['activation_1079[0][0]']        \n",
      "                                                                                                  \n",
      " batch_normalization_1075 (Batc  (None, 7, 12, 160)  480         ['conv2d_1075[0][0]']            \n",
      " hNormalization)                                                                                  \n",
      "                                                                                                  \n",
      " batch_normalization_1080 (Batc  (None, 7, 12, 160)  480         ['conv2d_1080[0][0]']            \n",
      " hNormalization)                                                                                  \n",
      "                                                                                                  \n",
      " activation_1075 (Activation)   (None, 7, 12, 160)   0           ['batch_normalization_1075[0][0]'\n",
      "                                                                 ]                                \n",
      "                                                                                                  \n",
      " activation_1080 (Activation)   (None, 7, 12, 160)   0           ['batch_normalization_1080[0][0]'\n",
      "                                                                 ]                                \n",
      "                                                                                                  \n",
      " conv2d_1076 (Conv2D)           (None, 7, 12, 160)   179200      ['activation_1075[0][0]']        \n",
      "                                                                                                  \n",
      " conv2d_1081 (Conv2D)           (None, 7, 12, 160)   179200      ['activation_1080[0][0]']        \n",
      "                                                                                                  \n",
      " batch_normalization_1076 (Batc  (None, 7, 12, 160)  480         ['conv2d_1076[0][0]']            \n",
      " hNormalization)                                                                                  \n",
      "                                                                                                  \n",
      " batch_normalization_1081 (Batc  (None, 7, 12, 160)  480         ['conv2d_1081[0][0]']            \n",
      " hNormalization)                                                                                  \n",
      "                                                                                                  \n",
      " activation_1076 (Activation)   (None, 7, 12, 160)   0           ['batch_normalization_1076[0][0]'\n",
      "                                                                 ]                                \n",
      "                                                                                                  \n",
      " activation_1081 (Activation)   (None, 7, 12, 160)   0           ['batch_normalization_1081[0][0]'\n",
      "                                                                 ]                                \n",
      "                                                                                                  \n",
      " average_pooling2d_103 (Average  (None, 7, 12, 768)  0           ['mixed4[0][0]']                 \n",
      " Pooling2D)                                                                                       \n",
      "                                                                                                  \n",
      " conv2d_1074 (Conv2D)           (None, 7, 12, 192)   147456      ['mixed4[0][0]']                 \n",
      "                                                                                                  \n",
      " conv2d_1077 (Conv2D)           (None, 7, 12, 192)   215040      ['activation_1076[0][0]']        \n",
      "                                                                                                  \n",
      " conv2d_1082 (Conv2D)           (None, 7, 12, 192)   215040      ['activation_1081[0][0]']        \n",
      "                                                                                                  \n",
      " conv2d_1083 (Conv2D)           (None, 7, 12, 192)   147456      ['average_pooling2d_103[0][0]']  \n",
      "                                                                                                  \n",
      " batch_normalization_1074 (Batc  (None, 7, 12, 192)  576         ['conv2d_1074[0][0]']            \n",
      " hNormalization)                                                                                  \n",
      "                                                                                                  \n",
      " batch_normalization_1077 (Batc  (None, 7, 12, 192)  576         ['conv2d_1077[0][0]']            \n",
      " hNormalization)                                                                                  \n",
      "                                                                                                  \n",
      " batch_normalization_1082 (Batc  (None, 7, 12, 192)  576         ['conv2d_1082[0][0]']            \n",
      " hNormalization)                                                                                  \n",
      "                                                                                                  \n",
      " batch_normalization_1083 (Batc  (None, 7, 12, 192)  576         ['conv2d_1083[0][0]']            \n",
      " hNormalization)                                                                                  \n",
      "                                                                                                  \n",
      " activation_1074 (Activation)   (None, 7, 12, 192)   0           ['batch_normalization_1074[0][0]'\n",
      "                                                                 ]                                \n",
      "                                                                                                  \n",
      " activation_1077 (Activation)   (None, 7, 12, 192)   0           ['batch_normalization_1077[0][0]'\n",
      "                                                                 ]                                \n",
      "                                                                                                  \n",
      " activation_1082 (Activation)   (None, 7, 12, 192)   0           ['batch_normalization_1082[0][0]'\n",
      "                                                                 ]                                \n",
      "                                                                                                  \n",
      " activation_1083 (Activation)   (None, 7, 12, 192)   0           ['batch_normalization_1083[0][0]'\n",
      "                                                                 ]                                \n",
      "                                                                                                  \n",
      " mixed5 (Concatenate)           (None, 7, 12, 768)   0           ['activation_1074[0][0]',        \n",
      "                                                                  'activation_1077[0][0]',        \n",
      "                                                                  'activation_1082[0][0]',        \n",
      "                                                                  'activation_1083[0][0]']        \n",
      "                                                                                                  \n",
      " conv2d_1088 (Conv2D)           (None, 7, 12, 160)   122880      ['mixed5[0][0]']                 \n",
      "                                                                                                  \n",
      " batch_normalization_1088 (Batc  (None, 7, 12, 160)  480         ['conv2d_1088[0][0]']            \n",
      " hNormalization)                                                                                  \n",
      "                                                                                                  \n",
      " activation_1088 (Activation)   (None, 7, 12, 160)   0           ['batch_normalization_1088[0][0]'\n",
      "                                                                 ]                                \n",
      "                                                                                                  \n",
      " conv2d_1089 (Conv2D)           (None, 7, 12, 160)   179200      ['activation_1088[0][0]']        \n",
      "                                                                                                  \n",
      " batch_normalization_1089 (Batc  (None, 7, 12, 160)  480         ['conv2d_1089[0][0]']            \n",
      " hNormalization)                                                                                  \n",
      "                                                                                                  \n",
      " activation_1089 (Activation)   (None, 7, 12, 160)   0           ['batch_normalization_1089[0][0]'\n",
      "                                                                 ]                                \n",
      "                                                                                                  \n",
      " conv2d_1085 (Conv2D)           (None, 7, 12, 160)   122880      ['mixed5[0][0]']                 \n",
      "                                                                                                  \n",
      " conv2d_1090 (Conv2D)           (None, 7, 12, 160)   179200      ['activation_1089[0][0]']        \n",
      "                                                                                                  \n",
      " batch_normalization_1085 (Batc  (None, 7, 12, 160)  480         ['conv2d_1085[0][0]']            \n",
      " hNormalization)                                                                                  \n",
      "                                                                                                  \n",
      " batch_normalization_1090 (Batc  (None, 7, 12, 160)  480         ['conv2d_1090[0][0]']            \n",
      " hNormalization)                                                                                  \n",
      "                                                                                                  \n",
      " activation_1085 (Activation)   (None, 7, 12, 160)   0           ['batch_normalization_1085[0][0]'\n",
      "                                                                 ]                                \n",
      "                                                                                                  \n",
      " activation_1090 (Activation)   (None, 7, 12, 160)   0           ['batch_normalization_1090[0][0]'\n",
      "                                                                 ]                                \n",
      "                                                                                                  \n",
      " conv2d_1086 (Conv2D)           (None, 7, 12, 160)   179200      ['activation_1085[0][0]']        \n",
      "                                                                                                  \n",
      " conv2d_1091 (Conv2D)           (None, 7, 12, 160)   179200      ['activation_1090[0][0]']        \n",
      "                                                                                                  \n",
      " batch_normalization_1086 (Batc  (None, 7, 12, 160)  480         ['conv2d_1086[0][0]']            \n",
      " hNormalization)                                                                                  \n",
      "                                                                                                  \n",
      " batch_normalization_1091 (Batc  (None, 7, 12, 160)  480         ['conv2d_1091[0][0]']            \n",
      " hNormalization)                                                                                  \n",
      "                                                                                                  \n",
      " activation_1086 (Activation)   (None, 7, 12, 160)   0           ['batch_normalization_1086[0][0]'\n",
      "                                                                 ]                                \n",
      "                                                                                                  \n",
      " activation_1091 (Activation)   (None, 7, 12, 160)   0           ['batch_normalization_1091[0][0]'\n",
      "                                                                 ]                                \n",
      "                                                                                                  \n",
      " average_pooling2d_104 (Average  (None, 7, 12, 768)  0           ['mixed5[0][0]']                 \n",
      " Pooling2D)                                                                                       \n",
      "                                                                                                  \n",
      " conv2d_1084 (Conv2D)           (None, 7, 12, 192)   147456      ['mixed5[0][0]']                 \n",
      "                                                                                                  \n",
      " conv2d_1087 (Conv2D)           (None, 7, 12, 192)   215040      ['activation_1086[0][0]']        \n",
      "                                                                                                  \n",
      " conv2d_1092 (Conv2D)           (None, 7, 12, 192)   215040      ['activation_1091[0][0]']        \n",
      "                                                                                                  \n",
      " conv2d_1093 (Conv2D)           (None, 7, 12, 192)   147456      ['average_pooling2d_104[0][0]']  \n",
      "                                                                                                  \n",
      " batch_normalization_1084 (Batc  (None, 7, 12, 192)  576         ['conv2d_1084[0][0]']            \n",
      " hNormalization)                                                                                  \n",
      "                                                                                                  \n",
      " batch_normalization_1087 (Batc  (None, 7, 12, 192)  576         ['conv2d_1087[0][0]']            \n",
      " hNormalization)                                                                                  \n",
      "                                                                                                  \n",
      " batch_normalization_1092 (Batc  (None, 7, 12, 192)  576         ['conv2d_1092[0][0]']            \n",
      " hNormalization)                                                                                  \n",
      "                                                                                                  \n",
      " batch_normalization_1093 (Batc  (None, 7, 12, 192)  576         ['conv2d_1093[0][0]']            \n",
      " hNormalization)                                                                                  \n",
      "                                                                                                  \n",
      " activation_1084 (Activation)   (None, 7, 12, 192)   0           ['batch_normalization_1084[0][0]'\n",
      "                                                                 ]                                \n",
      "                                                                                                  \n",
      " activation_1087 (Activation)   (None, 7, 12, 192)   0           ['batch_normalization_1087[0][0]'\n",
      "                                                                 ]                                \n",
      "                                                                                                  \n",
      " activation_1092 (Activation)   (None, 7, 12, 192)   0           ['batch_normalization_1092[0][0]'\n",
      "                                                                 ]                                \n",
      "                                                                                                  \n",
      " activation_1093 (Activation)   (None, 7, 12, 192)   0           ['batch_normalization_1093[0][0]'\n",
      "                                                                 ]                                \n",
      "                                                                                                  \n",
      " mixed6 (Concatenate)           (None, 7, 12, 768)   0           ['activation_1084[0][0]',        \n",
      "                                                                  'activation_1087[0][0]',        \n",
      "                                                                  'activation_1092[0][0]',        \n",
      "                                                                  'activation_1093[0][0]']        \n",
      "                                                                                                  \n",
      " conv2d_1098 (Conv2D)           (None, 7, 12, 192)   147456      ['mixed6[0][0]']                 \n",
      "                                                                                                  \n",
      " batch_normalization_1098 (Batc  (None, 7, 12, 192)  576         ['conv2d_1098[0][0]']            \n",
      " hNormalization)                                                                                  \n",
      "                                                                                                  \n",
      " activation_1098 (Activation)   (None, 7, 12, 192)   0           ['batch_normalization_1098[0][0]'\n",
      "                                                                 ]                                \n",
      "                                                                                                  \n",
      " conv2d_1099 (Conv2D)           (None, 7, 12, 192)   258048      ['activation_1098[0][0]']        \n",
      "                                                                                                  \n",
      " batch_normalization_1099 (Batc  (None, 7, 12, 192)  576         ['conv2d_1099[0][0]']            \n",
      " hNormalization)                                                                                  \n",
      "                                                                                                  \n",
      " activation_1099 (Activation)   (None, 7, 12, 192)   0           ['batch_normalization_1099[0][0]'\n",
      "                                                                 ]                                \n",
      "                                                                                                  \n",
      " conv2d_1095 (Conv2D)           (None, 7, 12, 192)   147456      ['mixed6[0][0]']                 \n",
      "                                                                                                  \n",
      " conv2d_1100 (Conv2D)           (None, 7, 12, 192)   258048      ['activation_1099[0][0]']        \n",
      "                                                                                                  \n",
      " batch_normalization_1095 (Batc  (None, 7, 12, 192)  576         ['conv2d_1095[0][0]']            \n",
      " hNormalization)                                                                                  \n",
      "                                                                                                  \n",
      " batch_normalization_1100 (Batc  (None, 7, 12, 192)  576         ['conv2d_1100[0][0]']            \n",
      " hNormalization)                                                                                  \n",
      "                                                                                                  \n",
      " activation_1095 (Activation)   (None, 7, 12, 192)   0           ['batch_normalization_1095[0][0]'\n",
      "                                                                 ]                                \n",
      "                                                                                                  \n",
      " activation_1100 (Activation)   (None, 7, 12, 192)   0           ['batch_normalization_1100[0][0]'\n",
      "                                                                 ]                                \n",
      "                                                                                                  \n",
      " conv2d_1096 (Conv2D)           (None, 7, 12, 192)   258048      ['activation_1095[0][0]']        \n",
      "                                                                                                  \n",
      " conv2d_1101 (Conv2D)           (None, 7, 12, 192)   258048      ['activation_1100[0][0]']        \n",
      "                                                                                                  \n",
      " batch_normalization_1096 (Batc  (None, 7, 12, 192)  576         ['conv2d_1096[0][0]']            \n",
      " hNormalization)                                                                                  \n",
      "                                                                                                  \n",
      " batch_normalization_1101 (Batc  (None, 7, 12, 192)  576         ['conv2d_1101[0][0]']            \n",
      " hNormalization)                                                                                  \n",
      "                                                                                                  \n",
      " activation_1096 (Activation)   (None, 7, 12, 192)   0           ['batch_normalization_1096[0][0]'\n",
      "                                                                 ]                                \n",
      "                                                                                                  \n",
      " activation_1101 (Activation)   (None, 7, 12, 192)   0           ['batch_normalization_1101[0][0]'\n",
      "                                                                 ]                                \n",
      "                                                                                                  \n",
      " average_pooling2d_105 (Average  (None, 7, 12, 768)  0           ['mixed6[0][0]']                 \n",
      " Pooling2D)                                                                                       \n",
      "                                                                                                  \n",
      " conv2d_1094 (Conv2D)           (None, 7, 12, 192)   147456      ['mixed6[0][0]']                 \n",
      "                                                                                                  \n",
      " conv2d_1097 (Conv2D)           (None, 7, 12, 192)   258048      ['activation_1096[0][0]']        \n",
      "                                                                                                  \n",
      " conv2d_1102 (Conv2D)           (None, 7, 12, 192)   258048      ['activation_1101[0][0]']        \n",
      "                                                                                                  \n",
      " conv2d_1103 (Conv2D)           (None, 7, 12, 192)   147456      ['average_pooling2d_105[0][0]']  \n",
      "                                                                                                  \n",
      " batch_normalization_1094 (Batc  (None, 7, 12, 192)  576         ['conv2d_1094[0][0]']            \n",
      " hNormalization)                                                                                  \n",
      "                                                                                                  \n",
      " batch_normalization_1097 (Batc  (None, 7, 12, 192)  576         ['conv2d_1097[0][0]']            \n",
      " hNormalization)                                                                                  \n",
      "                                                                                                  \n",
      " batch_normalization_1102 (Batc  (None, 7, 12, 192)  576         ['conv2d_1102[0][0]']            \n",
      " hNormalization)                                                                                  \n",
      "                                                                                                  \n",
      " batch_normalization_1103 (Batc  (None, 7, 12, 192)  576         ['conv2d_1103[0][0]']            \n",
      " hNormalization)                                                                                  \n",
      "                                                                                                  \n",
      " activation_1094 (Activation)   (None, 7, 12, 192)   0           ['batch_normalization_1094[0][0]'\n",
      "                                                                 ]                                \n",
      "                                                                                                  \n",
      " activation_1097 (Activation)   (None, 7, 12, 192)   0           ['batch_normalization_1097[0][0]'\n",
      "                                                                 ]                                \n",
      "                                                                                                  \n",
      " activation_1102 (Activation)   (None, 7, 12, 192)   0           ['batch_normalization_1102[0][0]'\n",
      "                                                                 ]                                \n",
      "                                                                                                  \n",
      " activation_1103 (Activation)   (None, 7, 12, 192)   0           ['batch_normalization_1103[0][0]'\n",
      "                                                                 ]                                \n",
      "                                                                                                  \n",
      " mixed7 (Concatenate)           (None, 7, 12, 768)   0           ['activation_1094[0][0]',        \n",
      "                                                                  'activation_1097[0][0]',        \n",
      "                                                                  'activation_1102[0][0]',        \n",
      "                                                                  'activation_1103[0][0]']        \n",
      "                                                                                                  \n",
      " conv2d_1106 (Conv2D)           (None, 7, 12, 192)   147456      ['mixed7[0][0]']                 \n",
      "                                                                                                  \n",
      " batch_normalization_1106 (Batc  (None, 7, 12, 192)  576         ['conv2d_1106[0][0]']            \n",
      " hNormalization)                                                                                  \n",
      "                                                                                                  \n",
      " activation_1106 (Activation)   (None, 7, 12, 192)   0           ['batch_normalization_1106[0][0]'\n",
      "                                                                 ]                                \n",
      "                                                                                                  \n",
      " conv2d_1107 (Conv2D)           (None, 7, 12, 192)   258048      ['activation_1106[0][0]']        \n",
      "                                                                                                  \n",
      " batch_normalization_1107 (Batc  (None, 7, 12, 192)  576         ['conv2d_1107[0][0]']            \n",
      " hNormalization)                                                                                  \n",
      "                                                                                                  \n",
      " activation_1107 (Activation)   (None, 7, 12, 192)   0           ['batch_normalization_1107[0][0]'\n",
      "                                                                 ]                                \n",
      "                                                                                                  \n",
      " conv2d_1104 (Conv2D)           (None, 7, 12, 192)   147456      ['mixed7[0][0]']                 \n",
      "                                                                                                  \n",
      " conv2d_1108 (Conv2D)           (None, 7, 12, 192)   258048      ['activation_1107[0][0]']        \n",
      "                                                                                                  \n",
      " batch_normalization_1104 (Batc  (None, 7, 12, 192)  576         ['conv2d_1104[0][0]']            \n",
      " hNormalization)                                                                                  \n",
      "                                                                                                  \n",
      " batch_normalization_1108 (Batc  (None, 7, 12, 192)  576         ['conv2d_1108[0][0]']            \n",
      " hNormalization)                                                                                  \n",
      "                                                                                                  \n",
      " activation_1104 (Activation)   (None, 7, 12, 192)   0           ['batch_normalization_1104[0][0]'\n",
      "                                                                 ]                                \n",
      "                                                                                                  \n",
      " activation_1108 (Activation)   (None, 7, 12, 192)   0           ['batch_normalization_1108[0][0]'\n",
      "                                                                 ]                                \n",
      "                                                                                                  \n",
      " conv2d_1105 (Conv2D)           (None, 3, 5, 320)    552960      ['activation_1104[0][0]']        \n",
      "                                                                                                  \n",
      " conv2d_1109 (Conv2D)           (None, 3, 5, 192)    331776      ['activation_1108[0][0]']        \n",
      "                                                                                                  \n",
      " batch_normalization_1105 (Batc  (None, 3, 5, 320)   960         ['conv2d_1105[0][0]']            \n",
      " hNormalization)                                                                                  \n",
      "                                                                                                  \n",
      " batch_normalization_1109 (Batc  (None, 3, 5, 192)   576         ['conv2d_1109[0][0]']            \n",
      " hNormalization)                                                                                  \n",
      "                                                                                                  \n",
      " activation_1105 (Activation)   (None, 3, 5, 320)    0           ['batch_normalization_1105[0][0]'\n",
      "                                                                 ]                                \n",
      "                                                                                                  \n",
      " activation_1109 (Activation)   (None, 3, 5, 192)    0           ['batch_normalization_1109[0][0]'\n",
      "                                                                 ]                                \n",
      "                                                                                                  \n",
      " max_pooling2d_47 (MaxPooling2D  (None, 3, 5, 768)   0           ['mixed7[0][0]']                 \n",
      " )                                                                                                \n",
      "                                                                                                  \n",
      " mixed8 (Concatenate)           (None, 3, 5, 1280)   0           ['activation_1105[0][0]',        \n",
      "                                                                  'activation_1109[0][0]',        \n",
      "                                                                  'max_pooling2d_47[0][0]']       \n",
      "                                                                                                  \n",
      " conv2d_1114 (Conv2D)           (None, 3, 5, 448)    573440      ['mixed8[0][0]']                 \n",
      "                                                                                                  \n",
      " batch_normalization_1114 (Batc  (None, 3, 5, 448)   1344        ['conv2d_1114[0][0]']            \n",
      " hNormalization)                                                                                  \n",
      "                                                                                                  \n",
      " activation_1114 (Activation)   (None, 3, 5, 448)    0           ['batch_normalization_1114[0][0]'\n",
      "                                                                 ]                                \n",
      "                                                                                                  \n",
      " conv2d_1111 (Conv2D)           (None, 3, 5, 384)    491520      ['mixed8[0][0]']                 \n",
      "                                                                                                  \n",
      " conv2d_1115 (Conv2D)           (None, 3, 5, 384)    1548288     ['activation_1114[0][0]']        \n",
      "                                                                                                  \n",
      " batch_normalization_1111 (Batc  (None, 3, 5, 384)   1152        ['conv2d_1111[0][0]']            \n",
      " hNormalization)                                                                                  \n",
      "                                                                                                  \n",
      " batch_normalization_1115 (Batc  (None, 3, 5, 384)   1152        ['conv2d_1115[0][0]']            \n",
      " hNormalization)                                                                                  \n",
      "                                                                                                  \n",
      " activation_1111 (Activation)   (None, 3, 5, 384)    0           ['batch_normalization_1111[0][0]'\n",
      "                                                                 ]                                \n",
      "                                                                                                  \n",
      " activation_1115 (Activation)   (None, 3, 5, 384)    0           ['batch_normalization_1115[0][0]'\n",
      "                                                                 ]                                \n",
      "                                                                                                  \n",
      " conv2d_1112 (Conv2D)           (None, 3, 5, 384)    442368      ['activation_1111[0][0]']        \n",
      "                                                                                                  \n",
      " conv2d_1113 (Conv2D)           (None, 3, 5, 384)    442368      ['activation_1111[0][0]']        \n",
      "                                                                                                  \n",
      " conv2d_1116 (Conv2D)           (None, 3, 5, 384)    442368      ['activation_1115[0][0]']        \n",
      "                                                                                                  \n",
      " conv2d_1117 (Conv2D)           (None, 3, 5, 384)    442368      ['activation_1115[0][0]']        \n",
      "                                                                                                  \n",
      " average_pooling2d_106 (Average  (None, 3, 5, 1280)  0           ['mixed8[0][0]']                 \n",
      " Pooling2D)                                                                                       \n",
      "                                                                                                  \n",
      " conv2d_1110 (Conv2D)           (None, 3, 5, 320)    409600      ['mixed8[0][0]']                 \n",
      "                                                                                                  \n",
      " batch_normalization_1112 (Batc  (None, 3, 5, 384)   1152        ['conv2d_1112[0][0]']            \n",
      " hNormalization)                                                                                  \n",
      "                                                                                                  \n",
      " batch_normalization_1113 (Batc  (None, 3, 5, 384)   1152        ['conv2d_1113[0][0]']            \n",
      " hNormalization)                                                                                  \n",
      "                                                                                                  \n",
      " batch_normalization_1116 (Batc  (None, 3, 5, 384)   1152        ['conv2d_1116[0][0]']            \n",
      " hNormalization)                                                                                  \n",
      "                                                                                                  \n",
      " batch_normalization_1117 (Batc  (None, 3, 5, 384)   1152        ['conv2d_1117[0][0]']            \n",
      " hNormalization)                                                                                  \n",
      "                                                                                                  \n",
      " conv2d_1118 (Conv2D)           (None, 3, 5, 192)    245760      ['average_pooling2d_106[0][0]']  \n",
      "                                                                                                  \n",
      " batch_normalization_1110 (Batc  (None, 3, 5, 320)   960         ['conv2d_1110[0][0]']            \n",
      " hNormalization)                                                                                  \n",
      "                                                                                                  \n",
      " activation_1112 (Activation)   (None, 3, 5, 384)    0           ['batch_normalization_1112[0][0]'\n",
      "                                                                 ]                                \n",
      "                                                                                                  \n",
      " activation_1113 (Activation)   (None, 3, 5, 384)    0           ['batch_normalization_1113[0][0]'\n",
      "                                                                 ]                                \n",
      "                                                                                                  \n",
      " activation_1116 (Activation)   (None, 3, 5, 384)    0           ['batch_normalization_1116[0][0]'\n",
      "                                                                 ]                                \n",
      "                                                                                                  \n",
      " activation_1117 (Activation)   (None, 3, 5, 384)    0           ['batch_normalization_1117[0][0]'\n",
      "                                                                 ]                                \n",
      "                                                                                                  \n",
      " batch_normalization_1118 (Batc  (None, 3, 5, 192)   576         ['conv2d_1118[0][0]']            \n",
      " hNormalization)                                                                                  \n",
      "                                                                                                  \n",
      " activation_1110 (Activation)   (None, 3, 5, 320)    0           ['batch_normalization_1110[0][0]'\n",
      "                                                                 ]                                \n",
      "                                                                                                  \n",
      " mixed9_0 (Concatenate)         (None, 3, 5, 768)    0           ['activation_1112[0][0]',        \n",
      "                                                                  'activation_1113[0][0]']        \n",
      "                                                                                                  \n",
      " concatenate_22 (Concatenate)   (None, 3, 5, 768)    0           ['activation_1116[0][0]',        \n",
      "                                                                  'activation_1117[0][0]']        \n",
      "                                                                                                  \n",
      " activation_1118 (Activation)   (None, 3, 5, 192)    0           ['batch_normalization_1118[0][0]'\n",
      "                                                                 ]                                \n",
      "                                                                                                  \n",
      " mixed9 (Concatenate)           (None, 3, 5, 2048)   0           ['activation_1110[0][0]',        \n",
      "                                                                  'mixed9_0[0][0]',               \n",
      "                                                                  'concatenate_22[0][0]',         \n",
      "                                                                  'activation_1118[0][0]']        \n",
      "                                                                                                  \n",
      " conv2d_1123 (Conv2D)           (None, 3, 5, 448)    917504      ['mixed9[0][0]']                 \n",
      "                                                                                                  \n",
      " batch_normalization_1123 (Batc  (None, 3, 5, 448)   1344        ['conv2d_1123[0][0]']            \n",
      " hNormalization)                                                                                  \n",
      "                                                                                                  \n",
      " activation_1123 (Activation)   (None, 3, 5, 448)    0           ['batch_normalization_1123[0][0]'\n",
      "                                                                 ]                                \n",
      "                                                                                                  \n",
      " conv2d_1120 (Conv2D)           (None, 3, 5, 384)    786432      ['mixed9[0][0]']                 \n",
      "                                                                                                  \n",
      " conv2d_1124 (Conv2D)           (None, 3, 5, 384)    1548288     ['activation_1123[0][0]']        \n",
      "                                                                                                  \n",
      " batch_normalization_1120 (Batc  (None, 3, 5, 384)   1152        ['conv2d_1120[0][0]']            \n",
      " hNormalization)                                                                                  \n",
      "                                                                                                  \n",
      " batch_normalization_1124 (Batc  (None, 3, 5, 384)   1152        ['conv2d_1124[0][0]']            \n",
      " hNormalization)                                                                                  \n",
      "                                                                                                  \n",
      " activation_1120 (Activation)   (None, 3, 5, 384)    0           ['batch_normalization_1120[0][0]'\n",
      "                                                                 ]                                \n",
      "                                                                                                  \n",
      " activation_1124 (Activation)   (None, 3, 5, 384)    0           ['batch_normalization_1124[0][0]'\n",
      "                                                                 ]                                \n",
      "                                                                                                  \n",
      " conv2d_1121 (Conv2D)           (None, 3, 5, 384)    442368      ['activation_1120[0][0]']        \n",
      "                                                                                                  \n",
      " conv2d_1122 (Conv2D)           (None, 3, 5, 384)    442368      ['activation_1120[0][0]']        \n",
      "                                                                                                  \n",
      " conv2d_1125 (Conv2D)           (None, 3, 5, 384)    442368      ['activation_1124[0][0]']        \n",
      "                                                                                                  \n",
      " conv2d_1126 (Conv2D)           (None, 3, 5, 384)    442368      ['activation_1124[0][0]']        \n",
      "                                                                                                  \n",
      " average_pooling2d_107 (Average  (None, 3, 5, 2048)  0           ['mixed9[0][0]']                 \n",
      " Pooling2D)                                                                                       \n",
      "                                                                                                  \n",
      " conv2d_1119 (Conv2D)           (None, 3, 5, 320)    655360      ['mixed9[0][0]']                 \n",
      "                                                                                                  \n",
      " batch_normalization_1121 (Batc  (None, 3, 5, 384)   1152        ['conv2d_1121[0][0]']            \n",
      " hNormalization)                                                                                  \n",
      "                                                                                                  \n",
      " batch_normalization_1122 (Batc  (None, 3, 5, 384)   1152        ['conv2d_1122[0][0]']            \n",
      " hNormalization)                                                                                  \n",
      "                                                                                                  \n",
      " batch_normalization_1125 (Batc  (None, 3, 5, 384)   1152        ['conv2d_1125[0][0]']            \n",
      " hNormalization)                                                                                  \n",
      "                                                                                                  \n",
      " batch_normalization_1126 (Batc  (None, 3, 5, 384)   1152        ['conv2d_1126[0][0]']            \n",
      " hNormalization)                                                                                  \n",
      "                                                                                                  \n",
      " conv2d_1127 (Conv2D)           (None, 3, 5, 192)    393216      ['average_pooling2d_107[0][0]']  \n",
      "                                                                                                  \n",
      " batch_normalization_1119 (Batc  (None, 3, 5, 320)   960         ['conv2d_1119[0][0]']            \n",
      " hNormalization)                                                                                  \n",
      "                                                                                                  \n",
      " activation_1121 (Activation)   (None, 3, 5, 384)    0           ['batch_normalization_1121[0][0]'\n",
      "                                                                 ]                                \n",
      "                                                                                                  \n",
      " activation_1122 (Activation)   (None, 3, 5, 384)    0           ['batch_normalization_1122[0][0]'\n",
      "                                                                 ]                                \n",
      "                                                                                                  \n",
      " activation_1125 (Activation)   (None, 3, 5, 384)    0           ['batch_normalization_1125[0][0]'\n",
      "                                                                 ]                                \n",
      "                                                                                                  \n",
      " activation_1126 (Activation)   (None, 3, 5, 384)    0           ['batch_normalization_1126[0][0]'\n",
      "                                                                 ]                                \n",
      "                                                                                                  \n",
      " batch_normalization_1127 (Batc  (None, 3, 5, 192)   576         ['conv2d_1127[0][0]']            \n",
      " hNormalization)                                                                                  \n",
      "                                                                                                  \n",
      " activation_1119 (Activation)   (None, 3, 5, 320)    0           ['batch_normalization_1119[0][0]'\n",
      "                                                                 ]                                \n",
      "                                                                                                  \n",
      " mixed9_1 (Concatenate)         (None, 3, 5, 768)    0           ['activation_1121[0][0]',        \n",
      "                                                                  'activation_1122[0][0]']        \n",
      "                                                                                                  \n",
      " concatenate_23 (Concatenate)   (None, 3, 5, 768)    0           ['activation_1125[0][0]',        \n",
      "                                                                  'activation_1126[0][0]']        \n",
      "                                                                                                  \n",
      " activation_1127 (Activation)   (None, 3, 5, 192)    0           ['batch_normalization_1127[0][0]'\n",
      "                                                                 ]                                \n",
      "                                                                                                  \n",
      " mixed10 (Concatenate)          (None, 3, 5, 2048)   0           ['activation_1119[0][0]',        \n",
      "                                                                  'mixed9_1[0][0]',               \n",
      "                                                                  'concatenate_23[0][0]',         \n",
      "                                                                  'activation_1127[0][0]']        \n",
      "                                                                                                  \n",
      "==================================================================================================\n",
      "Total params: 21,802,784\n",
      "Trainable params: 21,768,352\n",
      "Non-trainable params: 34,432\n",
      "__________________________________________________________________________________________________\n"
     ]
    }
   ],
   "source": [
    "model.summary()"
   ]
  },
  {
   "cell_type": "markdown",
   "id": "8c1c83be",
   "metadata": {
    "id": "8c1c83be"
   },
   "source": [
    "### Training the Model"
   ]
  },
  {
   "cell_type": "code",
   "execution_count": 209,
   "id": "XEpqBcp47Uu3",
   "metadata": {
    "executionInfo": {
     "elapsed": 177,
     "status": "ok",
     "timestamp": 1661282417491,
     "user": {
      "displayName": "Mark Whelly",
      "userId": "14089540614639207633"
     },
     "user_tz": 420
    },
    "id": "XEpqBcp47Uu3"
   },
   "outputs": [],
   "source": [
    "# Trying ReduceLRonPlateau\n",
    "from tensorflow.keras.callbacks import ReduceLROnPlateau\n",
    "from tensorflow.keras.optimizers import RMSprop\n",
    "\n",
    "reduce_lr = ReduceLROnPlateau(monitor='val_loss', factor=0.6,\n",
    "                              patience=1,cooldown=1, min_lr=1e-5)"
   ]
  },
  {
   "cell_type": "code",
   "execution_count": 210,
   "id": "5b48a57c",
   "metadata": {
    "executionInfo": {
     "elapsed": 168,
     "status": "ok",
     "timestamp": 1661282433330,
     "user": {
      "displayName": "Mark Whelly",
      "userId": "14089540614639207633"
     },
     "user_tz": 420
    },
    "id": "5b48a57c"
   },
   "outputs": [],
   "source": [
    "#compile the InceptionV3 model with RMSprop\n",
    "model.compile(optimizer='RMSprop',loss='binary_crossentropy', metrics=[tf.keras.metrics.BinaryAccuracy(threshold=0.3),tf.keras.metrics.AUC()])"
   ]
  },
  {
   "cell_type": "code",
   "execution_count": 211,
   "id": "IiqyC9b9PQSZ",
   "metadata": {
    "colab": {
     "base_uri": "https://localhost:8080/",
     "height": 749
    },
    "executionInfo": {
     "elapsed": 5916,
     "status": "error",
     "timestamp": 1661282443217,
     "user": {
      "displayName": "Mark Whelly",
      "userId": "14089540614639207633"
     },
     "user_tz": 420
    },
    "id": "IiqyC9b9PQSZ",
    "outputId": "58a2b4ec-cc0e-41b1-fd40-a5f04729cb3d"
   },
   "outputs": [
    {
     "name": "stdout",
     "output_type": "stream",
     "text": [
      "Epoch 1/7\n"
     ]
    },
    {
     "ename": "ValueError",
     "evalue": "ignored",
     "output_type": "error",
     "traceback": [
      "\u001b[0;31m---------------------------------------------------------------------------\u001b[0m",
      "\u001b[0;31mValueError\u001b[0m                                Traceback (most recent call last)",
      "\u001b[0;32m<ipython-input-211-d98043ba2156>\u001b[0m in \u001b[0;36m<module>\u001b[0;34m\u001b[0m\n\u001b[1;32m      9\u001b[0m                     \u001b[0mbatch_size\u001b[0m \u001b[0;34m=\u001b[0m \u001b[0;36m16\u001b[0m\u001b[0;34m,\u001b[0m\u001b[0;34m\u001b[0m\u001b[0;34m\u001b[0m\u001b[0m\n\u001b[1;32m     10\u001b[0m                     \u001b[0mclass_weight\u001b[0m \u001b[0;34m=\u001b[0m \u001b[0mclassweights\u001b[0m\u001b[0;34m,\u001b[0m\u001b[0;34m\u001b[0m\u001b[0;34m\u001b[0m\u001b[0m\n\u001b[0;32m---> 11\u001b[0;31m                     callbacks=[reduce_lr])\n\u001b[0m",
      "\u001b[0;32m/usr/local/lib/python3.7/dist-packages/keras/utils/traceback_utils.py\u001b[0m in \u001b[0;36merror_handler\u001b[0;34m(*args, **kwargs)\u001b[0m\n\u001b[1;32m     65\u001b[0m     \u001b[0;32mexcept\u001b[0m \u001b[0mException\u001b[0m \u001b[0;32mas\u001b[0m \u001b[0me\u001b[0m\u001b[0;34m:\u001b[0m  \u001b[0;31m# pylint: disable=broad-except\u001b[0m\u001b[0;34m\u001b[0m\u001b[0;34m\u001b[0m\u001b[0m\n\u001b[1;32m     66\u001b[0m       \u001b[0mfiltered_tb\u001b[0m \u001b[0;34m=\u001b[0m \u001b[0m_process_traceback_frames\u001b[0m\u001b[0;34m(\u001b[0m\u001b[0me\u001b[0m\u001b[0;34m.\u001b[0m\u001b[0m__traceback__\u001b[0m\u001b[0;34m)\u001b[0m\u001b[0;34m\u001b[0m\u001b[0;34m\u001b[0m\u001b[0m\n\u001b[0;32m---> 67\u001b[0;31m       \u001b[0;32mraise\u001b[0m \u001b[0me\u001b[0m\u001b[0;34m.\u001b[0m\u001b[0mwith_traceback\u001b[0m\u001b[0;34m(\u001b[0m\u001b[0mfiltered_tb\u001b[0m\u001b[0;34m)\u001b[0m \u001b[0;32mfrom\u001b[0m \u001b[0;32mNone\u001b[0m\u001b[0;34m\u001b[0m\u001b[0;34m\u001b[0m\u001b[0m\n\u001b[0m\u001b[1;32m     68\u001b[0m     \u001b[0;32mfinally\u001b[0m\u001b[0;34m:\u001b[0m\u001b[0;34m\u001b[0m\u001b[0;34m\u001b[0m\u001b[0m\n\u001b[1;32m     69\u001b[0m       \u001b[0;32mdel\u001b[0m \u001b[0mfiltered_tb\u001b[0m\u001b[0;34m\u001b[0m\u001b[0;34m\u001b[0m\u001b[0m\n",
      "\u001b[0;32m/usr/local/lib/python3.7/dist-packages/tensorflow/python/framework/func_graph.py\u001b[0m in \u001b[0;36mautograph_handler\u001b[0;34m(*args, **kwargs)\u001b[0m\n\u001b[1;32m   1145\u001b[0m           \u001b[0;32mexcept\u001b[0m \u001b[0mException\u001b[0m \u001b[0;32mas\u001b[0m \u001b[0me\u001b[0m\u001b[0;34m:\u001b[0m  \u001b[0;31m# pylint:disable=broad-except\u001b[0m\u001b[0;34m\u001b[0m\u001b[0;34m\u001b[0m\u001b[0m\n\u001b[1;32m   1146\u001b[0m             \u001b[0;32mif\u001b[0m \u001b[0mhasattr\u001b[0m\u001b[0;34m(\u001b[0m\u001b[0me\u001b[0m\u001b[0;34m,\u001b[0m \u001b[0;34m\"ag_error_metadata\"\u001b[0m\u001b[0;34m)\u001b[0m\u001b[0;34m:\u001b[0m\u001b[0;34m\u001b[0m\u001b[0;34m\u001b[0m\u001b[0m\n\u001b[0;32m-> 1147\u001b[0;31m               \u001b[0;32mraise\u001b[0m \u001b[0me\u001b[0m\u001b[0;34m.\u001b[0m\u001b[0mag_error_metadata\u001b[0m\u001b[0;34m.\u001b[0m\u001b[0mto_exception\u001b[0m\u001b[0;34m(\u001b[0m\u001b[0me\u001b[0m\u001b[0;34m)\u001b[0m\u001b[0;34m\u001b[0m\u001b[0;34m\u001b[0m\u001b[0m\n\u001b[0m\u001b[1;32m   1148\u001b[0m             \u001b[0;32melse\u001b[0m\u001b[0;34m:\u001b[0m\u001b[0;34m\u001b[0m\u001b[0;34m\u001b[0m\u001b[0m\n\u001b[1;32m   1149\u001b[0m               \u001b[0;32mraise\u001b[0m\u001b[0;34m\u001b[0m\u001b[0;34m\u001b[0m\u001b[0m\n",
      "\u001b[0;31mValueError\u001b[0m: in user code:\n\n    File \"/usr/local/lib/python3.7/dist-packages/keras/engine/training.py\", line 1021, in train_function  *\n        return step_function(self, iterator)\n    File \"/usr/local/lib/python3.7/dist-packages/keras/engine/training.py\", line 1010, in step_function  **\n        outputs = model.distribute_strategy.run(run_step, args=(data,))\n    File \"/usr/local/lib/python3.7/dist-packages/keras/engine/training.py\", line 1000, in run_step  **\n        outputs = model.train_step(data)\n    File \"/usr/local/lib/python3.7/dist-packages/keras/engine/training.py\", line 864, in train_step\n        return self.compute_metrics(x, y, y_pred, sample_weight)\n    File \"/usr/local/lib/python3.7/dist-packages/keras/engine/training.py\", line 957, in compute_metrics\n        self.compiled_metrics.update_state(y, y_pred, sample_weight)\n    File \"/usr/local/lib/python3.7/dist-packages/keras/engine/compile_utils.py\", line 459, in update_state\n        metric_obj.update_state(y_t, y_p, sample_weight=mask)\n    File \"/usr/local/lib/python3.7/dist-packages/keras/utils/metrics_utils.py\", line 70, in decorated\n        update_op = update_state_fn(*args, **kwargs)\n    File \"/usr/local/lib/python3.7/dist-packages/keras/metrics.py\", line 178, in update_state_fn\n        return ag_update_state(*args, **kwargs)\n    File \"/usr/local/lib/python3.7/dist-packages/keras/metrics.py\", line 2364, in update_state  **\n        label_weights=label_weights)\n    File \"/usr/local/lib/python3.7/dist-packages/keras/utils/metrics_utils.py\", line 619, in update_confusion_matrix_variables\n        y_pred.shape.assert_is_compatible_with(y_true.shape)\n\n    ValueError: Shapes (None, 3, 5, 2048) and (None, None) are incompatible\n"
     ]
    }
   ],
   "source": [
    "# set class weight dictionary for imabalanced training set\n",
    "classweights = {0:2,1:1} # given we have twice as many class 0 normals as class 1 ODC cases, this rebalances weights\n",
    "\n",
    "history = model.fit(train_generator,\n",
    "                    epochs=7,\n",
    "                    validation_data = validation_generator,\n",
    "                    batch_size = 16,\n",
    "                    class_weight = classweights,\n",
    "                    callbacks=[reduce_lr])"
   ]
  },
  {
   "cell_type": "markdown",
   "id": "2972eda2",
   "metadata": {},
   "source": [
    "# Test Set"
   ]
  },
  {
   "cell_type": "code",
   "execution_count": null,
   "id": "74f05f34",
   "metadata": {},
   "outputs": [],
   "source": [
    "cd/gdrive/My Drive/Retimages/Test"
   ]
  },
  {
   "cell_type": "code",
   "execution_count": null,
   "id": "G57EEdQA2EOf",
   "metadata": {
    "executionInfo": {
     "elapsed": 4,
     "status": "aborted",
     "timestamp": 1661282443218,
     "user": {
      "displayName": "Mark Whelly",
      "userId": "14089540614639207633"
     },
     "user_tz": 420
    },
    "id": "G57EEdQA2EOf"
   },
   "outputs": [],
   "source": [
    "test_datagen = ImageDataGenerator(rescale=1/255)\n",
    "test_generator = test_datagen.flow_from_directory('./Test/TestODCeqh',\n",
    "                                                  target_size=(height,width),\n",
    "                                                  color_mode='rgb',\n",
    "                                                  batch_size=206,\n",
    "                                                  class_mode='categorical')\n",
    "\n",
    "X_test, y_test = test_generator.next()"
   ]
  },
  {
   "cell_type": "markdown",
   "id": "3c9acc0e",
   "metadata": {},
   "source": [
    "# Model Predictions and Evaluation"
   ]
  },
  {
   "cell_type": "code",
   "execution_count": 200,
   "id": "mB-9MesCAqNp",
   "metadata": {
    "colab": {
     "base_uri": "https://localhost:8080/"
    },
    "executionInfo": {
     "elapsed": 1453,
     "status": "ok",
     "timestamp": 1661282304242,
     "user": {
      "displayName": "Mark Whelly",
      "userId": "14089540614639207633"
     },
     "user_tz": 420
    },
    "id": "mB-9MesCAqNp",
    "outputId": "1cb08b55-242c-47c3-828f-ad76c815f573"
   },
   "outputs": [
    {
     "data": {
      "text/plain": [
       "(206, 2)"
      ]
     },
     "execution_count": 200,
     "metadata": {},
     "output_type": "execute_result"
    }
   ],
   "source": [
    "predict_probas = model.predict(X_test)\n",
    "predict_probas.shape"
   ]
  },
  {
   "cell_type": "code",
   "execution_count": 201,
   "id": "HfVBu4oP7nyW",
   "metadata": {
    "executionInfo": {
     "elapsed": 5,
     "status": "ok",
     "timestamp": 1661282304243,
     "user": {
      "displayName": "Mark Whelly",
      "userId": "14089540614639207633"
     },
     "user_tz": 420
    },
    "id": "HfVBu4oP7nyW"
   },
   "outputs": [],
   "source": [
    "# Convert probabilities to label encoding\n",
    "y_predict = np.argmax(predict_probas, axis=1)"
   ]
  },
  {
   "cell_type": "code",
   "execution_count": 202,
   "id": "d2471fd9",
   "metadata": {
    "colab": {
     "base_uri": "https://localhost:8080/",
     "height": 302
    },
    "executionInfo": {
     "elapsed": 398,
     "status": "ok",
     "timestamp": 1661282305867,
     "user": {
      "displayName": "Mark Whelly",
      "userId": "14089540614639207633"
     },
     "user_tz": 420
    },
    "id": "d2471fd9",
    "outputId": "01651842-9008-40eb-d712-15a67d810f49"
   },
   "outputs": [
    {
     "data": {
      "image/png": "[encoded data removed]",
      "text/plain": [
       "<Figure size 432x288 with 1 Axes>"
      ]
     },
     "metadata": {
      "needs_background": "light"
     },
     "output_type": "display_data"
    }
   ],
   "source": [
    "# Construct the confusion matrix\n",
    "from sklearn.metrics import confusion_matrix, precision_score, recall_score, f1_score, accuracy_score\n",
    "\n",
    "# Convert our test labels from one-hot encoding to label encoding\n",
    "y_test_labels = np.argmax(y_test,axis=1)\n",
    "\n",
    "conf_mat = confusion_matrix(y_test_labels,y_predict)\n",
    "normalized_conf_mat = conf_mat / conf_mat.sum(axis=1)\n",
    "\n",
    "plt.figure()\n",
    "sns.heatmap(normalized_conf_mat,\n",
    "            annot=True,\n",
    "            cbar=False,\n",
    "            fmt='.1%',\n",
    "            cmap=\"Blues\",\n",
    "            linewidths=1\n",
    "           )\n",
    "plt.title('Confusion Matrix - ODC',size = 15,y=1.01)\n",
    "plt.xlabel(\"Predicted Label\", size = 15)\n",
    "plt.ylabel(\"True Label\", size = 15)\n",
    "plt.show()"
   ]
  },
  {
   "cell_type": "markdown",
   "id": "e7a8329a",
   "metadata": {},
   "source": [
    "The above matrix shows acceptable recall, precision and test accuracy for detection of ODC cases in retinal images. See classification report below."
   ]
  },
  {
   "cell_type": "code",
   "execution_count": 152,
   "id": "nHCefEXGouzJ",
   "metadata": {
    "colab": {
     "base_uri": "https://localhost:8080/"
    },
    "executionInfo": {
     "elapsed": 191,
     "status": "ok",
     "timestamp": 1661276191265,
     "user": {
      "displayName": "Mark Whelly",
      "userId": "14089540614639207633"
     },
     "user_tz": 420
    },
    "id": "nHCefEXGouzJ",
    "outputId": "97fb8200-4bc2-4d91-d950-59c7e8cb2f23"
   },
   "outputs": [
    {
     "name": "stdout",
     "output_type": "stream",
     "text": [
      "F1 Score: 0.637\n"
     ]
    }
   ],
   "source": [
    "print('F1 Score: %.3f' % f1_score(y_test_labels, y_predict))"
   ]
  },
  {
   "cell_type": "code",
   "execution_count": 203,
   "id": "kenCHlQoe9D3",
   "metadata": {
    "colab": {
     "base_uri": "https://localhost:8080/"
    },
    "executionInfo": {
     "elapsed": 195,
     "status": "ok",
     "timestamp": 1661282310384,
     "user": {
      "displayName": "Mark Whelly",
      "userId": "14089540614639207633"
     },
     "user_tz": 420
    },
    "id": "kenCHlQoe9D3",
    "outputId": "0e53798b-fe35-434a-c96a-f63259f7c027"
   },
   "outputs": [
    {
     "name": "stdout",
     "output_type": "stream",
     "text": [
      "              precision    recall  f1-score   support\n",
      "\n",
      "           0       0.76      0.79      0.78       134\n",
      "           1       0.58      0.54      0.56        72\n",
      "\n",
      "    accuracy                           0.70       206\n",
      "   macro avg       0.67      0.67      0.67       206\n",
      "weighted avg       0.70      0.70      0.70       206\n",
      "\n"
     ]
    }
   ],
   "source": [
    "from sklearn.metrics import classification_report\n",
    "\n",
    "report_initial = classification_report(y_test_labels, y_predict)\n",
    "print(report_initial)"
   ]
  },
  {
   "cell_type": "code",
   "execution_count": 191,
   "id": "tcxz_OiOGaB2",
   "metadata": {
    "colab": {
     "base_uri": "https://localhost:8080/",
     "height": 590
    },
    "executionInfo": {
     "elapsed": 714,
     "status": "ok",
     "timestamp": 1661280529541,
     "user": {
      "displayName": "Mark Whelly",
      "userId": "14089540614639207633"
     },
     "user_tz": 420
    },
    "id": "tcxz_OiOGaB2",
    "outputId": "e9289d4b-4dca-44bc-83bb-89db37111d74"
   },
   "outputs": [
    {
     "name": "stdout",
     "output_type": "stream",
     "text": [
      "dict_keys(['loss', 'binary_accuracy', 'auc_8', 'val_loss', 'val_binary_accuracy', 'val_auc_8', 'lr'])\n"
     ]
    },
    {
     "data": {
      "image/png": "[encoded data removed]",
      "text/plain": [
       "<Figure size 432x288 with 1 Axes>"
      ]
     },
     "metadata": {
      "needs_background": "light"
     },
     "output_type": "display_data"
    },
    {
     "data": {
      "image/png": "[encoded data removed]",
      "text/plain": [
       "<Figure size 432x288 with 1 Axes>"
      ]
     },
     "metadata": {
      "needs_background": "light"
     },
     "output_type": "display_data"
    }
   ],
   "source": [
    "# list all data in history\n",
    "print(history.history.keys())\n",
    "\n",
    "# summarize history for accuracy\n",
    "plt.plot(history.history['binary_accuracy'])\n",
    "plt.plot(history.history['val_binary_accuracy'])\n",
    "plt.title('Retinal Image Health - ODC Model accuracy')\n",
    "plt.ylabel('accuracy')\n",
    "plt.xlabel('epoch')\n",
    "plt.xticks(np.arange(0,18,3))\n",
    "plt.legend(['train acc', 'validation acc'])\n",
    "plt.show()\n",
    "\n",
    "# summarize history for loss\n",
    "plt.plot(history.history['loss'])\n",
    "plt.plot(history.history['val_loss'])\n",
    "plt.title('Retinal Image Health - ODC Model loss')\n",
    "plt.ylabel('loss')\n",
    "plt.xlabel('epoch')\n",
    "plt.xticks(np.arange(0,18,3))\n",
    "plt.legend(['train loss', 'val loss'])\n",
    "plt.show()"
   ]
  },
  {
   "cell_type": "code",
   "execution_count": null,
   "id": "338c4ef4",
   "metadata": {},
   "outputs": [],
   "source": [
    "# save model\n",
    "model.save('Eye_ODC_Binary__Incept_24Aug2022.h5')"
   ]
  },
  {
   "cell_type": "code",
   "execution_count": null,
   "id": "OdgWnWiqtOLC",
   "metadata": {
    "id": "OdgWnWiqtOLC"
   },
   "outputs": [],
   "source": [
    "pip install scikit-plot"
   ]
  },
  {
   "cell_type": "code",
   "execution_count": null,
   "id": "aUKjEIj2CFT-",
   "metadata": {
    "colab": {
     "base_uri": "https://localhost:8080/",
     "height": 329
    },
    "executionInfo": {
     "elapsed": 502,
     "status": "ok",
     "timestamp": 1661207860100,
     "user": {
      "displayName": "Mark Whelly",
      "userId": "14089540614639207633"
     },
     "user_tz": 420
    },
    "id": "aUKjEIj2CFT-",
    "outputId": "19d299d0-6491-4ee8-ff0f-f39d445ee597"
   },
   "outputs": [
    {
     "data": {
      "image/png": "[encoded data removed]",
      "text/plain": [
       "<Figure size 432x288 with 1 Axes>"
      ]
     },
     "metadata": {
      "needs_background": "light"
     },
     "output_type": "display_data"
    },
    {
     "name": "stdout",
     "output_type": "stream",
     "text": [
      "Area under curve (AUC):0.5961857379767828\n",
      "\n"
     ]
    }
   ],
   "source": [
    "# Plot of ROC Curves per Class\n",
    "\n",
    "from IPython.core.pylabtools import figsize\n",
    "import scikitplot as skplt\n",
    "import matplotlib.pyplot as plt\n",
    "skplt.metrics.plot_roc(y_test_labels, predict_probas)\n",
    "plt.figure(figsize=(14,12),dpi=100)\n",
    "plt.show()"
   ]
  },
  {
   "cell_type": "code",
   "execution_count": null,
   "id": "efb177f5",
   "metadata": {},
   "outputs": [],
   "source": [
    "from sklearn.metrics import roc_curve, roc_auc_score\n",
    "\n",
    "fprs, tprs, thresholds = roc_curve(y_test_labels, y_predict) \n",
    "roc_auc = roc_auc_score(y_test_labels, y_predict)  \n",
    "\n",
    "plt.figure()\n",
    "plt.plot(fprs, tprs, color='orange',\n",
    "         lw=2, label='AUC = %0.2f' % roc_auc)\n",
    "plt.plot([0, 1], [0, 1], color='navy', lw=2, linestyle='--')\n",
    "plt.xlabel('False Positive Rate (FPR)')\n",
    "plt.ylabel('True Positive Rate (TPR)')\n",
    "plt.title('ROC Curve - ODC Model ')\n",
    "plt.legend(loc=\"best\")\n",
    "plt.show()"
   ]
  },
  {
   "cell_type": "markdown",
   "id": "bc0d476a",
   "metadata": {
    "id": "bc0d476a"
   },
   "source": [
    "#### Incorrectly Predicted Images\n",
    "As our final evaluation of our model, we will look at the images that were incorrectly predicted to see if there are any patterns."
   ]
  },
  {
   "cell_type": "code",
   "execution_count": 155,
   "id": "b5417881",
   "metadata": {
    "colab": {
     "base_uri": "https://localhost:8080/",
     "height": 1000,
     "output_embedded_package_id": "13F9kf-EEah4YBkjmJZp7k8y8-wJB8EYi"
    },
    "executionInfo": {
     "elapsed": 7056,
     "status": "ok",
     "timestamp": 1661276270537,
     "user": {
      "displayName": "Mark Whelly",
      "userId": "14089540614639207633"
     },
     "user_tz": 420
    },
    "id": "b5417881",
    "outputId": "2aef0803-7c26-401d-e854-09ed681e2e75"
   },
   "outputs": [
    {
     "data": {
      "text/plain": [
       "Output hidden; open in https://colab.research.google.com to view."
      ]
     },
     "metadata": {},
     "output_type": "display_data"
    }
   ],
   "source": [
    "import math\n",
    "\n",
    "incorrect_photos = y_test_labels != y_predict\n",
    "\n",
    "num_images = np.count_nonzero(incorrect_photos)\n",
    "columns = 3\n",
    "rows = math.ceil(num_images / columns)\n",
    "\n",
    "fig, axes = plt.subplots(nrows=rows, ncols=columns, figsize=(12,3*rows))\n",
    "axes = axes.flatten()\n",
    "\n",
    "for i, image in enumerate(X_test[incorrect_photos]):\n",
    "    axes[i].imshow(image, cmap='gray')\n",
    "\n",
    "    # Get predicted label\n",
    "    #predicted_label = labels[y_predict[incorrect_photos][i]]\n",
    "    predicted = y_predict[incorrect_photos][i]\n",
    "\n",
    "    # Get actual label\n",
    "    #true_label =  labels[y_test_labels[incorrect_photos][i]]\n",
    "    actual = y_test_labels[incorrect_photos][i]\n",
    "    \n",
    "    #Get filename of image\n",
    "    filenam = test_generator.filenames[i]\n",
    "    x=filenam[8:]\n",
    "\n",
    "    # Set the title of the subplot\n",
    "    axes[i].set_title(f\"\\n IMAGE: {x} \\n Predicted: {predicted}   True: {actual}\\n\")\n",
    "    \n",
    "    # Hide the x and y ticks to make \n",
    "    axes[i].set_xticks([]) \n",
    "    axes[i].set_yticks([])\n",
    "    \n",
    "fig.tight_layout()\n",
    "# Hide unused subplots\n",
    "for i in range(num_images, rows*columns):\n",
    "    fig.delaxes(axes[i])\n",
    "plt.show()"
   ]
  },
  {
   "cell_type": "code",
   "execution_count": 156,
   "id": "88ead857",
   "metadata": {
    "colab": {
     "base_uri": "https://localhost:8080/"
    },
    "executionInfo": {
     "elapsed": 211,
     "status": "ok",
     "timestamp": 1661276287614,
     "user": {
      "displayName": "Mark Whelly",
      "userId": "14089540614639207633"
     },
     "user_tz": 420
    },
    "id": "88ead857",
    "outputId": "5d063223-b09b-4cea-dea5-2aa4ef3baef9"
   },
   "outputs": [
    {
     "name": "stdout",
     "output_type": "stream",
     "text": [
      "Accuracy: 0.7233009708737864\n",
      "Number of misclassified images = 57  out of 206\n"
     ]
    }
   ],
   "source": [
    "# Find all misclassified images in a given test set\n",
    "\n",
    "MISCLASSIFIED = num_images\n",
    "\n",
    "# Accuracy calculations\n",
    "total = Num_Test_Images\n",
    "num_correct = total - (MISCLASSIFIED)\n",
    "accuracy = num_correct/total\n",
    "\n",
    "print('Accuracy: ' + str(accuracy))\n",
    "print(f\"Number of misclassified images = {MISCLASSIFIED}  out of {total}\")"
   ]
  },
  {
   "cell_type": "markdown",
   "id": "1069cc19",
   "metadata": {
    "id": "04d1001c"
   },
   "source": [
    "# Concluding Remarks\n",
    "\n",
    "This model provided great binary classification results for evaluating if eyes are healthy or show signs of Optic Disc Cupping. The model showed 74% recall, 76% precision, and 74% test accuracy."
   ]
  }
 ],
 "metadata": {
  "accelerator": "GPU",
  "colab": {
   "collapsed_sections": [],
   "machine_shape": "hm",
   "name": "EYE_ODConly_incept3.ipynb",
   "provenance": []
  },
  "gpuClass": "standard",
  "kernelspec": {
   "display_name": "Python 3 (ipykernel)",
   "language": "python",
   "name": "python3"
  },
  "language_info": {
   "codemirror_mode": {
    "name": "ipython",
    "version": 3
   },
   "file_extension": ".py",
   "mimetype": "text/x-python",
   "name": "python",
   "nbconvert_exporter": "python",
   "pygments_lexer": "ipython3",
   "version": "3.8.2"
  }
 },
 "nbformat": 4,
 "nbformat_minor": 5
}
